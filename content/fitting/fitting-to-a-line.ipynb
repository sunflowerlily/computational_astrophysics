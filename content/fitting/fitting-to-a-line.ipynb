{
 "cells": [
  {
   "cell_type": "markdown",
   "id": "025caed0-99d9-42e9-9d1c-685fa7e2b285",
   "metadata": {},
   "source": [
    "# Fitting to a Line"
   ]
  },
  {
   "cell_type": "markdown",
   "id": "8447b935-f1db-48d8-ae81-5155e4bb0b58",
   "metadata": {},
   "source": [
    "Let's consider the case of fitting data to a line.  Our model has the form:\n",
    "\n",
    "$$Y(x; a_1, a_2) = a_1 + a_2 x$$\n",
    "\n",
    "and our fit appears as:\n",
    "\n",
    "$$\\chi^2(a_1, a_2) = \\sum_{i=1}^N \\frac{(a_1 + a_2 x_i - y_i)^2}{\\sigma_i^2}$$\n",
    "\n",
    "We want to minimize $\\chi^2(a_1, a_2)$.\n",
    "\n",
    "We will actually care about the [_reduced chi-square_](https://en.wikipedia.org/wiki/Reduced_chi-squared_statistic), which is scaled by the number of degrees of freedom, $N - M$, where $N$ is the number of data points and $M$ is the number of fitting parameters."
   ]
  },
  {
   "cell_type": "markdown",
   "id": "1be707d1-8f00-4d9a-a8be-2642e7b5ae04",
   "metadata": {},
   "source": [
    "```{tip}\n",
    "Generally we want the $\\chi^2 < 1$ for a fit to be considered \"good\".\n",
    "```"
   ]
  },
  {
   "cell_type": "markdown",
   "id": "f41aff95-c4f6-4e72-8737-a0226ad5d716",
   "metadata": {},
   "source": [
    "We start by differentiating with respect to the fit parameters and setting the derivatives to zero:\n",
    "\n",
    "\\begin{align*}\n",
    "\\frac{\\partial \\chi^2}{\\partial a_1} &= \n",
    "  2 \\sum_{i=1}^{N} \\frac{a_1 + a_2 x_i - y_i}{\\sigma_i^2} = 0 \\\\\n",
    "\\frac{\\partial \\chi^2}{\\partial a_2} &= \n",
    "  2 \\sum_{i=1}^{N} \\frac{a_1 + a_2 x_i - y_i}{\\sigma_i^2}  x_i= 0\n",
    "\\end{align*}\n",
    "\n",
    "Separating the terms, we have:\n",
    "\n",
    "\\begin{align*}\n",
    "a_1 \\sum_{i=1}^N \\frac{1}{\\sigma_i^2} + a_2 \\sum_{i=1}^N \\frac{x_i}{\\sigma_i^2} - \\sum_{i=1}^N \\frac{y_i}{\\sigma_i^2} &= 0 \\\\\n",
    "a_1 \\sum_{i=1}^N \\frac{x_i}{\\sigma_i^2} + a_2 \\sum_{i=1}^N \\frac{x_i^2}{\\sigma_i^2} - \\sum_{i=1}^N \\frac{x_i y_i}{\\sigma_i^2} &= 0\n",
    "\\end{align*}\n",
    "\n",
    "This is a linear system with 2 equations and 2 unknowns."
   ]
  },
  {
   "cell_type": "markdown",
   "id": "7426a35f-4da6-401f-8034-cbee05db676b",
   "metadata": {},
   "source": [
    "Let's define:\n",
    "\n",
    "\\begin{align*}\n",
    "C &= \\sum_{i=1}^N \\frac{1}{\\sigma_i^2} \\\\\n",
    "S_x &= \\sum_{i=1}^N \\frac{x_i}{\\sigma_i^2} \\\\\n",
    "S_y &= \\sum_{i=1}^N \\frac{y_i}{\\sigma_i^2} \\\\\n",
    "S_{x^2} &= \\sum_{i=1}^N \\frac{x_i^2}{\\sigma_i^2} \\\\\n",
    "S_{xy} &= \\sum_{i=1}^N \\frac{x_i y_i}{\\sigma_i^2}\n",
    "\\end{align*}\n",
    "\n",
    "Then our system is:\n",
    "\n",
    "\\begin{align*}\n",
    "a_1 C + a_2 S_x - S_y &= 0 \\\\\n",
    "a_1 S_x + a_2 S_{x^2} - S_{xy} &= 0\n",
    "\\end{align*}\n",
    "\n",
    "We can solve this easily:\n",
    "\n",
    "$$a_1 = \\frac{S_{x^2} S_y - S_x S_{xy}}{C S_{x^2} - S_x^2}$$\n",
    "$$a_2 = \\frac{C S_{xy} - S_x S_y}{C S_{x^2} - S_x^2}$$"
   ]
  },
  {
   "cell_type": "markdown",
   "id": "a1dd71de-cb50-4cf8-aff9-b1740929a5c8",
   "metadata": {},
   "source": [
    "## Example data\n",
    "\n",
    "Let's make some sample data that we perturb with Gaussian-normalized noise.  We'll use the `numpy.random.randn()` function. \n",
    "(Note, in C++, you can generate random numbers in a normal distribution via [`std::normal_distribution`](https://en.cppreference.com/w/cpp/numeric/random/normal_distribution)).\n",
    "\n",
    "Let's first see how this works.  Let's take a large number of samples and also plot a Gaussian distribution:\n",
    "\n",
    "\n",
    "$$y(x) = \\frac{1}{\\sigma \\sqrt{2\\pi}}  e^{-x^2/(2 \\sigma^2)}$$"
   ]
  },
  {
   "cell_type": "code",
   "execution_count": 1,
   "id": "f0b8ba9b-96ff-4d19-98f0-4b990690bd75",
   "metadata": {
    "tags": []
   },
   "outputs": [],
   "source": [
    "import numpy as np\n",
    "import matplotlib.pyplot as plt"
   ]
  },
  {
   "cell_type": "code",
   "execution_count": 2,
   "id": "788f775c-945f-4473-8780-fa875667984f",
   "metadata": {
    "tags": []
   },
   "outputs": [
    {
     "data": {
      "text/plain": [
       "Text(0.5, 0, 'x')"
      ]
     },
     "execution_count": 2,
     "metadata": {},
     "output_type": "execute_result"
    },
    {
     "data": {
      "image/png": "[encoded data removed]",
      "text/plain": [
       "<Figure size 640x480 with 1 Axes>"
      ]
     },
     "metadata": {},
     "output_type": "display_data"
    }
   ],
   "source": [
    "N = 10000\n",
    "r = np.random.randn(N)\n",
    "\n",
    "fig, ax = plt.subplots()\n",
    "ax.hist(r, density=True, bins=20)\n",
    "\n",
    "x = np.linspace(-5, 5, 200)\n",
    "sigma = 1.0\n",
    "ax.plot(x, np.exp(-x**2/(2*sigma**2)) / (sigma*np.sqrt(2.0*np.pi)), lw=2)\n",
    "ax.set_xlabel(\"x\")"
   ]
  },
  {
   "cell_type": "markdown",
   "id": "706ba985-f95c-4f65-8331-9a07c8c4dc21",
   "metadata": {},
   "source": [
    "Now we can make some _experimental data_.  This will be data that follows a line, but is perturbed by a Gaussian-normalized random number, to give it some experimental error."
   ]
  },
  {
   "cell_type": "code",
   "execution_count": 36,
   "id": "18a6beef-420c-48df-9323-af8f511e83dc",
   "metadata": {
    "tags": []
   },
   "outputs": [],
   "source": [
    "def y_experiment(a1, a2, sigma, x):\n",
    "    \"\"\" return the experimental data and error in a linear + random\n",
    "    fashion; a1 is the intercept, a2 is the slope, and sigma is the\n",
    "    error scale\"\"\"\n",
    "\n",
    "    N = len(x)\n",
    "    r = sigma * np.random.randn(N)\n",
    "\n",
    "    return a1 + a2*x + r, np.abs(r)"
   ]
  },
  {
   "cell_type": "markdown",
   "id": "33b35979-f241-420a-a92b-a6f44075a905",
   "metadata": {
    "tags": []
   },
   "source": [
    "Now we can make the data that we want to fit to."
   ]
  },
  {
   "cell_type": "code",
   "execution_count": 37,
   "id": "46299e9d-94ff-479f-a1e0-7bd70b828646",
   "metadata": {
    "tags": []
   },
   "outputs": [],
   "source": [
    "# number of data points\n",
    "N = 40\n",
    "\n",
    "# one-sigma error\n",
    "sigma = 25.0\n",
    "\n",
    "# independent variable\n",
    "x = np.linspace(0.0, 100, N)\n",
    "\n",
    "y, yerr = y_experiment(10.0, 3.0, sigma, x)"
   ]
  },
  {
   "cell_type": "markdown",
   "id": "2ea8f8a2-e40a-49f3-878d-789defbfabc0",
   "metadata": {},
   "source": [
    "Let's look at our \"experiment\":"
   ]
  },
  {
   "cell_type": "code",
   "execution_count": 39,
   "id": "b7530d2b-bf83-495f-9bb2-6c86f175a04b",
   "metadata": {
    "tags": []
   },
   "outputs": [
    {
     "data": {
      "text/plain": [
       "<ErrorbarContainer object of 3 artists>"
      ]
     },
     "execution_count": 39,
     "metadata": {},
     "output_type": "execute_result"
    },
    {
     "data": {
      "image/png": "[encoded data removed]",
      "text/plain": [
       "<Figure size 640x480 with 1 Axes>"
      ]
     },
     "metadata": {},
     "output_type": "display_data"
    }
   ],
   "source": [
    "fig, ax = plt.subplots()\n",
    "ax.errorbar(x, y, yerr=yerr, fmt=\"o\")"
   ]
  },
  {
   "cell_type": "markdown",
   "id": "0d371980-1b33-40cc-957b-2e48c419cb4d",
   "metadata": {
    "tags": []
   },
   "source": [
    "Now we can write a function to do the fitting"
   ]
  },
  {
   "cell_type": "code",
   "execution_count": 40,
   "id": "0e5e452d-30c3-430a-a063-5e2219cd8534",
   "metadata": {
    "tags": []
   },
   "outputs": [],
   "source": [
    "def linear_regression(x, y, yerr):\n",
    "    \"\"\"fit data (x_i, y_i) with errors {yerr_i} to a line\"\"\"\n",
    "    \n",
    "    N = len(x)\n",
    "\n",
    "    C = np.sum(1.0 / yerr**2)\n",
    "\n",
    "    S_x = np.sum(x / yerr**2)\n",
    "    S_x2 = np.sum(x * x / yerr**2)\n",
    "\n",
    "    S_y = np.sum(y / yerr**2)\n",
    "    S_xy = np.sum(x * y / yerr**2)\n",
    "\n",
    "    a2 = (C * S_xy - S_x * S_y)/(C * S_x2 - S_x**2)\n",
    "    a1 = (S_y * S_x2 - S_xy * S_x) / (C * S_x2 - S_x**2)\n",
    "\n",
    "    chisq = np.sum((a1 + a2 * x - y)**2 / yerr**2)\n",
    "    chisq /= N-2\n",
    "\n",
    "    return a1, a2, chisq"
   ]
  },
  {
   "cell_type": "code",
   "execution_count": 41,
   "id": "4c1d49aa-5406-4caf-acdf-1f01a4329ada",
   "metadata": {
    "tags": []
   },
   "outputs": [],
   "source": [
    "a1, a2, chisq = linear_regression(x, y, yerr)"
   ]
  },
  {
   "cell_type": "markdown",
   "id": "6cc7f253-0db6-4b48-a0cc-c568242c1eaa",
   "metadata": {
    "tags": []
   },
   "source": [
    "Now we can look at how well our fit does:"
   ]
  },
  {
   "cell_type": "code",
   "execution_count": 42,
   "id": "88d9e572-e867-4c02-b9c6-0c690b617fb7",
   "metadata": {
    "tags": []
   },
   "outputs": [
    {
     "data": {
      "image/png": "[encoded data removed]",
      "text/plain": [
       "<Figure size 640x480 with 1 Axes>"
      ]
     },
     "execution_count": 42,
     "metadata": {},
     "output_type": "execute_result"
    }
   ],
   "source": [
    "ax.plot(x, a1 + a2*x)\n",
    "fig"
   ]
  },
  {
   "cell_type": "markdown",
   "id": "cfd50119-8c0d-4c1a-a740-86029b72d05a",
   "metadata": {},
   "source": [
    "## Pathologies\n",
    "\n",
    "We need to be careful to not over-interpret a fit.  Consider the [Anscombe's quartet](https://en.wikipedia.org/wiki/Anscombe%27s_quartet).  These 4 very different datasets all have the same linear fit (to a few digits significance)."
   ]
  }
 ],
 "metadata": {
  "kernelspec": {
   "display_name": "Python 3 (ipykernel)",
   "language": "python",
   "name": "python3"
  },
  "language_info": {
   "codemirror_mode": {
    "name": "ipython",
    "version": 3
   },
   "file_extension": ".py",
   "mimetype": "text/x-python",
   "name": "python",
   "nbconvert_exporter": "python",
   "pygments_lexer": "ipython3",
   "version": "3.13.0"
  }
 },
 "nbformat": 4,
 "nbformat_minor": 5
}
