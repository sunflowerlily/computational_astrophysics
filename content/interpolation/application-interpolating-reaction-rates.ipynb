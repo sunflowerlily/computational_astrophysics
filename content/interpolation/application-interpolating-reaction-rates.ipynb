{
 "cells": [
  {
   "cell_type": "markdown",
   "id": "ec80e40c-8c1c-46c8-8980-9a913f2943b0",
   "metadata": {},
   "source": [
    "# Application: Interpolating Weak Reaction Rate Tables"
   ]
  },
  {
   "cell_type": "markdown",
   "id": "700f0fdb-1519-43be-8d10-208208483a7b",
   "metadata": {},
   "source": [
    "Supernovae shine because of the radioactive decay of ${}^{56}\\mathrm{Ni}$.  The electron-capture reaction:\n",
    "\n",
    "$${}^{56}\\mathrm{Ni} + e^- \\rightarrow {}^{56}\\mathrm{Co} + \\nu_e$$\n",
    "\n",
    "is important in determining how much ${}^{56}\\mathrm{Ni}$ is created in the supernova, compared\n",
    "to stable iron-group nuclei.  A similiar transformation can happen via $\\beta^+$ decay:\n",
    "\n",
    "$${}^{56}\\mathrm{Ni} \\rightarrow {}^{56}\\mathrm{Co} + e^+ + \\nu_e$$"
   ]
  },
  {
   "cell_type": "markdown",
   "id": "a1f30511-d875-4efc-8936-6ebf813e98b5",
   "metadata": {},
   "source": [
    "```{note}\n",
    "We call these reactions *weak nuclear reactions*, because they involve changing a neutron to a proton, and thus\n",
    "the weak nuclear force.\n",
    "```"
   ]
  },
  {
   "cell_type": "markdown",
   "id": "2d181c2c-db87-47eb-b4a0-89d086de9581",
   "metadata": {},
   "source": [
    "These reaction rates are temperature and density dependent (in terms of electron density, $\\rho Y_e$, where $Y_e$ is the electron fraction)\n",
    "and evaluations of them are usually provided\n",
    "as tables requiring reaction networks to interpolate."
   ]
  },
  {
   "cell_type": "markdown",
   "id": "72d49f40-7dd1-47bd-84dd-59abda823c06",
   "metadata": {},
   "source": [
    "Here we'll learn how to work with a tabulated reaction rate."
   ]
  },
  {
   "cell_type": "markdown",
   "id": "edf4bf6c-d666-4712-8233-6703db70442e",
   "metadata": {},
   "source": [
    "## Accessing the data\n",
    "\n",
    "Here's a table for the above rates: {download}`56ni-56co_electroncapture.dat` from [Langanke & Martínez-Pinedo 2001](https://www.sciencedirect.com/science/article/abs/pii/S0092640X01908654).  This has been cleaned up a little\n",
    "from the tables provided there, combining both the e-capture and $\\beta^+$-decay into a single rate."
   ]
  },
  {
   "cell_type": "code",
   "execution_count": 1,
   "id": "2f2cb68c-a85f-4586-9402-63c0ca2d52c8",
   "metadata": {},
   "outputs": [],
   "source": [
    "import numpy as np\n",
    "import matplotlib.pyplot as plt"
   ]
  },
  {
   "cell_type": "code",
   "execution_count": 2,
   "id": "3a002e45-bb6e-4fd3-a9d3-21a62de1c0da",
   "metadata": {},
   "outputs": [
    {
     "name": "stdout",
     "output_type": "stream",
     "text": [
      "#56ni -> 56co, e- capture\n",
      "#Q=-1.624 MeV\n",
      "#\n",
      "#Log(rhoY)    Log(temp)     mu              dQ    Vs     Log(e-cap-rate)        Log(nu-energy-loss)  Log(gamma-energy)\n",
      "#Log(g/cm^3)  Log(K)        erg             erg   erg    Log(1/s)               Log(erg/s)           Log(erg/s)\n",
      "1.000000      7.000000      -4.806530e-09  0.00  0.00   -8.684000              -1.486129e+01         -100.00\n",
      "1.000000      8.000000      -9.292624e-08  0.00  0.00   -9.164000              -1.533229e+01         -100.00\n",
      "1.000000      8.301030      -2.146917e-07  0.00  0.00   -9.291000              -1.544729e+01         -100.00\n",
      "1.000000      8.602060      -4.902661e-07  0.00  0.00   -9.387000              -1.551729e+01         -100.00\n",
      "1.000000      8.845098      -8.058948e-07  0.00  0.00   -8.777000              -1.485829e+01         -100.00\n"
     ]
    }
   ],
   "source": [
    "!head 56ni-56co_electroncapture.dat"
   ]
  },
  {
   "cell_type": "markdown",
   "id": "e17c92d6-1df1-476e-99ea-baee17fd411a",
   "metadata": {},
   "source": [
    "We see that the data is in columns with most quantities stored as logs.  We're interest in the first column, $\\log(\\rho Y_e)$,\n",
    "the second column, $\\log(T)$, and the sixth column, $\\log(\\lambda)$ (the reaction rate)."
   ]
  },
  {
   "cell_type": "markdown",
   "id": "2fb45c6b-2555-4f60-8f9f-c4ecfb74b31a",
   "metadata": {},
   "source": [
    "```{note}\n",
    "The $\\log()$ are base-10 logarithms.\n",
    "```"
   ]
  },
  {
   "cell_type": "markdown",
   "id": "bf7bb677-e1a4-4dad-a29d-9d0274c0bb64",
   "metadata": {},
   "source": [
    "```{tip}\n",
    "We'll use `np.genfromtxt()` to read this, which can interpret a comment line as labels for the data, giving us an\n",
    "easy way to index the columns.\n",
    "```"
   ]
  },
  {
   "cell_type": "code",
   "execution_count": 3,
   "id": "253c3c2f-a2aa-45eb-b0d6-c282a2365f8a",
   "metadata": {},
   "outputs": [],
   "source": [
    "data = np.genfromtxt(\"56ni-56co_electroncapture.dat\", skip_header=3, names=True)"
   ]
  },
  {
   "cell_type": "markdown",
   "id": "071452f0-42de-42e2-bdc4-d1806429a077",
   "metadata": {},
   "source": [
    "From the table, we can learn that there are 13 temperatures and 11 densities in the tabulation."
   ]
  },
  {
   "cell_type": "code",
   "execution_count": 4,
   "id": "875ecd5a-c816-4910-97d9-6f262c78422e",
   "metadata": {},
   "outputs": [],
   "source": [
    "ntemp = 13\n",
    "nrho = 11"
   ]
  },
  {
   "cell_type": "markdown",
   "id": "8110458a-9a0b-4868-91ca-22d53d8122ba",
   "metadata": {},
   "source": [
    "We can extract the unique densities ($\\log(\\rho Y_e)$) from the `LogrhoY` column, by taking every `ntemp` value:"
   ]
  },
  {
   "cell_type": "code",
   "execution_count": 5,
   "id": "91127174-c48a-415c-877a-eb096f942ad8",
   "metadata": {},
   "outputs": [
    {
     "data": {
      "text/plain": [
       "array([ 1.,  2.,  3.,  4.,  5.,  6.,  7.,  8.,  9., 10., 11.])"
      ]
     },
     "execution_count": 5,
     "metadata": {},
     "output_type": "execute_result"
    }
   ],
   "source": [
    "logrho = data[\"LogrhoY\"][::ntemp]\n",
    "logrho"
   ]
  },
  {
   "cell_type": "markdown",
   "id": "299802be-4201-45ae-8ec7-284349694054",
   "metadata": {},
   "source": [
    "and the unique temperatures ($\\log(T)$) from the `Logtemp` column:"
   ]
  },
  {
   "cell_type": "code",
   "execution_count": 6,
   "id": "2d0a4936-f94a-4425-b475-4fb4c6b87780",
   "metadata": {},
   "outputs": [
    {
     "data": {
      "text/plain": [
       "array([ 7.      ,  8.      ,  8.30103 ,  8.60206 ,  8.845098,  9.      ,\n",
       "        9.176091,  9.30103 ,  9.477121,  9.69897 , 10.      , 10.477121,\n",
       "       11.      ])"
      ]
     },
     "execution_count": 6,
     "metadata": {},
     "output_type": "execute_result"
    }
   ],
   "source": [
    "logT = data[\"Logtemp\"][0:ntemp]\n",
    "logT"
   ]
  },
  {
   "cell_type": "markdown",
   "id": "74a1f55f-906c-4667-9406-6ed598cd8496",
   "metadata": {},
   "source": [
    "```{note}\n",
    "The temperatures are not evenly spaced.  We need to make sure that we take that\n",
    "into account when we do the interpolation.\n",
    "```"
   ]
  },
  {
   "cell_type": "markdown",
   "id": "481a0fe5-4b7d-4a5d-bab0-b103a956be81",
   "metadata": {},
   "source": [
    "Finally, we'll access the rate, $\\lambda$, from the `Logecaprate` column, and reshape it into a two-dimensional table:"
   ]
  },
  {
   "cell_type": "code",
   "execution_count": 7,
   "id": "0e35d26a-56a9-41a6-ab60-5ec67ae99b9d",
   "metadata": {},
   "outputs": [],
   "source": [
    "ec = data[\"Logecaprate\"].reshape(nrho, ntemp)"
   ]
  },
  {
   "cell_type": "markdown",
   "id": "d81e3d24-8b15-43e6-a960-0dddf5d04886",
   "metadata": {},
   "source": [
    "Here are a few of the values:"
   ]
  },
  {
   "cell_type": "code",
   "execution_count": 8,
   "id": "4a2683f0-a536-4aab-aae9-00ec5ba7b9bb",
   "metadata": {},
   "outputs": [
    {
     "data": {
      "text/plain": [
       "array([[-8.684, -9.164, -9.291],\n",
       "       [-7.705, -8.165, -8.291],\n",
       "       [-6.834, -7.171, -7.293]])"
      ]
     },
     "execution_count": 8,
     "metadata": {},
     "output_type": "execute_result"
    }
   ],
   "source": [
    "ec[0:3, 0:3]"
   ]
  },
  {
   "cell_type": "markdown",
   "id": "4fbe8358-bfd2-47a6-ba82-981e5b77d503",
   "metadata": {},
   "source": [
    "In this form, density varies in the first dimension (rows) and temperature varies in the second dimension (columns)."
   ]
  },
  {
   "cell_type": "markdown",
   "id": "fb1ed8b6-00ca-4249-bb39-4448ef15b02d",
   "metadata": {},
   "source": [
    "## Bilinear interpolation"
   ]
  },
  {
   "cell_type": "markdown",
   "id": "49b73344-21df-4a3b-b92f-7784916ee5fb",
   "metadata": {},
   "source": [
    "We'll do bilinear interpolation, using taking the 4 points in the table that surround the $(\\rho Y_e, T)$ at which we wish to evaluate\n",
    "the rate and fit it with a function:\n",
    "\n",
    "\\begin{align*}\n",
    "\\lambda(\\rho Y_e, T) = {}&a (\\log(\\rho Y_e) - \\log(\\rho Y_e)_i)(\\log(T) - \\log(T_j)) + \\\\\n",
    "                       &b (\\log(\\rho Y_e) - \\log(\\rho Y_e)_i) + \\\\\n",
    "                       &c (\\log(T) - \\log(T)_j) + \\\\\n",
    "                       &d\n",
    "\\end{align*}\n",
    "\n",
    "here we take $(i, j)$ as the reference point for the interpolant.\n",
    "\n",
    "We need to find the 4 unknowns, $\\{a, b, c, d\\}$, using the information from the table."
   ]
  },
  {
   "cell_type": "markdown",
   "id": "32256cac-d9bf-4943-b6d8-2271cb381df7",
   "metadata": {},
   "source": [
    "Visually, this appears as:\n",
    "\n",
    "![bilinear interpolation](bilinear_ecapture.png)\n",
    "\n",
    "where the $\\times$ is where we want to know the rate."
   ]
  },
  {
   "cell_type": "markdown",
   "id": "4554af2d-c18e-4c82-ade4-68d85ba6028f",
   "metadata": {},
   "source": [
    "We can do this algebraically, by evaluating our interpolant at our 4 points:\n",
    "\n",
    "\\begin{align*}\n",
    "\\lambda_{i,j} &= d \\\\\n",
    "\\lambda_{i+1,j} &= b \\Delta (\\log\\rho Y_e) + d \\\\\n",
    "\\lambda_{i,j+1} &= c \\Delta (\\log T) + d \\\\\n",
    "\\lambda_{i+1,j+1} &= a \\Delta (\\log\\rho Y_e) \\Delta (\\log T) + b \\Delta (\\log \\rho Y_e) + c \\Delta (\\log T) + d\n",
    "\\end{align*}"
   ]
  },
  {
   "cell_type": "markdown",
   "id": "9b639cd9-495c-4b86-81ca-d012190eb988",
   "metadata": {},
   "source": [
    "Then we see:\n",
    "\n",
    "$$d = \\lambda_{i,j}$$\n",
    "\n",
    "$$b = \\frac{\\lambda_{i+1,j} - \\lambda_{i,j}}{\\Delta (\\log \\rho Y_e)}$$\n",
    "\n",
    "$$c = \\frac{\\lambda_{i,j+1} - \\lambda_{i,j}}{\\Delta (\\log T)}$$\n",
    "\n",
    "$$a = \\frac{\\lambda_{i+1,j+1} - \\lambda_{i+1,j} - \\lambda_{i,j+1} + \\lambda_{i,j}}{\\Delta(\\log \\rho Y_e) \\Delta( \\log T)}$$"
   ]
  },
  {
   "cell_type": "code",
   "execution_count": 37,
   "id": "7151a778-aabe-477b-bf1e-a9592d8485bd",
   "metadata": {},
   "outputs": [],
   "source": [
    "def interp(logrhoY_v, logT_v, lograte, logrhoY0, logT0):\n",
    "    \"\"\"interpolate lograte to find the rate at a point (logrhoY0, logT0).\n",
    "    Here logrhoY_v and logT_v are the points where the rate is tabulated\"\"\"\n",
    "\n",
    "    i = np.argwhere(logrhoY_v > logrhoY0)[0][0] - 1\n",
    "    j = np.argwhere(logT_v > logT0)[0][0] - 1\n",
    "\n",
    "    dlogrhoY = logrhoY_v[i+1] - logrhoY_v[i]\n",
    "    dlogT = logT_v[j+1] - logT_v[j]\n",
    "\n",
    "    a = (lograte[i+1, j+1] - lograte[i+1, j] - lograte[i, j+1] + lograte[i, j]) / (dlogrhoY * dlogT)\n",
    "    b = (lograte[i+1, j] - lograte[i, j]) / dlogrhoY\n",
    "    c = (lograte[i, j+1] - lograte[i, j]) / dlogT\n",
    "    d = lograte[i, j]\n",
    "\n",
    "    return (a * (logrhoY0 - logrhoY_v[i]) * (logT0 - logT_v[j]) +\n",
    "            b * (logrhoY0 - logrhoY_v[i]) +\n",
    "            c * (logT0 - logT_v[j]) +\n",
    "            d)"
   ]
  },
  {
   "cell_type": "code",
   "execution_count": 38,
   "id": "2259a593-2236-447a-9657-cf6600976dee",
   "metadata": {},
   "outputs": [
    {
     "name": "stdout",
     "output_type": "stream",
     "text": [
      "2 7\n",
      "1.0 0.17609099999999955\n",
      "3.0 4.0\n",
      "-0.14806548886655366 0.03097500000000064 6.174472289895581 -5.40263\n"
     ]
    },
    {
     "data": {
      "text/plain": [
       "-4.7833819981855985"
      ]
     },
     "execution_count": 38,
     "metadata": {},
     "output_type": "execute_result"
    }
   ],
   "source": [
    "interp(logrho, logT, ec, 3.5, 9.4)"
   ]
  },
  {
   "cell_type": "code",
   "execution_count": 35,
   "id": "841804e7-5268-4bcd-8405-c5257b9bec4a",
   "metadata": {},
   "outputs": [
    {
     "data": {
      "text/plain": [
       "array([[-5.40263 , -4.315361],\n",
       "       [-5.371655, -4.310459]])"
      ]
     },
     "execution_count": 35,
     "metadata": {},
     "output_type": "execute_result"
    }
   ],
   "source": [
    "ec[2:4, 7:9]"
   ]
  },
  {
   "cell_type": "code",
   "execution_count": 22,
   "id": "e77c00df-ab4c-4a74-8c0f-fc9539ee9f0a",
   "metadata": {},
   "outputs": [
    {
     "data": {
      "text/plain": [
       "array([ 7.      ,  8.      ,  8.30103 ,  8.60206 ,  8.845098,  9.      ,\n",
       "        9.176091,  9.30103 ,  9.477121,  9.69897 , 10.      , 10.477121,\n",
       "       11.      ])"
      ]
     },
     "execution_count": 22,
     "metadata": {},
     "output_type": "execute_result"
    }
   ],
   "source": [
    "logT"
   ]
  },
  {
   "cell_type": "markdown",
   "id": "282b4a2c-c3ae-4336-b706-fd0d8dc887fc",
   "metadata": {},
   "source": [
    "## Using SciPy"
   ]
  },
  {
   "cell_type": "code",
   "execution_count": 23,
   "id": "4ddc8572-7f80-429b-9019-2ae57d96d0bc",
   "metadata": {},
   "outputs": [],
   "source": [
    "from scipy import interpolate"
   ]
  },
  {
   "cell_type": "code",
   "execution_count": 39,
   "id": "bb7f51b1-5d27-454d-bbee-fac1ecffa753",
   "metadata": {},
   "outputs": [
    {
     "data": {
      "text/plain": [
       "array([-4.783382])"
      ]
     },
     "execution_count": 39,
     "metadata": {},
     "output_type": "execute_result"
    }
   ],
   "source": [
    "interpolate.interpn((logrho, logT), ec, (3.5, 9.4))"
   ]
  },
  {
   "cell_type": "code",
   "execution_count": null,
   "id": "08b70322-6c7c-4bdf-b9fe-d38c0e25207a",
   "metadata": {},
   "outputs": [],
   "source": []
  }
 ],
 "metadata": {
  "kernelspec": {
   "display_name": "Python 3 (ipykernel)",
   "language": "python",
   "name": "python3"
  },
  "language_info": {
   "codemirror_mode": {
    "name": "ipython",
    "version": 3
   },
   "file_extension": ".py",
   "mimetype": "text/x-python",
   "name": "python",
   "nbconvert_exporter": "python",
   "pygments_lexer": "ipython3",
   "version": "3.13.2"
  }
 },
 "nbformat": 4,
 "nbformat_minor": 5
}
