{
 "cells": [
  {
   "cell_type": "markdown",
   "id": "ec80e40c-8c1c-46c8-8980-9a913f2943b0",
   "metadata": {},
   "source": [
    "# Application: Interpolating Weak Reaction Rate Tables"
   ]
  },
  {
   "cell_type": "markdown",
   "id": "d22944d7-93ab-4ae3-819b-f960872e77f0",
   "metadata": {},
   "source": [
    "The electron-capture reaction:\n",
    "\n",
    "$${}^{56}\\mathrm{Ni} + e^- \\rightarrow {}^{56}\\mathrm{Co} + \\nu_e$$\n",
    "\n",
    "is important in supernova.  A similiar transformation can happen via $\\beta^+$ decay:\n",
    "\n",
    "$${}^{56}\\mathrm{Ni} \\rightarrow {}^{56}\\mathrm{Co} + e^+ + \\nu_e$$\n",
    "\n",
    "These rates are temperature and density dependent (in terms of electron density, $\\rho Y_e$, where $Y_e$ is the electron fraction)\n",
    "and evaluations of them are usually provided\n",
    "as tables requiring reaction networks to interpolate."
   ]
  },
  {
   "cell_type": "markdown",
   "id": "edf4bf6c-d666-4712-8233-6703db70442e",
   "metadata": {},
   "source": [
    "## Accessing the data\n",
    "\n",
    "Here's a table for the above rates: {download}`56ni-56co_electroncapture.dat` from [Langanke & Martínez-Pinedo 2001](https://www.sciencedirect.com/science/article/abs/pii/S0092640X01908654).  This has been cleaned up a little\n",
    "from the tables provided there, combining both the e-capture and $\\beta^+$-decay into a single rate."
   ]
  },
  {
   "cell_type": "code",
   "execution_count": 1,
   "id": "2f2cb68c-a85f-4586-9402-63c0ca2d52c8",
   "metadata": {},
   "outputs": [],
   "source": [
    "import numpy as np\n",
    "import matplotlib.pyplot as plt"
   ]
  },
  {
   "cell_type": "code",
   "execution_count": 27,
   "id": "3a002e45-bb6e-4fd3-a9d3-21a62de1c0da",
   "metadata": {},
   "outputs": [
    {
     "name": "stdout",
     "output_type": "stream",
     "text": [
      "#56ni -> 56co, e- capture\n",
      "#Q=-1.624 MeV\n",
      "#\n",
      "#Log(rhoY)    Log(temp)     mu              dQ    Vs     Log(e-cap-rate)        Log(nu-energy-loss)  Log(gamma-energy)\n",
      "#Log(g/cm^3)  Log(K)        erg             erg   erg    Log(1/s)               Log(erg/s)           Log(erg/s)\n",
      "1.000000      7.000000      -4.806530e-09  0.00  0.00   -8.684000              -1.486129e+01         -100.00\n",
      "1.000000      8.000000      -9.292624e-08  0.00  0.00   -9.164000              -1.533229e+01         -100.00\n",
      "1.000000      8.301030      -2.146917e-07  0.00  0.00   -9.291000              -1.544729e+01         -100.00\n",
      "1.000000      8.602060      -4.902661e-07  0.00  0.00   -9.387000              -1.551729e+01         -100.00\n",
      "1.000000      8.845098      -8.058948e-07  0.00  0.00   -8.777000              -1.485829e+01         -100.00\n"
     ]
    }
   ],
   "source": [
    "!head 56ni-56co_electroncapture.dat"
   ]
  },
  {
   "cell_type": "markdown",
   "id": "e17c92d6-1df1-476e-99ea-baee17fd411a",
   "metadata": {},
   "source": [
    "We see that the data is in columns with most quantities stored as logs.  We're interest in the first column, $\\log_{10}(\\rho Y_e)$,\n",
    "the second column, $\\log_{10}(T)$, and the sixth column, $\\log_{10}(\\lambda)$ (the reaction rate)."
   ]
  },
  {
   "cell_type": "markdown",
   "id": "bf7bb677-e1a4-4dad-a29d-9d0274c0bb64",
   "metadata": {},
   "source": [
    "```{tip}\n",
    "We'll use `np.genfromtxt()` to read this, which can interpret a comment line as labels for the data, giving us an\n",
    "easy way to index the columns.\n",
    "```"
   ]
  },
  {
   "cell_type": "code",
   "execution_count": 28,
   "id": "253c3c2f-a2aa-45eb-b0d6-c282a2365f8a",
   "metadata": {},
   "outputs": [
    {
     "name": "stdout",
     "output_type": "stream",
     "text": [
      "The history saving thread hit an unexpected error (OperationalError('attempt to write a readonly database')).History will not be written to the database.\n"
     ]
    }
   ],
   "source": [
    "data = np.genfromtxt(\"56ni-56co_electroncapture.dat\", skip_header=3, names=True)"
   ]
  },
  {
   "cell_type": "code",
   "execution_count": 29,
   "id": "875ecd5a-c816-4910-97d9-6f262c78422e",
   "metadata": {},
   "outputs": [],
   "source": [
    "ntemp = 13\n",
    "nrho = 11"
   ]
  },
  {
   "cell_type": "code",
   "execution_count": 30,
   "id": "91127174-c48a-415c-877a-eb096f942ad8",
   "metadata": {},
   "outputs": [
    {
     "data": {
      "text/plain": [
       "array([ 1.,  2.,  3.,  4.,  5.,  6.,  7.,  8.,  9., 10., 11.])"
      ]
     },
     "execution_count": 30,
     "metadata": {},
     "output_type": "execute_result"
    }
   ],
   "source": [
    "logrho = data[\"LogrhoY\"][::ntemp]\n",
    "logrho"
   ]
  },
  {
   "cell_type": "code",
   "execution_count": 31,
   "id": "2d0a4936-f94a-4425-b475-4fb4c6b87780",
   "metadata": {},
   "outputs": [
    {
     "data": {
      "text/plain": [
       "array([ 7.      ,  8.      ,  8.30103 ,  8.60206 ,  8.845098,  9.      ,\n",
       "        9.176091,  9.30103 ,  9.477121,  9.69897 , 10.      , 10.477121,\n",
       "       11.      ])"
      ]
     },
     "execution_count": 31,
     "metadata": {},
     "output_type": "execute_result"
    }
   ],
   "source": [
    "logT = data[\"Logtemp\"][0:ntemp]\n",
    "logT"
   ]
  },
  {
   "cell_type": "code",
   "execution_count": 33,
   "id": "e4d5267c-1f19-41ff-9ee9-734c3a143021",
   "metadata": {},
   "outputs": [
    {
     "data": {
      "text/plain": [
       "array([[-8.684, -9.164, -9.291],\n",
       "       [-7.705, -8.165, -8.291],\n",
       "       [-6.834, -7.171, -7.293]])"
      ]
     },
     "execution_count": 33,
     "metadata": {},
     "output_type": "execute_result"
    }
   ],
   "source": [
    "ec = data[\"Logecaprate\"].reshape(nrho, ntemp)\n",
    "ec[0:3, 0:3]"
   ]
  },
  {
   "cell_type": "code",
   "execution_count": 23,
   "id": "cb527f58-e779-4992-b98f-7d52ea27a6cf",
   "metadata": {},
   "outputs": [
    {
     "data": {
      "text/plain": [
       "array([-8.684   , -9.164   , -9.291   , -9.387   , -8.777   , -7.439   ,\n",
       "       -6.183988, -5.405627, -4.316341, -2.714602, -0.608944,  2.014581,\n",
       "        4.728024])"
      ]
     },
     "execution_count": 23,
     "metadata": {},
     "output_type": "execute_result"
    }
   ],
   "source": [
    "ec[0, :]"
   ]
  },
  {
   "cell_type": "markdown",
   "id": "fb1ed8b6-00ca-4249-bb39-4448ef15b02d",
   "metadata": {},
   "source": [
    "## Bilinear interpolation"
   ]
  },
  {
   "cell_type": "markdown",
   "id": "49b73344-21df-4a3b-b92f-7784916ee5fb",
   "metadata": {},
   "source": [
    "We'll do bilinear interpolation, using taking the 4 points in the table that surround the $(\\rho Y_e, T)$ at which we wish to evaluate\n",
    "the rate and fit it with a function:\n",
    "\n",
    "$$\\lambda(\\rho Y_e, T) = a ((\\rho Y_e) - (\\rho Y_e)_i)(T - T_j) + b ((\\rho Y_e) - (\\rho Y_e)_i) + c (T - T_j) + d$$\n",
    "\n",
    "We need to find the 4 unknowns, $\\{a, b, c, d\\}$, using the information from the table."
   ]
  },
  {
   "cell_type": "markdown",
   "id": "32256cac-d9bf-4943-b6d8-2271cb381df7",
   "metadata": {},
   "source": [
    "Visually, this appears as:\n",
    "\n",
    "![bilinear interpolation](bilinear_ecapture.png)\n",
    "\n",
    "where the $\\times$ is where we want to know the rate."
   ]
  },
  {
   "cell_type": "markdown",
   "id": "282b4a2c-c3ae-4336-b706-fd0d8dc887fc",
   "metadata": {},
   "source": [
    "## Using SciPy"
   ]
  },
  {
   "cell_type": "code",
   "execution_count": 34,
   "id": "4ddc8572-7f80-429b-9019-2ae57d96d0bc",
   "metadata": {},
   "outputs": [],
   "source": [
    "from scipy import interpolate"
   ]
  },
  {
   "cell_type": "code",
   "execution_count": 36,
   "id": "bb7f51b1-5d27-454d-bbee-fac1ecffa753",
   "metadata": {},
   "outputs": [
    {
     "data": {
      "text/plain": [
       "array([-8.37241231])"
      ]
     },
     "execution_count": 36,
     "metadata": {},
     "output_type": "execute_result"
    }
   ],
   "source": [
    "interpolate.interpn((logrho, logT), ec, (1.5, 7.6), method=\"cubic\")"
   ]
  },
  {
   "cell_type": "code",
   "execution_count": null,
   "id": "08b70322-6c7c-4bdf-b9fe-d38c0e25207a",
   "metadata": {},
   "outputs": [],
   "source": []
  }
 ],
 "metadata": {
  "kernelspec": {
   "display_name": "Python 3 (ipykernel)",
   "language": "python",
   "name": "python3"
  },
  "language_info": {
   "codemirror_mode": {
    "name": "ipython",
    "version": 3
   },
   "file_extension": ".py",
   "mimetype": "text/x-python",
   "name": "python",
   "nbconvert_exporter": "python",
   "pygments_lexer": "ipython3",
   "version": "3.13.2"
  }
 },
 "nbformat": 4,
 "nbformat_minor": 5
}
