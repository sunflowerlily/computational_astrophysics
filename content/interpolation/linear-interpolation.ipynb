{
 "cells": [
  {
   "cell_type": "markdown",
   "id": "8db7c2a1-0458-4e15-b933-f580ce14d16d",
   "metadata": {
    "tags": []
   },
   "source": [
    "# Linear Interpolation"
   ]
  },
  {
   "cell_type": "markdown",
   "id": "c40e1aea-69dc-43ee-96dc-49b8b341a3cf",
   "metadata": {},
   "source": [
    "The simplest interpolation we can imagine is doing _connect-the-dots_, and simply\n",
    "connecting our data samples with straight lines.\n",
    "\n",
    "![example of linear interpolation](linear-interpolation.png)\n",
    "\n",
    "As we see, this only gets the correct values at the end points (for a general function), but it has the nice property that it does not introduce any new minima or maxima."
   ]
  },
  {
   "cell_type": "markdown",
   "id": "845190cf-9dd8-482c-860d-65f3b549e06d",
   "metadata": {},
   "source": [
    "Given some N points sampling a function, $(x_i, f_i)$, the interpolant connecting the points $i$ and $i+1$ is:\n",
    "\n",
    "$$f(x) = \\frac{f_{i+1} - f_i}{x_{i+1} - x_i} (x - x_i) + f_i$$\n",
    "\n",
    "for $x_i \\le x \\le x_{i+1}$\n",
    "\n",
    "For N points, we have $N-1$ interpolants."
   ]
  },
  {
   "cell_type": "markdown",
   "id": "f66f8c88-f754-4c9a-867c-8851b532875a",
   "metadata": {},
   "source": [
    "## Piecewise interpolation\n",
    "\n",
    "This is an example of _piecewise interpolation_.  We don't try to fit all of the\n",
    "points with a single polynomial, but instead fit a subset of points with a low-order\n",
    "polynomial (in this case, a line)."
   ]
  },
  {
   "cell_type": "markdown",
   "id": "b5fd2525-5ddc-453a-a5c8-274adde35efe",
   "metadata": {
    "tags": []
   },
   "source": [
    "```{admonition} Example\n",
    "Let's write a function to tabulate $f(x) = x sin(x)$ on $[0, 5]$ and then use linear interpolation to get the function values.\n",
    "    \n",
    "How many function samples do we need to get a 1% error?\n",
    "```"
   ]
  },
  {
   "cell_type": "code",
   "execution_count": 7,
   "id": "4902eb8e-231a-4a20-b4f1-e2361e4e764e",
   "metadata": {
    "tags": []
   },
   "outputs": [],
   "source": [
    "import numpy as np"
   ]
  },
  {
   "cell_type": "code",
   "execution_count": 8,
   "id": "6c98f4b2-323a-43d7-8dcd-67a5e3a4d97c",
   "metadata": {},
   "outputs": [],
   "source": [
    "def f(x):\n",
    "    return x * np.sin(x)"
   ]
  },
  {
   "cell_type": "code",
   "execution_count": 9,
   "id": "460086aa-4b47-47e1-b9ab-8164ec8ec934",
   "metadata": {
    "tags": []
   },
   "outputs": [],
   "source": [
    "def sample_function(func, npts, xmin=0.0, xmax=5.0):\n",
    "    xx = np.linspace(xmin, xmax, npts)\n",
    "    return xx, func(xx)"
   ]
  },
  {
   "cell_type": "code",
   "execution_count": 10,
   "id": "b8812ee8-c2c3-49b5-8045-6da4c9fe6ed2",
   "metadata": {
    "tags": []
   },
   "outputs": [],
   "source": [
    "def interpolate(x0, xv, fv):\n",
    "    \n",
    "    # find first x[i] > x0\n",
    "    idx = np.argwhere(xv > x0)[0][0]\n",
    "    \n",
    "    # we want to use this point and the one to the left\n",
    "    # we'll shift idx to point to the left point\n",
    "    idx = max(0, idx-1)\n",
    "    \n",
    "    slope = (fv[idx+1] - fv[idx]) / (xv[idx+1] - xv[idx])\n",
    "    return slope * (x0 - xv[idx]) + fv[idx]"
   ]
  },
  {
   "cell_type": "markdown",
   "id": "796f5e21-5080-4777-8ac1-56108a915b75",
   "metadata": {},
   "source": [
    "Let's just look at $x_0 = 1$ and try different number of points and measure the error"
   ]
  },
  {
   "cell_type": "code",
   "execution_count": 11,
   "id": "0d3a0a99-4c7b-4d1f-a3f5-836ab7718ef0",
   "metadata": {
    "tags": []
   },
   "outputs": [],
   "source": [
    "x0 = 1\n",
    "npts = [5, 10, 20, 40, 80, 160]"
   ]
  },
  {
   "cell_type": "code",
   "execution_count": 12,
   "id": "dee45f3d-8086-4154-bca3-4d1459f60892",
   "metadata": {
    "tags": []
   },
   "outputs": [
    {
     "name": "stdout",
     "output_type": "stream",
     "text": [
      "   5 points, error = 0.10751363454768981\n",
      "  10 points, error = 0.013746014526716532\n",
      "  20 points, error = 0.002193334982023787\n",
      "  40 points, error = 0.00041644795293660497\n",
      "  80 points, error = 8.898902652587637e-05\n",
      " 160 points, error = 2.043835377496528e-05\n"
     ]
    }
   ],
   "source": [
    "for n in npts:\n",
    "    xv, fv = sample_function(f, n)\n",
    "\n",
    "    finterp = interpolate(x0, xv, fv)\n",
    "    fexact = f(x0)\n",
    "    err = np.abs(finterp - fexact)\n",
    "    print(f\"{n:4} points, error = {err}\")"
   ]
  },
  {
   "cell_type": "markdown",
   "id": "84eba96d-ce88-4355-af6e-b301fcee3e02",
   "metadata": {},
   "source": [
    "In this case, after 20 points, our error is < 1%.  We also see that we appear to converge slightly better than 2nd order"
   ]
  }
 ],
 "metadata": {
  "kernelspec": {
   "display_name": "Python 3 (ipykernel)",
   "language": "python",
   "name": "python3"
  },
  "language_info": {
   "codemirror_mode": {
    "name": "ipython",
    "version": 3
   },
   "file_extension": ".py",
   "mimetype": "text/x-python",
   "name": "python",
   "nbconvert_exporter": "python",
   "pygments_lexer": "ipython3",
   "version": "3.13.0"
  }
 },
 "nbformat": 4,
 "nbformat_minor": 5
}
