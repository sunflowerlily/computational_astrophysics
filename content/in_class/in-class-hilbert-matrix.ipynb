{
 "cells": [
  {
   "cell_type": "markdown",
   "id": "b831d648-e96c-4621-ab0a-33869b040b2d",
   "metadata": {},
   "source": [
    "# Linear Algebra Review: Hilbert Matrix"
   ]
  },
  {
   "cell_type": "markdown",
   "id": "1615de67-ec87-41e9-9fe3-d4f0dfcabf30",
   "metadata": {},
   "source": [
    "The [Hilbert matrix](https://en.wikipedia.org/wiki/Hilbert_matrix), ${\\bf H}$ is defined such\n",
    "   that its elements are:\n",
    "\n",
    "   $$H_{ij} = (i + j -1)^{-1}$$\n",
    "\n",
    "for $i = 1, \\ldots, N$ and $j = 1, \\ldots, N$.  "
   ]
  },
  {
   "cell_type": "markdown",
   "id": "cf2b6c76-8021-4e81-b16d-5970fee15e29",
   "metadata": {},
   "source": [
    "```{warning}\n",
    "This matrix is known to\n",
    "have a large condition number.\n",
    "```"
   ]
  },
  {
   "cell_type": "markdown",
   "id": "82a2589a-96f0-4a5d-815b-951c4688728e",
   "metadata": {},
   "source": [
    "Here we will explore the influence of the large condition number \n",
    "by solving progressively larger linear systems."
   ]
  },
  {
   "cell_type": "markdown",
   "id": "1a9f4b26-a20c-4ad8-8ae4-a9bd1f1b4d81",
   "metadata": {},
   "source": [
    "Define a vector:\n",
    "\n",
    "   $${\\bf x}^{(N)} = (0, 1, \\ldots, N-1)^T$$\n",
    "\n",
    "and call the\n",
    "$N\\times N$ Hilbert matrix ${\\bf H}^{(N)}$.  \n",
    "\n",
    "Define the righthand side of a linear system simply as:\n",
    "\n",
    "   $${\\bf b}^{(N)} = {\\bf H}^{(N)} {\\bf x}^{(N)}$$"
   ]
  },
  {
   "cell_type": "markdown",
   "id": "e404d94f-b728-4bc3-b076-f866c817f6d3",
   "metadata": {},
   "source": [
    "Using our Gaussian elimination routine or a linear algebra library, solve the system\n",
    "\n",
    "   $${\\bf H}^{(N)} \\tilde{\\bf x} = {\\bf b}^{(N)}$$\n",
    "\n",
    "for $N = 2, \\ldots, 15$.\n",
    "\n",
    "Define the error in your solution as\n",
    "\n",
    "$$\\epsilon = \\max |\\tilde{\\bf x}  - {\\bf x}^{(N)} |$$\n",
    "\n",
    "For what value of $N$ does this error become\n",
    "$\\mathcal{O}(1)$?---i.e. even the first digit in your computed\n",
    "solution is wrong."
   ]
  },
  {
   "cell_type": "code",
   "execution_count": null,
   "id": "f5c244b3-bdd2-476c-aa58-e4a1cb094b8d",
   "metadata": {},
   "outputs": [],
   "source": []
  }
 ],
 "metadata": {
  "kernelspec": {
   "display_name": "Python 3 (ipykernel)",
   "language": "python",
   "name": "python3"
  },
  "language_info": {
   "codemirror_mode": {
    "name": "ipython",
    "version": 3
   },
   "file_extension": ".py",
   "mimetype": "text/x-python",
   "name": "python",
   "nbconvert_exporter": "python",
   "pygments_lexer": "ipython3",
   "version": "3.13.2"
  }
 },
 "nbformat": 4,
 "nbformat_minor": 5
}
