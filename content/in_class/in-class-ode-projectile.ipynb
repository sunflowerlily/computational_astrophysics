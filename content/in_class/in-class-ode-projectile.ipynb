{
 "cells": [
  {
   "cell_type": "markdown",
   "id": "f53cbf2b-a742-4b6e-a3b3-cd855a21376c",
   "metadata": {},
   "source": [
    "# ODE Review: Projectile Motion"
   ]
  },
  {
   "cell_type": "markdown",
   "id": "2dc4ab01-96a1-45ca-a0fd-93465dad965e",
   "metadata": {},
   "source": [
    "Let's try solving for projectile motion with drag (air resistance).\n",
    "\n",
    "We want to solve:\n",
    "\n",
    "\\begin{align*}\n",
    "\\dot{\\bf r} &= {\\bf v} \\\\\n",
    "\\dot{\\bf v} &= \\frac{1}{m} {\\bf F}_a({\\bf v}) - g \\hat{\\bf y}\n",
    "\\end{align*}\n",
    "\n",
    "where $m$ is the mass of the projectile and\n",
    "\n",
    "$${\\bf F}_a({\\bf v}) = - \\frac{1}{2}C \\rho_\\mathrm{air} A |v| {\\bf v}$$\n",
    "\n",
    "is the [Newton drag term](https://en.wikipedia.org/wiki/Projectile_motion#Trajectory_of_a_projectile_with_Newton_drag) that\n",
    "is applicable for large Reynolds numbers (turbulent), and $\\rho_\\mathrm{air}$ is the density of air, $C$ is the drag coefficient, $A$ is the cross-section\n",
    "area of the projectile."
   ]
  },
  {
   "cell_type": "markdown",
   "id": "7f41785f-3a6c-4286-82ef-5eb4bb232215",
   "metadata": {},
   "source": [
    "```{note}\n",
    "Since the force here depends on velocity, we can't use the velocity-Verlet method.\n",
    "```"
   ]
  },
  {
   "cell_type": "markdown",
   "id": "6e6ccaca-6a91-4709-b37d-7c9fdb92389c",
   "metadata": {},
   "source": [
    "We'll consider a baseball.  Then we can take:\n",
    "\n",
    "* $C = 0.3$\n",
    "* $A = \\pi (d/2)^2$ with the diameter of a baseball, $d = 7.4~\\mathrm{cm}$\n",
    "* $m = 145~\\mathrm{g}$\n",
    "* $\\rho_\\mathrm{air} = 1.2\\times 10^{-3}~\\mathrm{g/cm^3}$\n",
    "\n",
    "We also take gravity as constant, $g = 981~\\mathrm{cm/s^2}$."
   ]
  },
  {
   "cell_type": "markdown",
   "id": "a7355ee0-6a7b-4da7-925e-44947f65e79f",
   "metadata": {},
   "source": [
    "We'll imagine throwing the baseball from some height $y_0$ above the ground ($y = 0$) at an angle $\\theta$ from the horizontal with velocity\n",
    "magnitude $V$.\n",
    "\n",
    "This means our initial conditions are:\n",
    "\n",
    "\\begin{align*}\n",
    "x_0 &= 0 \\\\\n",
    "y_0 &= y_0 \\\\\n",
    "u_0 &= V \\cos(\\theta) \\\\\n",
    "v_0 &= V \\sin(\\theta)\n",
    "\\end{align*}\n",
    "\n",
    "and we want to integrate until the ball hits the ground, $y(t_\\mathrm{max}) = 0$."
   ]
  },
  {
   "cell_type": "markdown",
   "id": "4e739191-3aff-4e1f-b91b-68aa9564d0cf",
   "metadata": {},
   "source": [
    "Let's implement this using 4th-order Runge-Kutta."
   ]
  },
  {
   "cell_type": "code",
   "execution_count": 3,
   "id": "1fb2e8fc-3e4b-4186-ad23-ee3dd71568d6",
   "metadata": {},
   "outputs": [],
   "source": [
    "import numpy as np"
   ]
  },
  {
   "cell_type": "code",
   "execution_count": 59,
   "id": "c5a3e7b0-d175-42c6-96c3-763099f9c3b1",
   "metadata": {},
   "outputs": [],
   "source": [
    "C = 0.3\n",
    "d = 20\n",
    "m = 145\n",
    "A = np.pi * (d/2)**2\n",
    "rho_air = 1.2e-3\n",
    "g = 981"
   ]
  },
  {
   "cell_type": "code",
   "execution_count": 83,
   "id": "ffbc2a42-4d8c-43a4-8dbf-1e96a9d9012b",
   "metadata": {},
   "outputs": [],
   "source": [
    "def rhs(xvec):\n",
    "    x, y, u, v = xvec\n",
    "    dxdt = u\n",
    "    dydt = v\n",
    "    vmag = np.sqrt(u*u + v*v)\n",
    "    F_drag = 0.0 #-0.5 * C * rho_air * A * vmag\n",
    "    dudt = F_drag / m * u \n",
    "    dvdt = F_drag / m * v - g\n",
    "    return np.array([dxdt, dydt, dudt, dvdt])"
   ]
  },
  {
   "cell_type": "code",
   "execution_count": 84,
   "id": "c576a9a5-a669-4b56-99ee-0cdeac90c4be",
   "metadata": {},
   "outputs": [
    {
     "data": {
      "text/plain": [
       "-0.7799816243395349"
      ]
     },
     "execution_count": 84,
     "metadata": {},
     "output_type": "execute_result"
    }
   ],
   "source": [
    "-0.5 * C * rho_air * A * 2000 / 145"
   ]
  },
  {
   "cell_type": "code",
   "execution_count": 85,
   "id": "e13250dd-b3dc-44b5-b697-061d2abea8e6",
   "metadata": {},
   "outputs": [],
   "source": [
    "def integrate(dt, y0, vmag, theta):\n",
    "    xs = [0]\n",
    "    ys = [y0]\n",
    "    us = [vmag * np.cos(np.radians(theta))]\n",
    "    vs = [vmag * np.sin(np.radians(theta))]\n",
    "\n",
    "    ts = [0]\n",
    "\n",
    "    while ys[-1] > 0.0:\n",
    "        t = ts[-1]\n",
    "        x = xs[-1]\n",
    "        y = ys[-1]\n",
    "        u = us[-1]\n",
    "        v = vs[-1]\n",
    "\n",
    "        k1 = rhs([x, y, u, v])\n",
    "        k2 = rhs([x + 0.5*dt * k1[0],\n",
    "                  y + 0.5*dt * k1[1],\n",
    "                  u + 0.5*dt + k1[2],\n",
    "                  v + 0.5*dt + k1[3]])\n",
    "        k3 = rhs([x + 0.5*dt * k2[0],\n",
    "                  y + 0.5*dt * k2[1],\n",
    "                  u + 0.5*dt + k2[2],\n",
    "                  v + 0.5*dt + k2[3]])\n",
    "        k4 = rhs([x + dt * k3[0],\n",
    "                  y + dt * k3[1],\n",
    "                  u + dt + k3[2],\n",
    "                  v + dt + k3[3]])\n",
    "        x += dt/6 * (k1[0] + 2*k2[0] + 2*k3[0] + k4[0])\n",
    "        y += dt/6 * (k1[1] + 2*k2[1] + 2*k3[1] + k4[1])\n",
    "        u += dt/6 * (k1[2] + 2*k2[2] + 2*k3[2] + k4[2])\n",
    "        v += dt/6 * (k1[3] + 2*k2[3] + 2*k3[3] + k4[3])        \n",
    "\n",
    "        xs.append(x)\n",
    "        ys.append(y)\n",
    "        us.append(u)\n",
    "        vs.append(v)\n",
    "        ts.append(t + dt)\n",
    "\n",
    "    return ts, xs, ys, us, vs\n",
    "    "
   ]
  },
  {
   "cell_type": "code",
   "execution_count": 86,
   "id": "bee4efa9-71d4-4d54-9a9e-b70b480f8bb1",
   "metadata": {},
   "outputs": [],
   "source": [
    "t, x, y, u, v = integrate(0.01, 100, 3000, 45)"
   ]
  },
  {
   "cell_type": "markdown",
   "id": "35803d42-249f-4d0b-b839-e645b4d53721",
   "metadata": {},
   "source": [
    "$$dv/dt = -g$$\n",
    "\n",
    "$$v = v_0 - g t$$\n",
    "\n",
    "$$t_\\mathrm{peak} = v_0 / g$$"
   ]
  },
  {
   "cell_type": "code",
   "execution_count": null,
   "id": "7c189952-e0c7-45af-bbe7-ead8536154b9",
   "metadata": {},
   "outputs": [],
   "source": []
  },
  {
   "cell_type": "code",
   "execution_count": 87,
   "id": "942c2605-eba9-4935-9857-01a08c14395a",
   "metadata": {},
   "outputs": [
    {
     "data": {
      "text/plain": [
       "0.07206931702344546"
      ]
     },
     "execution_count": 87,
     "metadata": {},
     "output_type": "execute_result"
    }
   ],
   "source": [
    "70.7/981"
   ]
  },
  {
   "cell_type": "code",
   "execution_count": 88,
   "id": "e992cf35-0550-433f-a192-f6679a36291a",
   "metadata": {},
   "outputs": [],
   "source": [
    "import matplotlib.pyplot as plt"
   ]
  },
  {
   "cell_type": "code",
   "execution_count": 89,
   "id": "75ccfae6-7256-496d-b4fd-325e4f5e64ea",
   "metadata": {},
   "outputs": [
    {
     "data": {
      "text/plain": [
       "np.float64(2121.3203435596424)"
      ]
     },
     "execution_count": 89,
     "metadata": {},
     "output_type": "execute_result"
    }
   ],
   "source": [
    "v[0]"
   ]
  },
  {
   "cell_type": "code",
   "execution_count": 92,
   "id": "9fff19a9-f2fc-4f57-a212-9cf8447b8f85",
   "metadata": {},
   "outputs": [
    {
     "data": {
      "text/plain": [
       "(1.0, 2.0)"
      ]
     },
     "execution_count": 92,
     "metadata": {},
     "output_type": "execute_result"
    },
    {
     "data": {
      "image/png": "[encoded data removed]",
      "text/plain": [
       "<Figure size 640x480 with 1 Axes>"
      ]
     },
     "metadata": {},
     "output_type": "display_data"
    }
   ],
   "source": [
    "fig, ax = plt.subplots()\n",
    "ax.plot(t, y, marker=\"x\")\n",
    "ax.set_xlim(1, 2)"
   ]
  },
  {
   "cell_type": "code",
   "execution_count": null,
   "id": "0b7c8544-1f85-42fa-8b43-642bc71c8cfb",
   "metadata": {},
   "outputs": [],
   "source": []
  }
 ],
 "metadata": {
  "kernelspec": {
   "display_name": "Python 3 (ipykernel)",
   "language": "python",
   "name": "python3"
  },
  "language_info": {
   "codemirror_mode": {
    "name": "ipython",
    "version": 3
   },
   "file_extension": ".py",
   "mimetype": "text/x-python",
   "name": "python",
   "nbconvert_exporter": "python",
   "pygments_lexer": "ipython3",
   "version": "3.13.1"
  }
 },
 "nbformat": 4,
 "nbformat_minor": 5
}
