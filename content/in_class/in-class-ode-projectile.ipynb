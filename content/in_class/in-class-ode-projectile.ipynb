{
 "cells": [
  {
   "cell_type": "markdown",
   "id": "f53cbf2b-a742-4b6e-a3b3-cd855a21376c",
   "metadata": {},
   "source": [
    "# ODE Review: Projectile Motion"
   ]
  },
  {
   "cell_type": "markdown",
   "id": "2dc4ab01-96a1-45ca-a0fd-93465dad965e",
   "metadata": {},
   "source": [
    "Let's try solving for projectile motion with drag (air resistance).\n",
    "\n",
    "We want to solve:\n",
    "\n",
    "\\begin{align*}\n",
    "\\dot{\\bf r} &= {\\bf v} \\\\\n",
    "\\dot{\\bf v} &= \\frac{1}{m} {\\bf F}_a({\\bf v}) - g \\hat{\\bf y}\n",
    "\\end{align*}\n",
    "\n",
    "where $m$ is the mass of the projectile and\n",
    "\n",
    "$${\\bf F}_a({\\bf v}) = - \\frac{1}{2}C \\rho_\\mathrm{air} A |v| {\\bf v}$$\n",
    "\n",
    "is the [Newton drag term](https://en.wikipedia.org/wiki/Projectile_motion#Trajectory_of_a_projectile_with_Newton_drag) that\n",
    "is applicable for large Reynolds numbers (turbulent), and $\\rho_\\mathrm{air}$ is the density of air, $C$ is the drag coefficient, $A$ is the cross-section\n",
    "area of the projectile."
   ]
  },
  {
   "cell_type": "markdown",
   "id": "7f41785f-3a6c-4286-82ef-5eb4bb232215",
   "metadata": {},
   "source": [
    "```{note}\n",
    "Since the force here depends on velocity, we can't use the velocity-Verlet method.\n",
    "```"
   ]
  },
  {
   "cell_type": "markdown",
   "id": "6e6ccaca-6a91-4709-b37d-7c9fdb92389c",
   "metadata": {},
   "source": [
    "We'll consider a baseball.  Then we can take:\n",
    "\n",
    "* $C = 0.3$\n",
    "* $A = \\pi (d/2)^2$ with the diameter of a baseball, $d = 7.4~\\mathrm{cm}$\n",
    "* $m = 145~\\mathrm{g}$\n",
    "* $\\rho_\\mathrm{air} = 1.2\\times 10^{-3}~\\mathrm{g/cm^3}$\n",
    "\n",
    "We also take gravity as constant, $g = 981~\\mathrm{cm/s^2}$."
   ]
  },
  {
   "cell_type": "markdown",
   "id": "a7355ee0-6a7b-4da7-925e-44947f65e79f",
   "metadata": {},
   "source": [
    "We'll imagine throwing the baseball from some height $y_0$ above the ground ($y = 0$) at an angle $\\theta$ from the horizontal with velocity\n",
    "magnitude $V$.\n",
    "\n",
    "This means our initial conditions are:\n",
    "\n",
    "\\begin{align*}\n",
    "x_0 &= 0 \\\\\n",
    "y_0 &= y_0 \\\\\n",
    "u_0 &= V \\cos(\\theta) \\\\\n",
    "v_0 &= V \\sin(\\theta)\n",
    "\\end{align*}\n",
    "\n",
    "and we want to integrate until the ball hits the ground, $y(t_\\mathrm{max}) = 0$."
   ]
  },
  {
   "cell_type": "markdown",
   "id": "4e739191-3aff-4e1f-b91b-68aa9564d0cf",
   "metadata": {},
   "source": [
    "Let's implement this using 4th-order Runge-Kutta."
   ]
  },
  {
   "cell_type": "code",
   "execution_count": null,
   "id": "c5a3e7b0-d175-42c6-96c3-763099f9c3b1",
   "metadata": {},
   "outputs": [],
   "source": []
  }
 ],
 "metadata": {
  "kernelspec": {
   "display_name": "Python 3 (ipykernel)",
   "language": "python",
   "name": "python3"
  },
  "language_info": {
   "codemirror_mode": {
    "name": "ipython",
    "version": 3
   },
   "file_extension": ".py",
   "mimetype": "text/x-python",
   "name": "python",
   "nbconvert_exporter": "python",
   "pygments_lexer": "ipython3",
   "version": "3.13.2"
  }
 },
 "nbformat": 4,
 "nbformat_minor": 5
}
