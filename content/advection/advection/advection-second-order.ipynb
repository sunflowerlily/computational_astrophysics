{
 "cells": [
  {
   "cell_type": "markdown",
   "metadata": {},
   "source": [
    "# Second-order advection"
   ]
  },
  {
   "cell_type": "markdown",
   "metadata": {},
   "source": [
    "To get a more accurate solution, we need to handle both the space and time discretizations in a higher order fashion.\n",
    "\n",
    "First, let's look again at the definition of the average:\n",
    "\n",
    "$$\\langle a \\rangle_i = \\frac{1}{\\Delta x} \\int_{x_{i-1/2}}^{x_{i+1/2}} a(x) dx$$\n",
    "\n",
    "let's substitute in a Taylor expansion about $x_i$:\n",
    "\n",
    "$$a(x) = a(x_i) + \\left . \\frac{\\partial a}{\\partial x} \\right |_i (x - x_i) + \\frac{1}{2} \\left . \\frac{\\partial^2 a}{\\partial x^2} \\right |_i (x - x_i)^2 + \\mathcal{O}(\\Delta x^3)$$\n",
    "\n",
    "inserting this into our integral, we have:\n",
    "\n",
    "$$\\langle a \\rangle_i = \\frac{1}{\\Delta x} \\int_{x_{i-1/2}}^{x_{i+1/2}} \n",
    "    \\left [a(x_i) + \\left . \\frac{\\partial a}{\\partial x} \\right |_i (x - x_i) + \\frac{1}{2} \\left . \\frac{\\partial^2 a}{\\partial x^2} \\right |_i (x - x_i)^2 + \\mathcal{O}(\\Delta x^3) \\right ] dx$$\n",
    "\n",
    "Look at the terms:\n",
    "\n",
    "* the first term is just a constant, so it's integral is just $a(x_i) \\Delta x$\n",
    "* the second term is odd over the interface $[x_{i-1/2},x_{i+1/2}]$, so it integrates to 0\n",
    "* the third term will integrate to something like $(\\Delta x)^3$ (before we divide by the $\\Delta x$ out front)\n",
    "\n",
    "This means that\n",
    "\n",
    "$$\\langle a \\rangle_i = a(x_i) + \\mathcal{O}(\\Delta x^2)$$"
   ]
  },
  {
   "cell_type": "markdown",
   "metadata": {},
   "source": [
    "```{tip}\n",
    "If we work to second-order in space, then we don't need to worry about the difference between the cell average and cell-center.  \n",
    "```"
   ]
  },
  {
   "cell_type": "markdown",
   "metadata": {},
   "source": [
    "To make the notation easier, we'll drop the $\\langle \\rangle$ from now forward."
   ]
  },
  {
   "cell_type": "markdown",
   "metadata": {},
   "source": [
    "There are 2 broad ways that we can handle the time integration to get more accuracy:\n",
    "\n",
    "* Predict our interface states at the midpoint in time using a Taylor expansion (in both space and time).  This would result in a time-centered interface state.  This procedure is sometimes called *characteristic tracing*.  \n",
    "\n",
    "* Just construct high-order interface states in space, ignoring how they evolve in time, and use a high-order integrator (like Runge-Kutta) to handle the time integration.  This is called the [*method-of-lines*](https://en.wikipedia.org/wiki/Method_of_lines) approach.\n",
    "\n",
    "We'll focus on the second approach (method-of-lines).  For details on the first, see my notes: [Computational Hydrodynamics for Astrophysics](https://github.com/Open-Astrophysics-Bookshelf/numerical_exercises)"
   ]
  },
  {
   "cell_type": "markdown",
   "metadata": {},
   "source": [
    "## Piecewise linear reconstruction\n",
    "\n",
    "For the first order method, we did the reconstruction to the interfaces by assuming that $a(x)$ is constant in a cell.  This is called *piecewise constant reconstruction*.\n",
    "\n",
    "To be higher-order accurate, we need to allow for some variation in the zone.  The next easiest approach is to allow $a(x)$ to vary linearly in the zone.  This is called *piecewise linear reconstruction*. \n",
    "\n",
    "![piecewise linear reconstruction](riemann-mol.png)\n",
    "\n",
    "In the figure above, the cell-average is represented by the dotted gray line and the reconstructed slopes, $\\Delta a_i$, are the red solid lines.  We can use a centered-difference for the slope, e.g.,\n",
    "\n",
    "$$\\Delta a_i = \\frac{a_{i+1} - a_{i-1}}{2}$$\n",
    "\n",
    "Our reconstructed form of $a(x)$ in zone $i$ in this case is:\n",
    "\n",
    "$$a_i(x) = \\frac{\\Delta a_i}{\\Delta x} (x - x_i) + a_i$$\n",
    "\n",
    "and this is conservative, e.g.,\n",
    "\n",
    "$$\\frac{1}{\\Delta x} \\int_{x_{i-1/2}}^{x_{i+1/2}} a(x) dx = a_i$$\n",
    "\n",
    "Then we construct the interface states by following this slope from the value $a_i$ at $x_i$ to the two interfaces for that zone."
   ]
  },
  {
   "cell_type": "markdown",
   "metadata": {},
   "source": [
    "```{note}\n",
    "Zone $i$ connects to the right state on the left interface ($i-1/2$) and the left state on the right interface ($i+1/2$)\n",
    "```"
   ]
  },
  {
   "cell_type": "markdown",
   "metadata": {},
   "source": [
    "The states seen by zone $i$ are:\n",
    "\n",
    "![advection states](advection-states.png)\n",
    "\n",
    "Therefore, we have:\n",
    "\n",
    "$$a_{i-1/2,R} = a(x_i - \\Delta x/2) = a_i - \\frac{1}{2} \\Delta a_i$$\n",
    "\n",
    "$$a_{i+1/2,L} = a(x_i + \\Delta x/2) = a_i + \\frac{1}{2} \\Delta a_i$$"
   ]
  },
  {
   "cell_type": "markdown",
   "metadata": {},
   "source": [
    "## Ghost cells\n",
    "\n",
    "There is one additional complication: we need the interface state just outside the physical domain, which means that we need to construct a slope there, which in turn means that we need to have an additional ghost cell to allow us to compute the centered-difference slope.  So for this method, we need 2 ghost cells on each side.\n",
    "\n",
    "![ghost cells in the finite-volume method](fv_ghost.png)"
   ]
  },
  {
   "cell_type": "markdown",
   "metadata": {},
   "source": [
    "## Implementation"
   ]
  },
  {
   "cell_type": "markdown",
   "metadata": {},
   "source": [
    "To start, we need a class that hold the data on a finite-volume grid and knows how to fill ghost cells on *any array* that lives on our domain."
   ]
  },
  {
   "cell_type": "code",
   "execution_count": 1,
   "metadata": {
    "tags": []
   },
   "outputs": [],
   "source": [
    "import numpy as np\n",
    "import matplotlib.pyplot as plt"
   ]
  },
  {
   "cell_type": "code",
   "execution_count": 2,
   "metadata": {},
   "outputs": [],
   "source": [
    "class FVGrid:\n",
    "\n",
    "    def __init__(self, nx, ng=2, xmin=0.0, xmax=1.0):\n",
    "\n",
    "        self.xmin = xmin\n",
    "        self.xmax = xmax\n",
    "        self.ng = ng\n",
    "        self.nx = nx\n",
    "\n",
    "        # python is zero-based.  Make easy integers to know where the\n",
    "        # real data lives\n",
    "        self.ilo = ng\n",
    "        self.ihi = ng+nx-1\n",
    "\n",
    "        # physical coords -- cell-centered, left and right edges\n",
    "        self.dx = (xmax - xmin)/(nx)\n",
    "        self.x = xmin + (np.arange(nx+2*ng)-ng+0.5)*self.dx\n",
    "        self.xl = xmin + (np.arange(nx+2*ng)-ng)*self.dx\n",
    "        self.xr = xmin + (np.arange(nx+2*ng)-ng+1.0)*self.dx\n",
    "\n",
    "        # storage for the solution\n",
    "        self.a = self.scratch_array()\n",
    "        self.ainit = self.scratch_array()\n",
    "\n",
    "    def period(self, u):\n",
    "        \"\"\" return the period for advection with velocity u \"\"\"\n",
    "        return (self.xmax - self.xmin) / np.abs(u)\n",
    "\n",
    "    def scratch_array(self):\n",
    "        \"\"\" return a scratch array dimensioned for our grid \"\"\"\n",
    "        return np.zeros((self.nx+2*self.ng), dtype=np.float64)\n",
    "\n",
    "    def fill_BCs(self, atmp):\n",
    "        \"\"\" fill all ghostcells with periodic boundary conditions \"\"\"\n",
    "\n",
    "        # left boundary\n",
    "        for n in range(self.ng):\n",
    "            atmp[self.ilo-1-n] = atmp[self.ihi-n]\n",
    "\n",
    "        # right boundary\n",
    "        for n in range(self.ng):\n",
    "            atmp[self.ihi+1+n] = atmp[self.ilo+n]\n",
    "\n",
    "    def norm(self, e):\n",
    "        \"\"\" return the norm of quantity e which lives on the grid \"\"\"\n",
    "        if not len(e) == (2*self.ng + self.nx):\n",
    "            return None\n",
    "\n",
    "        return np.sqrt(self.dx*np.sum(e[self.ilo:self.ihi+1]**2))\n",
    "    \n",
    "    def plot(self):\n",
    "        fig = plt.figure()\n",
    "        ax = fig.add_subplot(111)\n",
    "\n",
    "        ax.plot(self.x, self.ainit, label=\"initial conditions\")\n",
    "        ax.plot(self.x, self.a)\n",
    "        ax.legend()\n",
    "        return fig"
   ]
  },
  {
   "cell_type": "markdown",
   "metadata": {},
   "source": [
    "Now, we'll use 2nd order Runge-Kutta.  If we use the implementation ideas from before, then we want a RHS function that we can call that just gives us the update.  Here we are thinking of our equation as:\n",
    "\n",
    "$$\\dot{y}_i = g(y_i)$$\n",
    "\n",
    "where \n",
    "\n",
    "$$g(y_i) = -\\frac{1}{\\Delta x} \\left [ F(a_{i+1/2}) - F(a_{i-1/2}) \\right ]$$"
   ]
  },
  {
   "cell_type": "markdown",
   "metadata": {},
   "source": [
    "```{important}\n",
    "We need to store interface values (which we've been denoting with half-integer subscripts, like $a_{i-1/2}$) as arrays which only take integer indices.  We will adopt the common convention that when an array refers to an interface state, it denotes the left interface of a cell.\n",
    "\n",
    "E.g., `aint[i]}` means $a_{i-1/2}$\n",
    "```"
   ]
  },
  {
   "cell_type": "markdown",
   "metadata": {},
   "source": [
    "We illustrate the indexing for arrays below: `a[]` which stores cell center quantities and `aint[]` which stores interface values:\n",
    "\n",
    "![array notation for interfaces](array-labels.png)"
   ]
  },
  {
   "cell_type": "code",
   "execution_count": 3,
   "metadata": {},
   "outputs": [],
   "source": [
    "def flux_update(gr, u, a):\n",
    "    \"\"\"compute -div{F} for linear advection\"\"\"\n",
    "\n",
    "    # slope\n",
    "    da = gr.scratch_array()\n",
    "    da[gr.ilo-1:gr.ihi+2] = 0.5*(a[gr.ilo:gr.ihi+3] - a[gr.ilo-2:gr.ihi+1])\n",
    "\n",
    "    # upwinding means that we take the left state always\n",
    "    # convection: aint[i] = a_{i-1/2}\n",
    "    aint = gr.scratch_array()\n",
    "    aint[gr.ilo:gr.ihi+2] = a[gr.ilo-1:gr.ihi+1] + 0.5*da[gr.ilo-1:gr.ihi+1]\n",
    "\n",
    "    flux_diff = gr.scratch_array()\n",
    "    flux_diff[gr.ilo:gr.ihi+1] = u * (aint[gr.ilo:gr.ihi+1] - aint[gr.ilo+1:gr.ihi+2]) / gr.dx\n",
    "\n",
    "    return flux_diff"
   ]
  },
  {
   "cell_type": "markdown",
   "metadata": {},
   "source": [
    "Now we write the time update.  This is going to look a lot what we did with orbits.  The main thing we need to remember is that we need to fill the ghost cells before we compute the RHS"
   ]
  },
  {
   "cell_type": "code",
   "execution_count": 4,
   "metadata": {},
   "outputs": [],
   "source": [
    "def advection_mol(nx, u, C, num_periods=1, init_cond=None):\n",
    "\n",
    "    # create a grid\n",
    "    g = FVGrid(nx, ng=2)\n",
    "\n",
    "    tmax = num_periods * g.period(u)\n",
    "\n",
    "    # setup initial conditions\n",
    "    init_cond(g)\n",
    "\n",
    "    g.ainit[:] = g.a[:]\n",
    "    \n",
    "    # compute the timestep\n",
    "    dt = C * g.dx / np.abs(u)\n",
    "\n",
    "    t = 0.0\n",
    "    while t < tmax:\n",
    "\n",
    "        if t + dt > tmax:\n",
    "            dt = tmax - t\n",
    "\n",
    "        # second-order RK integration\n",
    "        g.fill_BCs(g.a)\n",
    "        k1 = flux_update(g, u, g.a)\n",
    "\n",
    "        atmp = g.scratch_array()\n",
    "        atmp[:] = g.a[:] + 0.5 * dt * k1[:]\n",
    "\n",
    "        g.fill_BCs(atmp)\n",
    "        k2 = flux_update(g, u, atmp)\n",
    "\n",
    "        g.a[:] += dt * k2[:]\n",
    "\n",
    "        t += dt\n",
    "\n",
    "    return g"
   ]
  },
  {
   "cell_type": "markdown",
   "metadata": {},
   "source": [
    "## Testing \n",
    "\n",
    "To test this out, let's use the same initial conditions as before."
   ]
  },
  {
   "cell_type": "code",
   "execution_count": 5,
   "metadata": {},
   "outputs": [],
   "source": [
    "def tophat(g):\n",
    "    g.a[:] = 0.0\n",
    "    g.a[np.logical_and(g.x >= 1./3, g.x <= 2./3.)] = 1.0"
   ]
  },
  {
   "cell_type": "code",
   "execution_count": 6,
   "metadata": {},
   "outputs": [
    {
     "data": {
      "image/png": "[encoded data removed]",
      "text/plain": [
       "<Figure size 640x480 with 1 Axes>"
      ]
     },
     "metadata": {},
     "output_type": "display_data"
    }
   ],
   "source": [
    "C = 0.5\n",
    "u = 1.0\n",
    "nx = 128\n",
    "\n",
    "g = advection_mol(nx, u, C, init_cond=tophat)\n",
    "fig = g.plot()"
   ]
  },
  {
   "cell_type": "markdown",
   "metadata": {},
   "source": [
    "Now we'll try a Gaussian:"
   ]
  },
  {
   "cell_type": "code",
   "execution_count": 7,
   "metadata": {
    "tags": []
   },
   "outputs": [
    {
     "data": {
      "image/png": "[encoded data removed]",
      "text/plain": [
       "<Figure size 640x480 with 1 Axes>"
      ]
     },
     "metadata": {},
     "output_type": "display_data"
    }
   ],
   "source": [
    "def gaussian(g):\n",
    "    g.a[:] = np.exp(-(g.x - 0.5)**2/0.1)\n",
    "    \n",
    "g = advection_mol(nx, u, C, init_cond=gaussian)\n",
    "fig = g.plot()"
   ]
  },
  {
   "cell_type": "markdown",
   "metadata": {},
   "source": [
    "One thing you'll notice is that with tophat initial conditions, there are oscillations near the discontinuities.  We don't see these with the smooth run."
   ]
  },
  {
   "cell_type": "markdown",
   "metadata": {},
   "source": [
    "## Slope limiting\n",
    "\n",
    "To fix the oscillations we need to modify the slopes."
   ]
  },
  {
   "cell_type": "markdown",
   "metadata": {},
   "source": [
    "```{important}\n",
    "[Godunov's theorem](https://en.wikipedia.org/wiki/Godunov's_theorem) says:\n",
    "\n",
    "  > *Any monotonic linear method for advection is first order accurate*\n",
    "```"
   ]
  },
  {
   "cell_type": "markdown",
   "metadata": {},
   "source": [
    "The converse of Godunov's theorem is true too.  This means that in order to be monotonic and second-order accurate, we need to make our method nonlinear.\n",
    "\n",
    "This is accomplished through the use of slope limiters.  A limiter modifies the piecewise linear slopes near extrema to prevent overshoots.  Mathematically they enforce a property called [total variation diminshing](https://en.wikipedia.org/wiki/Total_variation_diminishing).\n",
    "\n",
    "A simple limiter is the *minmod limiter*:\n",
    "\n",
    "$$\\Delta a_i = \\mathtt{minmod} \\left (\n",
    "  {a_i - a_{i-1}}, {a_{i+1} - a_i} \\right )$$\n",
    "\n",
    "with:\n",
    "\n",
    "$$\n",
    "\\mathtt{minmod}(a,b) = \\left \\{\n",
    "    \\begin{array}{ll}\n",
    "    a & \\mathit{if~} |a| < |b| \\mathrm{~and~} a\\cdot b > 0 \\\\\n",
    "    b & \\mathit{if~} |b| < |a| \\mathrm{~and~} a\\cdot b > 0 \\\\\n",
    "    0 & \\mathit{otherwise}\n",
    "    \\end{array}\n",
    "  \\right .\n",
    "$$"
   ]
  },
  {
   "cell_type": "markdown",
   "metadata": {},
   "source": [
    "```{tip}\n",
    "Most limiters have a form like this.  The key is the check $a \\cdot b > 0$.  That is checking if the slopes on the left and right of the interface are the same sign.  If they are not the same sign, then we are at an extrema (a minimum or maximum) and those are the situations where we want to limit.\n",
    "```"
   ]
  },
  {
   "cell_type": "markdown",
   "metadata": {},
   "source": [
    "Here's a visualization of the effect of the limiter:\n",
    "\n",
    "![limited slopes](generalgrid.png)\n",
    "\n",
    "The gray lines are the original unlimited slopes.  Notice that the slope at $i - 2$ goes well above the original data on the right edge of the domain.  That zone is a maximum.  The limited slopes are shown in red.  For zone $i-2$ the result of the limiting is to completely flatten the profile&mdash;we go to piecewise constant in that zone."
   ]
  },
  {
   "cell_type": "markdown",
   "metadata": {},
   "source": [
    "Let's implement this limiter:"
   ]
  },
  {
   "cell_type": "code",
   "execution_count": 8,
   "metadata": {
    "tags": []
   },
   "outputs": [],
   "source": [
    "def flux_update(gr, u, a):\n",
    "    \"\"\"compute -div{F} for linear advection\"\"\"\n",
    "\n",
    "    # slope\n",
    "    \n",
    "    # dl = a_i - a_{i-1}\n",
    "    dl = gr.scratch_array()\n",
    "    dl[gr.ilo-1:gr.ihi+2] = a[gr.ilo-1:gr.ihi+2] - a[gr.ilo-2:gr.ihi+1]\n",
    "\n",
    "    # dr = a_{i+1} - a_i\n",
    "    dr = gr.scratch_array()\n",
    "    dr[gr.ilo-1:gr.ihi+2] = a[gr.ilo:gr.ihi+3] - a[gr.ilo-1:gr.ihi+2]\n",
    "    \n",
    "    d1 = np.where(np.fabs(dl) < np.fabs(dr), dl, dr)\n",
    "    da = np.where(dl*dr > 0.0, d1, 0.0)\n",
    "    \n",
    "    # upwinding means that we take the left state always\n",
    "    # convection: aint[i] = a_{i-1/2}\n",
    "    aint = gr.scratch_array()\n",
    "    aint[gr.ilo:gr.ihi+2] = a[gr.ilo-1:gr.ihi+1] + 0.5*da[gr.ilo-1:gr.ihi+1]\n",
    "\n",
    "    flux_diff = gr.scratch_array()\n",
    "    flux_diff[gr.ilo:gr.ihi+1] = u * (aint[gr.ilo:gr.ihi+1] - aint[gr.ilo+1:gr.ihi+2]) / gr.dx\n",
    "\n",
    "    return flux_diff"
   ]
  },
  {
   "cell_type": "markdown",
   "metadata": {},
   "source": [
    "and rerun the tophat conditions"
   ]
  },
  {
   "cell_type": "code",
   "execution_count": 9,
   "metadata": {
    "tags": []
   },
   "outputs": [
    {
     "data": {
      "image/png": "[encoded data removed]",
      "text/plain": [
       "<Figure size 640x480 with 1 Axes>"
      ]
     },
     "metadata": {},
     "output_type": "display_data"
    }
   ],
   "source": [
    "C = 0.5\n",
    "u = 1.0\n",
    "nx = 128\n",
    "\n",
    "g = advection_mol(nx, u, C, init_cond=tophat)\n",
    "fig = g.plot()"
   ]
  },
  {
   "cell_type": "markdown",
   "metadata": {},
   "source": [
    "## Convergence\n",
    "    \n",
    "Now let's see if we are really second-order accurate.  We'll compute the norm of the error after 1 period with and without the limiters for the sine initial conditions used previous."
   ]
  },
  {
   "cell_type": "code",
   "execution_count": 10,
   "metadata": {},
   "outputs": [],
   "source": [
    "def sine(g):\n",
    "    g.a[:] = 1.0 + 0.5 * np.sin(2.0*np.pi*g.x)"
   ]
  },
  {
   "cell_type": "code",
   "execution_count": 11,
   "metadata": {},
   "outputs": [
    {
     "name": "stdout",
     "output_type": "stream",
     "text": [
      " 32: 0.03721840\n",
      " 64: 0.01323005\n",
      "128: 0.00421420\n",
      "256: 0.00132975\n"
     ]
    }
   ],
   "source": [
    "u = 1.0\n",
    "C = 0.5\n",
    "\n",
    "for nx in [32, 64, 128, 256]:\n",
    "    g = advection_mol(nx, u, C, init_cond=sine)\n",
    "    print(f\"{nx:3d}: {g.norm(g.a - g.ainit):10.8f}\")"
   ]
  },
  {
   "cell_type": "markdown",
   "metadata": {},
   "source": [
    "We see convergence that is better than first order accurate, but not second.  The reason is due to the limiters.  When the limiters act at an extrema, they zero out the slope, dropping the order (in space)\n",
    "to first-order accurate.\n",
    "\n",
    "There are limiters that do a better job than `minmod()` that can be explored to help fix this."
   ]
  },
  {
   "cell_type": "markdown",
   "metadata": {},
   "source": [
    "## C++ implementation\n",
    "\n",
    "Here's a C++ implementation that follows the same ideas as the python version developed here:\n",
    "\n",
    "* `fvgrid.H` : the finite-volume grid class\n",
    "\n",
    "  ```{literalinclude} ../../../examples/advection/second_order/fvgrid.H\n",
    "  :language: C++\n",
    "  ```\n",
    "  \n",
    "* `initial_conditions.H` : the initial conditions\n",
    "\n",
    "  ```{literalinclude} ../../../examples/advection/second_order/initial_conditions.H\n",
    "  :language: C++\n",
    "  ```\n",
    "  \n",
    "* `advection_fv.cpp` : the driver and `main()`\n",
    "\n",
    "  ```{literalinclude} ../../../examples/advection/second_order/advection_fv.cpp\n",
    "  :language: C++\n",
    "  ```"
   ]
  },
  {
   "cell_type": "markdown",
   "metadata": {},
   "source": [
    "This can be compiled as:\n",
    "\n",
    "```\n",
    "g++ -o advection_fv advection_fv.cpp\n",
    "```"
   ]
  },
  {
   "cell_type": "code",
   "execution_count": null,
   "metadata": {},
   "outputs": [],
   "source": []
  }
 ],
 "metadata": {
  "kernelspec": {
   "display_name": "Python 3 (ipykernel)",
   "language": "python",
   "name": "python3"
  },
  "language_info": {
   "codemirror_mode": {
    "name": "ipython",
    "version": 3
   },
   "file_extension": ".py",
   "mimetype": "text/x-python",
   "name": "python",
   "nbconvert_exporter": "python",
   "pygments_lexer": "ipython3",
   "version": "3.13.2"
  }
 },
 "nbformat": 4,
 "nbformat_minor": 4
}
