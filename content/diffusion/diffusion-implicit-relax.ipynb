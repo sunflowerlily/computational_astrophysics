{
 "cells": [
  {
   "cell_type": "markdown",
   "id": "ac70fda6-cbb4-4eda-b049-fb03e8b51a0f",
   "metadata": {},
   "source": [
    "# Implicit Diffusion via Relaxation"
   ]
  },
  {
   "cell_type": "markdown",
   "id": "64c7004d-4fb7-46fd-a8a0-fe0485237ac0",
   "metadata": {},
   "source": [
    "We want to solve the implicit heat equation via relaxation.  Our discretized form of the equation is:\n",
    "\n",
    "$$-\\alpha \\phi^{n+1}_{i-1} + (1 + 2\\alpha) \\phi_i^{n+1}\n",
    "- \\alpha \\phi_{i+1}^{n+1} = \\phi_i^n$$\n",
    "\n",
    "We'll write the righthand side as $f_i$, with \n",
    "\n",
    "$$f_i = \\phi_i^n$$\n",
    "\n",
    "then, solving for $\\phi_i^{n+1}$, our relaxation update is:\n",
    "\n",
    "$$\\phi_{i}^{n+1} = (1 + 2\\alpha)^{-1} \\left (f_i + \\alpha \\phi_{i+1}^{n+1} + \\alpha \\phi_{i-1}^{n+1} \\right )$$"
   ]
  },
  {
   "cell_type": "markdown",
   "id": "514f2ebc-e2a1-48ee-9434-5913e7ee56d9",
   "metadata": {},
   "source": [
    "## Implementation\n",
    "\n",
    "We can use the same class we did for the Poisson equation, but with a modified relaxation and residual routine as well as a time loop encompassing the entire update."
   ]
  },
  {
   "cell_type": "code",
   "execution_count": 1,
   "id": "7d7c4490-c228-44df-b08e-72bfe29109a3",
   "metadata": {
    "tags": []
   },
   "outputs": [],
   "source": [
    "import numpy as np\n",
    "import matplotlib.pyplot as plt"
   ]
  },
  {
   "cell_type": "code",
   "execution_count": 2,
   "id": "861b4d9b-55e9-4b4d-aa97-e4eaee802ab5",
   "metadata": {
    "tags": []
   },
   "outputs": [],
   "source": [
    "class Grid:\n",
    "    \"\"\"an implementation of solving the Poisson equation via pure relaxation\"\"\"\n",
    "\n",
    "    def __init__(self, nx, ng=1, xmin=0, xmax=1):\n",
    "\n",
    "        self.xmin = xmin\n",
    "        self.xmax = xmax\n",
    "        self.ng = ng\n",
    "        self.nx = nx\n",
    "        \n",
    "        # python is zero-based.  Make easy integers to know where the\n",
    "        # real data lives\n",
    "        self.ilo = ng\n",
    "        self.ihi = ng+nx-1\n",
    "\n",
    "        # physical coords -- cell-centered\n",
    "        self.dx = (xmax - xmin)/(nx)\n",
    "        self.x = xmin + (np.arange(nx+2*ng)-ng+0.5)*self.dx\n",
    "\n",
    "        # storage for the solution\n",
    "        self.phi = self.scratch_array()\n",
    "        self.f = self.scratch_array()\n",
    "\n",
    "    def scratch_array(self):\n",
    "        \"\"\"return a scratch array dimensioned for our grid \"\"\"\n",
    "        return np.zeros((self.nx+2*self.ng), dtype=np.float64)\n",
    "\n",
    "    def norm(self, e):\n",
    "        \"\"\"compute the L2 norm of e that lives on our grid\"\"\"\n",
    "        return np.sqrt(self.dx * np.sum(e[self.ilo:self.ihi+1]**2))\n",
    "\n",
    "\n",
    "    def fill_bcs(self):\n",
    "        \"\"\"fill the boundary conditions on phi\"\"\"\n",
    "\n",
    "        # we only deal with a single ghost cell here and Neumann BCs\n",
    "        self.phi[self.ilo-1] = self.phi[self.ilo]\n",
    "        self.phi[self.ihi+1] = self.phi[self.ihi]"
   ]
  },
  {
   "cell_type": "markdown",
   "id": "3ed9e300-dd5a-40fd-9010-9f05928e18f6",
   "metadata": {},
   "source": [
    "Here's the class that just holds the residual and relaxation routine.  We only needed\n",
    "to change the coefficients of the $\\phi$ terms to implement this new equation."
   ]
  },
  {
   "cell_type": "code",
   "execution_count": 3,
   "id": "5b3e7390-7dbb-47ca-bc1f-2b2bf7a1ee9c",
   "metadata": {
    "tags": []
   },
   "outputs": [],
   "source": [
    "class ParabolicSolve:\n",
    "    \n",
    "    def __init__(self, grid, alpha):\n",
    "        self.grid = grid\n",
    "        self.alpha = alpha\n",
    "        \n",
    "    def residual_norm(self):\n",
    "        \"\"\"compute the residual norm\"\"\"\n",
    "        g = self.grid\n",
    "        r = g.scratch_array()\n",
    "        r[g.ilo:g.ihi+1] = g.f[g.ilo:g.ihi+1] - \\\n",
    "            (-self.alpha * (g.phi[g.ilo+1:g.ihi+2] + g.phi[g.ilo-1:g.ihi]) +\n",
    "             (1.0 + 2.0 * self.alpha) * g.phi[g.ilo:g.ihi+1])\n",
    "        return g.norm(r)\n",
    "\n",
    "    def relax(self, tol=1.e-8):\n",
    "\n",
    "        g = self.grid\n",
    "        fnorm = g.norm(g.f)\n",
    "\n",
    "        g.fill_bcs()\n",
    "        r = self.residual_norm()\n",
    "\n",
    "        while r > tol * fnorm:\n",
    "\n",
    "            g.phi[g.ilo:g.ihi+1:2] = 1.0 / (1.0 + 2.0 * self.alpha) * (\n",
    "                g.f[g.ilo:g.ihi+1:2] +\n",
    "                self.alpha * (g.phi[g.ilo+1:g.ihi+2:2] +\n",
    "                              g.phi[g.ilo-1:g.ihi:2]))\n",
    "\n",
    "            g.fill_bcs()\n",
    "\n",
    "            g.phi[g.ilo+1:g.ihi+1:2] = 1.0 / (1.0 + 2.0 * self.alpha) * (\n",
    "                g.f[g.ilo+1:g.ihi+1:2] +\n",
    "                self.alpha * (g.phi[g.ilo+2:g.ihi+2:2] +\n",
    "                              g.phi[g.ilo:g.ihi:2]))\n",
    "\n",
    "            g.fill_bcs()\n",
    "\n",
    "            r = self.residual_norm()"
   ]
  },
  {
   "cell_type": "markdown",
   "id": "5363be2c-0904-444d-9531-42d072bc78c7",
   "metadata": {},
   "source": [
    "We'll use the same BCs as before"
   ]
  },
  {
   "cell_type": "code",
   "execution_count": 4,
   "id": "2f645a6f-0317-4943-84fd-3d801e199bd9",
   "metadata": {
    "tags": []
   },
   "outputs": [],
   "source": [
    "def gaussian_ic(g, k, t=0.0, t0=1.e-4, phi1=1.0, phi2=2.0):\n",
    "    xc = 0.5*(g.xmin + g.xmax)\n",
    "    return (phi2 - phi1) * (np.sqrt(t0/(t + t0)) *\n",
    "                            np.exp(-0.25 * (g.x - xc)**2 / (k * (t + t0)))) + phi1"
   ]
  },
  {
   "cell_type": "markdown",
   "id": "58b3503c-3211-4787-881f-c6518a5446ec",
   "metadata": {},
   "source": [
    "Our driver is again essentially the same as we used for the direct solve,\n",
    "except now we setup the `ParabolicSolve` and solve it each timestep."
   ]
  },
  {
   "cell_type": "code",
   "execution_count": 5,
   "id": "e1117677-b38a-485b-912d-97b5216c3496",
   "metadata": {
    "tags": []
   },
   "outputs": [],
   "source": [
    "def diffuse_implicit(nx, k, C, tmax, init_cond):\n",
    "    \"\"\"\n",
    "    the main evolution loop.  Evolve\n",
    "\n",
    "     phi_t = k phi_{xx}\n",
    "\n",
    "    from t = 0 to tmax\n",
    "    \"\"\"\n",
    "\n",
    "    # create the grid\n",
    "    ng = 1\n",
    "    \n",
    "    g = Grid(nx, ng)\n",
    "\n",
    "    # time info\n",
    "    dt = C * 0.5 *g.dx**2 / k\n",
    "    t = 0.0\n",
    "\n",
    "    # initialize the data\n",
    "    g.phi[:] = init_cond(g, k)\n",
    "\n",
    "    while t < tmax:\n",
    "\n",
    "        # make sure we end right at tmax\n",
    "        if t + dt > tmax:\n",
    "            dt = tmax - t\n",
    "\n",
    "        # diffuse for dt\n",
    "        \n",
    "        alpha = k * dt / g.dx**2\n",
    "        \n",
    "        solver = ParabolicSolve(g, alpha)\n",
    "        g.f[:] = g.phi[:]\n",
    "        solver.relax()\n",
    "        t += dt\n",
    "\n",
    "    return g"
   ]
  },
  {
   "cell_type": "markdown",
   "id": "4011eb25-1277-45e6-a767-682eb598ddae",
   "metadata": {},
   "source": [
    "## Solutions"
   ]
  },
  {
   "cell_type": "markdown",
   "id": "c101e9fc-b565-4abc-b384-45fc94cde16b",
   "metadata": {},
   "source": [
    "We'll solve with the same conditions as used for the direct solve.  Aside from roundoff / relaxation tolerance error, the\n",
    "two methods are identical.  They are just going about solving the linear system differently."
   ]
  },
  {
   "cell_type": "code",
   "execution_count": 6,
   "id": "238d168d-72c8-4502-ae4f-e68faa082b61",
   "metadata": {
    "tags": []
   },
   "outputs": [],
   "source": [
    "nx = 128\n",
    "\n",
    "k = 1\n",
    "\n",
    "t_diffuse = (1.0/nx)**2 / k"
   ]
  },
  {
   "cell_type": "code",
   "execution_count": 7,
   "id": "bcc98d53-e698-41a3-a076-8888da57f515",
   "metadata": {
    "tags": []
   },
   "outputs": [],
   "source": [
    "tmax = 10 * t_diffuse\n"
   ]
  },
  {
   "cell_type": "code",
   "execution_count": 8,
   "id": "a809d564-9226-4a2f-ba9d-062f6811ca0c",
   "metadata": {
    "tags": []
   },
   "outputs": [],
   "source": [
    "C = 10\n",
    "g = diffuse_implicit(nx, k, C, tmax, gaussian_ic)"
   ]
  },
  {
   "cell_type": "code",
   "execution_count": 9,
   "id": "d7978ab6-3dd1-4a09-9535-6c8224509ecb",
   "metadata": {
    "tags": []
   },
   "outputs": [
    {
     "data": {
      "text/plain": [
       "(0.35, 0.65)"
      ]
     },
     "execution_count": 9,
     "metadata": {},
     "output_type": "execute_result"
    },
    {
     "data": {
      "image/png": "[encoded data removed]",
      "text/plain": [
       "<Figure size 960x720 with 1 Axes>"
      ]
     },
     "metadata": {},
     "output_type": "display_data"
    }
   ],
   "source": [
    "fig, ax = plt.subplots()\n",
    "ax.plot(g.x[g.ilo:g.ihi+1], g.phi[g.ilo:g.ihi+1])\n",
    "\n",
    "ax.set_xlim(0.35, 0.65)"
   ]
  },
  {
   "cell_type": "code",
   "execution_count": null,
   "id": "72a4df8e-cbf5-4f62-a5b4-4304d9a01411",
   "metadata": {},
   "outputs": [],
   "source": []
  },
  {
   "cell_type": "code",
   "execution_count": null,
   "id": "076007b6-700f-4a46-894c-510912089611",
   "metadata": {},
   "outputs": [],
   "source": []
  }
 ],
 "metadata": {
  "kernelspec": {
   "display_name": "Python 3 (ipykernel)",
   "language": "python",
   "name": "python3"
  },
  "language_info": {
   "codemirror_mode": {
    "name": "ipython",
    "version": 3
   },
   "file_extension": ".py",
   "mimetype": "text/x-python",
   "name": "python",
   "nbconvert_exporter": "python",
   "pygments_lexer": "ipython3",
   "version": "3.13.2"
  }
 },
 "nbformat": 4,
 "nbformat_minor": 5
}
