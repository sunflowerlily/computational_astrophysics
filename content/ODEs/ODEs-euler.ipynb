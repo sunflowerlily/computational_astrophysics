{
 "cells": [
  {
   "cell_type": "markdown",
   "metadata": {},
   "source": [
    "# Basic Methods for ODEs"
   ]
  },
  {
   "cell_type": "markdown",
   "metadata": {
    "editable": true,
    "slideshow": {
     "slide_type": ""
    },
    "tags": []
   },
   "source": [
    "## Test case: orbits\n",
    "\n",
    "We'll use the case of the Earth orbiting the Sun as our test case (we'll assume that the mass of the Earth is insignificant compared to the mass of the Sun)."
   ]
  },
  {
   "cell_type": "markdown",
   "metadata": {
    "editable": true,
    "slideshow": {
     "slide_type": ""
    },
    "tags": []
   },
   "source": [
    "```{tip}\n",
    "This is a nice test case for integrating ODEs because we have a lot of intuition for the problem.  If we setup the orbit to be circular, we would expect the integration to keep Earth the same distance from the Sun as it evolves in its orbit.  If we see Earth spiraling inward or outward, then we know that our integration is not very accurate.\n",
    "```"
   ]
  },
  {
   "cell_type": "markdown",
   "metadata": {
    "editable": true,
    "slideshow": {
     "slide_type": ""
    },
    "tags": []
   },
   "source": [
    "Kepler's 3rd law (neglecting the orbiting object's mass) is:\n",
    "\n",
    "$$ 4\\pi^2 a^3 = G M_\\star P^2$$\n",
    "\n",
    "If we work in units of solar masses, astronomical units (AU), and years, then Kepler's third law is\n",
    "\n",
    "$$a^3 = P^2$$\n",
    "\n",
    "which implies that Newton's gravitational constant is $G = 4\\pi^2$\n",
    "\n",
    "We will put the Sun at the origin of coordinates.  \n",
    "\n",
    "![circular orbit around the Sun](ellipse_initial_cond_e0.0.png)\n",
    "\n",
    "Then our system of equations is\n",
    "\n",
    "$$\\dot{\\bf r} = {\\bf v}$$\n",
    "\n",
    "$$\\dot{\\bf v} = -\\frac{GM_\\star {\\bf r}}{r^3}$$\n",
    "\n",
    "where ${\\bf r} = (x, y)$ and ${\\bf v} = (u, v)$ "
   ]
  },
  {
   "cell_type": "markdown",
   "metadata": {
    "editable": true,
    "slideshow": {
     "slide_type": ""
    },
    "tags": []
   },
   "source": [
    "```{note}\n",
    "We could have written our\n",
    "orbit system as:\n",
    "\n",
    "$$\\ddot{\\bf r} = - \\frac{GM_\\star {\\bf r}}{r^3}$$\n",
    "\n",
    "But this is a second-order ODE.  Most ODE integration methods are designed to work with systems of first-order\n",
    "ODEs, and we can always write a high-order ODE as a system of first-order ODEs by introducting new variables\n",
    "(in this case, velocity, ${\\bf v}$).\n",
    "```"
   ]
  },
  {
   "cell_type": "markdown",
   "metadata": {
    "editable": true,
    "slideshow": {
     "slide_type": ""
    },
    "tags": []
   },
   "source": [
    "## Euler's method\n",
    "\n",
    "The simplest method to advance the solution starts with the first-order difference approximations we found for a derivative:\n",
    "\n",
    "$$\\frac{{\\bf r}^{n+1} - {\\bf r}^n}{\\tau} = {\\bf v}^n + \\mathcal{O}(\\tau)$$\n",
    "\n",
    "$$\\frac{{\\bf v}^{n+1} - {\\bf v}^n}{\\tau} = {\\bf a}({\\bf r}^n, {\\bf v}^n) + \\mathcal{O}(\\tau)$$\n",
    "\n",
    "Here, $\\tau$ is the timestep we take and we denote the time-level of the state using a subscript,\n",
    "so $t^n$ is the current time and $t^{n+1} = t^n + \\tau$.\n",
    "Similarly, our notation ${\\bf r}^n$ means ${\\bf r}(t^{n})$.  This is called [Euler's method](https://en.wikipedia.org/wiki/Euler_method).\n",
    "\n",
    "Expressing the new state in terms of the old:\n",
    "\n",
    "$${\\bf r}^{n+1} = {\\bf r}^n + \\tau \\,{\\bf v}^n + \\mathcal{O}(\\tau^2)$$\n",
    "\n",
    "$${\\bf v}^{n+1} = {\\bf v}^n + \\tau \\,{\\bf a}({\\bf r}^n, {\\bf v}^n) + \\mathcal{O}(\\tau^2)$$"
   ]
  },
  {
   "cell_type": "markdown",
   "metadata": {
    "editable": true,
    "slideshow": {
     "slide_type": ""
    },
    "tags": []
   },
   "source": [
    "```{note}\n",
    "The local error is $O(\\tau^2)$, but to evolve to some time $T$, we will take a large number of steps, $N$, $N = T/\\tau$, so globally, after evolving to the final time, we will have an error that is $O(\\tau)$.  \n",
    "\n",
    "Therefore Euler's method is first-order accurate.\n",
    "```"
   ]
  },
  {
   "cell_type": "markdown",
   "metadata": {
    "editable": true,
    "slideshow": {
     "slide_type": ""
    },
    "tags": []
   },
   "source": [
    "Graphically, for the ODE $\\dot{y} = -y$, Euler's method looks like:\n",
    "\n",
    "![Euler's method](rk2_Euler.png)\n",
    "\n",
    "We find the slope at $t^n$ and follow it forward for the full $\\tau$ to $t^{n+1}$."
   ]
  },
  {
   "cell_type": "markdown",
   "metadata": {
    "editable": true,
    "slideshow": {
     "slide_type": ""
    },
    "tags": []
   },
   "source": [
    "Now let's do our orbits.  We need a function that returns the righthand side of the ODEs, so we'll write that first.  We'll define a special type, called `OrbitState`, that holds the position and velocity, as well as defines operators that allow us to add two `OrbitState`s and multiply by a constant."
   ]
  },
  {
   "cell_type": "code",
   "execution_count": 5,
   "metadata": {
    "editable": true,
    "slideshow": {
     "slide_type": ""
    },
    "tags": []
   },
   "outputs": [],
   "source": [
    "import numpy as np\n",
    "import matplotlib.pyplot as plt"
   ]
  },
  {
   "cell_type": "code",
   "execution_count": 7,
   "metadata": {},
   "outputs": [],
   "source": [
    "class OrbitState:\n",
    "    # a container to hold the star positions\n",
    "    def __init__(self, x, y, u, v):\n",
    "        self.x = x\n",
    "        self.y = y\n",
    "        self.u = u\n",
    "        self.v = v\n",
    "\n",
    "    def __add__(self, other):\n",
    "        return OrbitState(self.x + other.x, self.y + other.y,\n",
    "                          self.u + other.u, self.v + other.v)\n",
    "\n",
    "    def __sub__(self, other):\n",
    "        return OrbitState(self.x - other.x, self.y - other.y,\n",
    "                          self.u - other.u, self.v - other.v)\n",
    "\n",
    "    def __mul__(self, other):\n",
    "        return OrbitState(other * self.x, other * self.y,\n",
    "                          other * self.u, other * self.v)\n",
    "\n",
    "    def __rmul__(self, other):\n",
    "        return self.__mul__(other)\n",
    "\n",
    "    def __str__(self):\n",
    "        return f\"{self.x:10.6f} {self.y:10.6f} {self.u:10.6f} {self.v:10.6f}\""
   ]
  },
  {
   "cell_type": "markdown",
   "metadata": {},
   "source": [
    "We'll write our righthand side function in terms of the `OrbitState`.  It will return a new `OrbitState` representing the derivatives."
   ]
  },
  {
   "cell_type": "code",
   "execution_count": 30,
   "metadata": {},
   "outputs": [],
   "source": [
    "GM = 4*np.pi**2\n",
    "\n",
    "def rhs(state):\n",
    "    \"\"\" RHS of the equations of motion.\"\"\"\n",
    "\n",
    "    # current radius\n",
    "    r = np.sqrt(state.x**2 + state.y**2)\n",
    "\n",
    "    # position\n",
    "    xdot = state.u\n",
    "    ydot = state.v\n",
    "\n",
    "    # velocity\n",
    "    udot = -GM * state.x / r**3\n",
    "    vdot = -GM * state.y / r**3\n",
    "\n",
    "    return OrbitState(xdot, ydot, udot, vdot)"
   ]
  },
  {
   "cell_type": "markdown",
   "metadata": {
    "editable": true,
    "slideshow": {
     "slide_type": ""
    },
    "tags": []
   },
   "source": [
    "Many times and ODE solver will just give you the solution at the end of integration, so we'll store a list of `OrbitState` objects that constitute the history."
   ]
  },
  {
   "cell_type": "markdown",
   "metadata": {
    "editable": true,
    "slideshow": {
     "slide_type": ""
    },
    "tags": []
   },
   "source": [
    "```{tip}\n",
    "This type of storage is called an _array of structs_ (AoS), and there is a lot of consideration to be done for whether [array of structs or struct of arrays](https://en.wikipedia.org/wiki/AoS_and_SoA) is better for what you are trying to accomplish.\n",
    "\n",
    "For us the AoS method allows us to easily access the state at any instance in time.\n",
    "```"
   ]
  },
  {
   "cell_type": "markdown",
   "metadata": {
    "editable": true,
    "slideshow": {
     "slide_type": ""
    },
    "tags": []
   },
   "source": [
    "Now we can write a driver that takes the initial conditions and integrates to a time $T$ using a constant timestep $\\tau$."
   ]
  },
  {
   "cell_type": "code",
   "execution_count": 31,
   "metadata": {},
   "outputs": [],
   "source": [
    "def euler_orbit(state0, tau, T):\n",
    "    \"\"\"integrate an orbit given an initial position, pos0, and velocity, vel0,\n",
    "    using first-order Euler integration\"\"\"\n",
    "    \n",
    "    times = []\n",
    "    history = []\n",
    "    \n",
    "    # initialize time\n",
    "    t = 0\n",
    "    \n",
    "    # store the initial conditions\n",
    "    times.append(t)\n",
    "    history.append(state0)\n",
    "    \n",
    "    # main timestep loop\n",
    "    while t < T:\n",
    "        \n",
    "        state_old = history[-1]\n",
    "        \n",
    "        # make sure that the last step does not take us past T\n",
    "        if t + tau > T:\n",
    "            tau = T - t\n",
    "\n",
    "        # get the RHS\n",
    "        ydot = rhs(state_old)\n",
    "        \n",
    "        # do the Euler update\n",
    "        state_new = state_old + tau * ydot\n",
    "        t += tau\n",
    "        \n",
    "        # store the state\n",
    "        times.append(t)\n",
    "        history.append(state_new)\n",
    "        \n",
    "    return times, history"
   ]
  },
  {
   "cell_type": "markdown",
   "metadata": {},
   "source": [
    "We'll start out on the +y axis and give the Earth a counterclockwise circular velocity."
   ]
  },
  {
   "cell_type": "code",
   "execution_count": 32,
   "metadata": {},
   "outputs": [],
   "source": [
    "x0 = 0\n",
    "y0 = 1\n",
    "u0 = -np.sqrt(GM/y0)\n",
    "v0 = 0\n",
    "\n",
    "state0 = OrbitState(x0, y0, u0, v0)"
   ]
  },
  {
   "cell_type": "markdown",
   "metadata": {
    "editable": true,
    "slideshow": {
     "slide_type": ""
    },
    "tags": []
   },
   "source": [
    "## First orbit\n",
    "\n",
    "Now let's integrate for one period (T = 1, since our time units are years).  We'll our timestep to be 1 month&mdash;let's see how we do with that."
   ]
  },
  {
   "cell_type": "code",
   "execution_count": 33,
   "metadata": {
    "editable": true,
    "slideshow": {
     "slide_type": ""
    },
    "tags": []
   },
   "outputs": [],
   "source": [
    "T = 1\n",
    "tau = T/12.0\n",
    "\n",
    "times, history = euler_orbit(state0, tau, 1)"
   ]
  },
  {
   "cell_type": "markdown",
   "metadata": {},
   "source": [
    "Let's plot the solution."
   ]
  },
  {
   "cell_type": "code",
   "execution_count": 34,
   "metadata": {},
   "outputs": [
    {
     "data": {
      "text/plain": [
       "Text(0, 0.5, 'y [AU]')"
      ]
     },
     "execution_count": 34,
     "metadata": {},
     "output_type": "execute_result"
    },
    {
     "data": {
      "image/png": "[encoded data removed]",
      "text/plain": [
       "<Figure size 960x720 with 1 Axes>"
      ]
     },
     "metadata": {},
     "output_type": "display_data"
    }
   ],
   "source": [
    "fig = plt.figure()\n",
    "ax = fig.add_subplot(111)\n",
    "\n",
    "xs = [q.x for q in history]\n",
    "ys = [q.y for q in history]\n",
    "\n",
    "# draw the Sun\n",
    "ax.scatter([0], [0], marker=(20,1), color=\"y\", s=250)\n",
    "\n",
    "# draw the orbit\n",
    "ax.plot(xs, ys)\n",
    "\n",
    "ax.set_aspect(\"equal\")\n",
    "ax.set_xlabel(\"x [AU]\")\n",
    "ax.set_ylabel(\"y [AU]\")"
   ]
  },
  {
   "cell_type": "markdown",
   "metadata": {
    "editable": true,
    "slideshow": {
     "slide_type": ""
    },
    "tags": []
   },
   "source": [
    "The solution looks awful.  It should be a circle, and after 1 year, we should be right back at where we started.  "
   ]
  },
  {
   "cell_type": "markdown",
   "metadata": {
    "editable": true,
    "slideshow": {
     "slide_type": ""
    },
    "tags": []
   },
   "source": [
    "## Varying the timestep\n",
    "\n",
    "Let's look at how we converge with the size of the timestep, $\\tau$."
   ]
  },
  {
   "cell_type": "code",
   "execution_count": 35,
   "metadata": {
    "editable": true,
    "slideshow": {
     "slide_type": ""
    },
    "tags": []
   },
   "outputs": [
    {
     "data": {
      "text/plain": [
       "Text(0, 0.5, 'y [AU]')"
      ]
     },
     "execution_count": 35,
     "metadata": {},
     "output_type": "execute_result"
    },
    {
     "data": {
      "image/png": "[encoded data removed]",
      "text/plain": [
       "<Figure size 960x720 with 1 Axes>"
      ]
     },
     "metadata": {},
     "output_type": "display_data"
    }
   ],
   "source": [
    "fig = plt.figure()\n",
    "ax = fig.add_subplot(111)\n",
    "\n",
    "# draw the Sun\n",
    "ax.scatter([0], [0], marker=(20,1), color=\"y\", s=250)\n",
    "\n",
    "taus = [0.1, 0.01, 0.001]\n",
    "\n",
    "for tau in taus:\n",
    "    times, history = euler_orbit(state0, tau, 1)\n",
    "    xs = [q.x for q in history]\n",
    "    ys = [q.y for q in history]\n",
    "    ax.plot(xs, ys, label=rf\"$\\tau = {tau:6.4f}$\")\n",
    "\n",
    "ax.set_aspect(\"equal\")\n",
    "ax.legend()\n",
    "ax.set_xlabel(\"x [AU]\")\n",
    "ax.set_ylabel(\"y [AU]\")"
   ]
  },
  {
   "cell_type": "markdown",
   "metadata": {},
   "source": [
    "Clearly our solution gets better as we reduce the timestep, but we need to reduce it a lot.  At the top we said that the Euler method is globally first-order accurate.  Let's try to confirm that and then let's look at how we can do higher-order integration."
   ]
  },
  {
   "cell_type": "markdown",
   "metadata": {},
   "source": [
    "## Measuring convergence\n",
    "\n",
    "Imagine evolving for a single period and then asking how well did the integrator do.  We need some metric to determine this.  We can imagine a few different measures:\n",
    "\n",
    "1. compare the current distance to the Sun to the original distance to the Sun\n",
    "\n",
    "2. compute the distance from the current $(x, y)$ position to the starting position\n",
    "\n",
    "3. compute the total energy at the end of the integration and compare to the initial total energy.\n",
    "\n",
    "There are likely many more.  Unlike the integrals we did previously, where the natural error to compute was the difference between the numerical integral and the analytic one, here there is not a single obvious metric.  So we should pick one or more and look for convergence.  Depending on what our goal is, one metric might be more meaningful than another."
   ]
  },
  {
   "cell_type": "markdown",
   "metadata": {},
   "source": [
    "Let's define an error function based on metric 1 above"
   ]
  },
  {
   "cell_type": "code",
   "execution_count": 36,
   "metadata": {},
   "outputs": [],
   "source": [
    "def error(history):\n",
    "    \n",
    "    # define the error to be distance from (0, 0) at end compared to start\n",
    "    R_orig = np.sqrt(history[0].x**2 + history[0].y**2)\n",
    "    R_new = np.sqrt(history[-1].x**2 + history[-1].y**2)\n",
    "    e = np.abs(R_new - R_orig)\n",
    "    \n",
    "    return e"
   ]
  },
  {
   "cell_type": "markdown",
   "metadata": {},
   "source": [
    "Now let's integrate a bunch of orbits, reducing $\\tau$ by 2 each time.  Since this is first order accurate, the error should decrease by a factor of 2."
   ]
  },
  {
   "cell_type": "code",
   "execution_count": 37,
   "metadata": {},
   "outputs": [
    {
     "name": "stdout",
     "output_type": "stream",
     "text": [
      "     0.1 : 4.186923100574993\n",
      "    0.05 : 2.63132561836189\n",
      "   0.025 : 1.579518716431993\n",
      "  0.0125 : 0.8788126438377246\n",
      " 0.00625 : 0.45891625361582156\n"
     ]
    }
   ],
   "source": [
    "taus = [0.1, 0.05, 0.025, 0.0125, 0.00625]\n",
    "\n",
    "for tau in taus:\n",
    "    times, history = euler_orbit(state0, tau, 1)\n",
    "    print(f\"{tau:8} : {error(history)}\")"
   ]
  },
  {
   "cell_type": "markdown",
   "metadata": {},
   "source": [
    "We see that the decrease in the error is essentially 2.  It is certainly not better than first-order accurate."
   ]
  }
 ],
 "metadata": {
  "kernelspec": {
   "display_name": "Python 3 (ipykernel)",
   "language": "python",
   "name": "python3"
  },
  "language_info": {
   "codemirror_mode": {
    "name": "ipython",
    "version": 3
   },
   "file_extension": ".py",
   "mimetype": "text/x-python",
   "name": "python",
   "nbconvert_exporter": "python",
   "pygments_lexer": "ipython3",
   "version": "3.13.2"
  }
 },
 "nbformat": 4,
 "nbformat_minor": 4
}
