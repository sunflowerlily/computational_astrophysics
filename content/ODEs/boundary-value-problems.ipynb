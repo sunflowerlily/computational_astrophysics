{
 "cells": [
  {
   "cell_type": "markdown",
   "id": "18d707d0-4892-4e84-b598-575c149e9d75",
   "metadata": {},
   "source": [
    "# Two Point Boundary Value Problems"
   ]
  },
  {
   "cell_type": "markdown",
   "id": "b6349440-bde3-4775-abbc-19e32f54216e",
   "metadata": {},
   "source": [
    "Consider a Poisson equation:\n",
    "    \n",
    "$$u^{\\prime\\prime} = f$$\n",
    "\n",
    "on $[0, 1]$.  This is a second-order ODE, so it requires 2 boundary conditions.  Let's take:\n",
    "\n",
    "\\begin{align*}\n",
    "u(0) &= a \\\\\n",
    "u(1) &= b\n",
    "\\end{align*}\n",
    "\n",
    "These are at opposite ends on the domain&mdash;this is not an initial value problem.  The methods we used thus far do not work on this.\n",
    "\n",
    "Later we'll see how to apply _relaxation methods_ to this problem.  Now we'll consider the [_shooting method_](https://en.wikipedia.org/wiki/Shooting_method)."
   ]
  },
  {
   "cell_type": "markdown",
   "id": "95cbd878-21d8-441e-95b2-0b5496cefabe",
   "metadata": {},
   "source": [
    "Let's rewrite this as a system defining:\n",
    "\n",
    "\\begin{align*}\n",
    "y &= u \\\\\n",
    "z &= u^\\prime\n",
    "\\end{align*}\n",
    "\n",
    "Let's take the left boundary conditions as:\n",
    "\n",
    "\\begin{align*}\n",
    "y(0) &= a \\\\\n",
    "z(0) &= \\eta \n",
    "\\end{align*}\n",
    "\n",
    "What is $\\eta$?  This is a parameter that we will adjust to make the solution yield $y(1) = b$ at the end of integration.  We'll all the solution for a particular value of $\\eta$: $y^{(\\eta)}(x)$.\n",
    "\n",
    "Shooting algorithm:\n",
    "\n",
    "  * Guess $\\eta$\n",
    "  * Iterate:\n",
    "    * Integrate system to right boundary\n",
    "    * Use secant method to zero $f(\\eta) = b - y^{(\\eta)}(1)$\n",
    "    * Correct $\\eta$"
   ]
  },
  {
   "cell_type": "markdown",
   "id": "78a6e910-f281-4e5f-b3a7-7e55a0bd978b",
   "metadata": {
    "editable": true,
    "slideshow": {
     "slide_type": ""
    },
    "tags": []
   },
   "source": [
    "## Shooting example\n",
    "\n",
    "Example (from Pang):\n",
    "\n",
    "$$u^{\\prime\\prime} = -\\frac{1}{4} \\pi^2 (u + 1)$$\n",
    "\n",
    "with\n",
    "\n",
    "\\begin{align*}\n",
    "u(0) &= 0 \\\\\n",
    "u(1) &= 1\n",
    "\\end{align*}\n",
    "\n",
    "This has the analytic solution:\n",
    "\n",
    "$$u(x) = \\cos(\\pi x/2) + 2 \\sin(\\pi x / 2) - 1$$"
   ]
  },
  {
   "cell_type": "markdown",
   "id": "2828a5ee-a537-4b2c-a91a-5234be8638a3",
   "metadata": {
    "editable": true,
    "slideshow": {
     "slide_type": ""
    },
    "tags": []
   },
   "source": [
    "Rewriting this system, we have:\n",
    "\n",
    "\\begin{align*}\n",
    "y^\\prime &= z \\\\\n",
    "z^\\prime &= -\\frac{1}{4} \\pi^2 (y + 1)\n",
    "\\end{align*}"
   ]
  },
  {
   "cell_type": "markdown",
   "id": "72dc091d-1665-4108-b3ef-314e9f00a07b",
   "metadata": {},
   "source": [
    "Here's an implementation that uses RK4.\n",
    "\n",
    "First the RHS function:"
   ]
  },
  {
   "cell_type": "code",
   "execution_count": 1,
   "id": "30cf2ec4-ad40-4642-8a7d-16ba7907537a",
   "metadata": {
    "editable": true,
    "slideshow": {
     "slide_type": ""
    },
    "tags": []
   },
   "outputs": [],
   "source": [
    "import numpy as np\n",
    "import matplotlib.pyplot as plt"
   ]
  },
  {
   "cell_type": "code",
   "execution_count": 2,
   "id": "5f856637-7fa5-4e0a-b62e-6d6fa5806c6c",
   "metadata": {},
   "outputs": [],
   "source": [
    "def rhs(y, z):\n",
    "    \"\"\" RHS function.  Here y = u, z = u'\"\"\"\n",
    "    \n",
    "    dydx = z\n",
    "    dzdx = -0.25 * np.pi**2 * (y + 1.0)\n",
    "\n",
    "    return dydx, dzdx"
   ]
  },
  {
   "cell_type": "markdown",
   "id": "5f2e9c52-a0f6-4243-bf23-3d71ca16f4f1",
   "metadata": {},
   "source": [
    "Now the integrator:"
   ]
  },
  {
   "cell_type": "code",
   "execution_count": 10,
   "id": "2a0f04a7-0057-4eac-aa22-851d75784cc3",
   "metadata": {},
   "outputs": [],
   "source": [
    "def rk4(y0, eta0, rhs, xl=0.0, xr=1.0, n=100):\n",
    "    \"\"\"\n",
    "    R-K 4 integration: y0 and eta0 are y(0) and z(0); rhs is the\n",
    "    righthand side function xl and xr are the domain limits n\n",
    "    is the number of integration points (including starting point)\n",
    "\n",
    "    \"\"\"\n",
    "    \n",
    "    # compute the step size\n",
    "    h = (xr - xl) / (n - 1)\n",
    "\n",
    "    y = np.zeros(n)\n",
    "    z = np.zeros(n)\n",
    "\n",
    "    # left boundary initialization\n",
    "    y[0] = y0\n",
    "    z[0] = eta0\n",
    "\n",
    "    for m in range(n-1):\n",
    "        dydx_1, dzdx_1 = rhs(y[m], z[m])\n",
    "        dydx_2, dzdx_2 = rhs(y[m] + 0.5 * h * dydx_1, z[m] + 0.5 * h * dzdx_1)\n",
    "        dydx_3, dzdx_3 = rhs(y[m] + 0.5 * h * dydx_2, z[m] + 0.5 * h * dzdx_2)\n",
    "        dydx_4, dzdx_4 = rhs(y[m] + h * dydx_3, z[m] + h * dzdx_3)\n",
    "\n",
    "        y[m+1] = y[m] + (h / 6.0) * (dydx_1 + 2.0 * dydx_2 + 2.0 * dydx_3 + dydx_4)\n",
    "        z[m+1] = z[m] + (h / 6.0) * (dzdx_1 + 2.0 * dzdx_2 + 2.0 * dzdx_3 + dzdx_4)\n",
    "\n",
    "    return y, z"
   ]
  },
  {
   "cell_type": "markdown",
   "id": "79f1a705-7362-4cb8-8bd5-e6012525ca31",
   "metadata": {},
   "source": [
    "and finally the driver:"
   ]
  },
  {
   "cell_type": "code",
   "execution_count": 11,
   "id": "0d7bb778-ebba-438e-8132-bf605344d3e6",
   "metadata": {},
   "outputs": [],
   "source": [
    "def solve_bvp(ax=None):\n",
    "    \"\"\"shoot from x = 0 to x = 1.  We will do this by selecting a boundary\n",
    "    value for z and use a secant method to adjust it until we reach the\n",
    "    desired boundary condition at y(1)\"\"\"\n",
    "\n",
    "    # domain size\n",
    "    x_left = 0.0\n",
    "    x_right = 1.0\n",
    "\n",
    "    # desired right BC, y1(1)\n",
    "    y_right_true = 1.0\n",
    "\n",
    "    # number of integration points\n",
    "    npts = 32\n",
    "\n",
    "    # desired tolerance\n",
    "    eps = 1.e-8\n",
    "\n",
    "    # initial guess\n",
    "    y_0 = 0.0   # this is the correct boundary condition a x = 0\n",
    "    eta = 0.0   # this is what we will adjust to get the desired y1(1)\n",
    "\n",
    "    # integrate\n",
    "    y_old, z_old = rk4(y_0, eta, rhs, xl=0.0, xr=1.0, n=npts)\n",
    "\n",
    "    if ax:\n",
    "        x = np.linspace(0.0, 1.0, npts)\n",
    "        ax.scatter(x, y_old, label=\"initial guess\", marker=\"x\")\n",
    "\n",
    "    # new guess -- we don't have any info on how to compute this yet, so\n",
    "    # just choose something\n",
    "    eta_m1 = eta   # store the old guess\n",
    "    eta = -1.0\n",
    "\n",
    "    # Secant loop\n",
    "    dy = 1000.0    # fail first time through\n",
    "\n",
    "    # keep track of iteration for plotting\n",
    "    iter = 1\n",
    "\n",
    "    while dy > eps:\n",
    "\n",
    "        # integrate\n",
    "        y, z = rk4(y_0, eta, rhs, xl=0.0, xr=1.0, n=npts)\n",
    "\n",
    "        if ax:\n",
    "            ax.scatter(x, y, label=f\"iteration {iter}\", marker=\"x\")\n",
    "\n",
    "        # do a Secant method to correct.  Here eta = y2(0) -- our\n",
    "        # control parameter.  We want to zero:\n",
    "        #   f(eta) = y1_true(1) - y1^(eta)(1)\n",
    "\n",
    "        # derivative (for Secant)\n",
    "        dfdeta = ( (y_right_true - y_old[-1]) -\n",
    "                   (y_right_true - y[-1]) ) / (eta_m1 - eta)\n",
    "\n",
    "        # correction by f(eta) = 0 = f(eta_0) + dfdeta deta\n",
    "        deta = -(y_right_true - y[-1]) / dfdeta\n",
    "\n",
    "        # store the old guess and correct\n",
    "        eta_m1 = eta\n",
    "        eta += deta\n",
    "\n",
    "        dy = abs(deta)\n",
    "\n",
    "        y_old = y\n",
    "\n",
    "        iter += 1\n",
    "        \n",
    "    return eta, y, z"
   ]
  },
  {
   "cell_type": "markdown",
   "id": "f940cdf6-3a24-44ff-9e70-f1e5cb7c3a43",
   "metadata": {},
   "source": [
    "Now we'll run it, making plots along the way.  We'll also show the analytic solution"
   ]
  },
  {
   "cell_type": "code",
   "execution_count": 12,
   "id": "180be0f5-1565-4bdb-a457-b6a66aa48f73",
   "metadata": {},
   "outputs": [],
   "source": [
    "def analytic(x):\n",
    "    \"\"\" analytic solution \"\"\"\n",
    "    return np.cos(np.pi*x/2) + 2.0*np.sin(np.pi*x/2) - 1.0"
   ]
  },
  {
   "cell_type": "code",
   "execution_count": 15,
   "id": "d117f455-8141-40d6-9dc7-043795ff3f05",
   "metadata": {
    "tags": []
   },
   "outputs": [
    {
     "data": {
      "text/plain": [
       "<matplotlib.legend.Legend at 0x7f66449b03a0>"
      ]
     },
     "execution_count": 15,
     "metadata": {},
     "output_type": "execute_result"
    },
    {
     "data": {
      "image/png": "[encoded data removed]",
      "text/plain": [
       "<Figure size 960x720 with 1 Axes>"
      ]
     },
     "metadata": {},
     "output_type": "display_data"
    }
   ],
   "source": [
    "fig, ax = plt.subplots()\n",
    "\n",
    "eta, y1, y2 = solve_bvp(ax)\n",
    "\n",
    "x = np.linspace(0, 1, 100)\n",
    "ax.plot(x, analytic(x), color=\"0.5\", ls=\"-\", label=\"analytic\")\n",
    "ax.legend()"
   ]
  }
 ],
 "metadata": {
  "kernelspec": {
   "display_name": "Python 3 (ipykernel)",
   "language": "python",
   "name": "python3"
  },
  "language_info": {
   "codemirror_mode": {
    "name": "ipython",
    "version": 3
   },
   "file_extension": ".py",
   "mimetype": "text/x-python",
   "name": "python",
   "nbconvert_exporter": "python",
   "pygments_lexer": "ipython3",
   "version": "3.13.0"
  }
 },
 "nbformat": 4,
 "nbformat_minor": 5
}
