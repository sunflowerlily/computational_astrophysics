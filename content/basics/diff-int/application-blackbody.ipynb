{
 "cells": [
  {
   "cell_type": "markdown",
   "id": "4015a410-c4c6-4098-a40c-29d7b8305be8",
   "metadata": {
    "editable": true,
    "slideshow": {
     "slide_type": ""
    },
    "tags": []
   },
   "source": [
    "# Application: Blackbody Radiation"
   ]
  },
  {
   "cell_type": "markdown",
   "id": "e7bfc72d-2916-4008-860f-97530fe88d0a",
   "metadata": {},
   "source": [
    "The spectrum of a star is well approximated as a [blackbody](https://en.wikipedia.org/wiki/Black-body_radiation). The Planck function describes the intensity of a blackbody:\n",
    "    \n",
    "$$B_\\lambda = \\frac{2 h c^2}{\\lambda^5} \\frac{1}{\\exp\\left (\\frac{hc}{\\lambda k_B T}\\right) - 1}$$\n",
    "\n",
    "This has units of energy / area / wavelength / steradian.  "
   ]
  },
  {
   "cell_type": "markdown",
   "id": "26e9d93d-8ee8-4041-beed-98a3f587489c",
   "metadata": {},
   "source": [
    "## Integrating over wavelength\n",
    "Let's integrate out wavelength:\n",
    "\n",
    "$$B = \\int_0^\\infty B_\\lambda d\\lambda$$\n",
    "\n",
    "our integral is then:\n",
    "\n",
    "$$B = 2 h c^2 \\int_0^\\infty \\frac{1}{\\lambda^5} \\frac{1}{\\exp\\left (\\frac{hc}{\\lambda k_B T}\\right) - 1} d\\lambda$$\n",
    "\n",
    "defining a dimensional quantity, $x$:\n",
    "\n",
    "$$x = \\frac{hc}{\\lambda k_B T}$$\n",
    "\n",
    "we have\n",
    "\n",
    "$$dx = - \\frac{hc}{\\lambda^2 k_B T} d\\lambda = - \\frac{x^2k_BT}{hc} d\\lambda$$\n",
    "\n",
    "finally, we have:\n",
    "\n",
    "$$B = \\frac{2(k_B T)^4}{h^3 c^2} \\int_0^\\infty \\frac{x^3}{e^x - 1} dx$$"
   ]
  },
  {
   "cell_type": "markdown",
   "id": "faaa1669-2e38-45c4-972b-168e0c281a48",
   "metadata": {
    "editable": true,
    "slideshow": {
     "slide_type": ""
    },
    "tags": []
   },
   "source": [
    "## Integrating to infinity\n",
    "\n",
    "Now the challenge becomes &mdash; how do we do this integral, when the integration limits extend to infinity!\n",
    "\n",
    "Note: it turns out that this integral has an analytic solution:\n",
    "\n",
    "$$\\int_0^\\infty \\frac{x^3}{e^x - 1} dx = \\frac{\\pi^4}{15}$$\n",
    "\n",
    "and the original integral is\n",
    "\n",
    "$$B = \\frac{\\sigma T^4}{\\pi}$$\n",
    "\n",
    "with the [Stephan-Boltzmann constant](https://en.wikipedia.org/wiki/Stefan%E2%80%93Boltzmann_constant) defined as:\n",
    "\n",
    "$$\\sigma \\equiv \\frac{2 k_B^4 \\pi^5}{15 h^3 c^2}$$\n",
    "\n",
    "so we can check our answer."
   ]
  },
  {
   "cell_type": "markdown",
   "id": "29eb8a26-67de-409b-9325-66916d756324",
   "metadata": {
    "editable": true,
    "slideshow": {
     "slide_type": ""
    },
    "tags": []
   },
   "source": [
    "```{tip}\n",
    "It's always a good idea to start by plotting the integrand.\n",
    "```"
   ]
  },
  {
   "cell_type": "code",
   "execution_count": 1,
   "id": "4ac96ca3-b18d-4e60-ba7b-79d9728b25d6",
   "metadata": {
    "editable": true,
    "slideshow": {
     "slide_type": ""
    },
    "tags": []
   },
   "outputs": [],
   "source": [
    "import numpy as np\n",
    "import matplotlib.pyplot as plt"
   ]
  },
  {
   "cell_type": "code",
   "execution_count": 4,
   "id": "efbb992c-f901-4704-a53d-cdd021fb46c9",
   "metadata": {},
   "outputs": [],
   "source": [
    "def f(x):\n",
    "    # we need to take the limit x -> 0 if the input x is 0\n",
    "    return np.where(x == 0, 0, x**3 / (np.expm1(x)))"
   ]
  },
  {
   "cell_type": "code",
   "execution_count": 5,
   "id": "c7d6bcd8-e454-421f-b905-b507943ffb8c",
   "metadata": {},
   "outputs": [
    {
     "name": "stderr",
     "output_type": "stream",
     "text": [
      "/tmp/ipykernel_774953/3537938055.py:3: RuntimeWarning: invalid value encountered in divide\n",
      "  return np.where(x == 0, 0, x**3 / (np.expm1(x)))\n"
     ]
    },
    {
     "data": {
      "text/plain": [
       "[<matplotlib.lines.Line2D at 0x7f65d9f396d0>]"
      ]
     },
     "execution_count": 5,
     "metadata": {},
     "output_type": "execute_result"
    },
    {
     "data": {
      "image/png": "[encoded data removed]",
      "text/plain": [
       "<Figure size 640x480 with 1 Axes>"
      ]
     },
     "metadata": {},
     "output_type": "display_data"
    }
   ],
   "source": [
    "fig = plt.figure()\n",
    "ax = fig.add_subplot()\n",
    "\n",
    "x = np.linspace(0, 10, 100)\n",
    "ax.plot(x, f(x))"
   ]
  },
  {
   "cell_type": "markdown",
   "id": "a4531237-0d2d-452b-84c4-c40d73ce87ea",
   "metadata": {},
   "source": [
    "From the plot, we see that it peaks near x = 3 and then drops off, but it will only asymptotically approach `0`, so we need to still be careful about the integration limits."
   ]
  },
  {
   "cell_type": "markdown",
   "id": "e00cecef-dfe4-4a38-9077-9984c902d8e0",
   "metadata": {},
   "source": [
    "Let's consider the transform:\n",
    "\n",
    "$$z = \\frac{x}{c + x}$$\n",
    "\n",
    "where $c$ is chosen to be close to the maximum of the integrand.  This transformation maps the interval $x \\in [0, \\infty)$ into $z \\in [0, 1)$ &mdash; that makes the integral finite, and we can use our methods (like trapezoid) to do it.\n",
    "\n",
    "The inverse transform is:\n",
    "\n",
    "$$x = c \\frac{z}{1 - z}$$"
   ]
  },
  {
   "cell_type": "code",
   "execution_count": 6,
   "id": "19be8646-89ad-408b-b452-3cee8b690d7b",
   "metadata": {},
   "outputs": [],
   "source": [
    "SMALL = 1.e-30\n",
    "\n",
    "def zv(x, c):\n",
    "    \"\"\" transform the variable x -> z \"\"\"\n",
    "    return x/(c + x) \n",
    "\n",
    "def xv(z, c):\n",
    "    \"\"\" transform back from z -> x \"\"\"\n",
    "    return c*z/(1.0 - z + SMALL)"
   ]
  },
  {
   "cell_type": "markdown",
   "id": "c56530d9-8665-4074-8fe3-a6fc060cae18",
   "metadata": {},
   "source": [
    "Let's plot it again, but in terms of $z$"
   ]
  },
  {
   "cell_type": "code",
   "execution_count": 7,
   "id": "a2421bee-dc30-4dfc-a466-b84e4c4e93e5",
   "metadata": {},
   "outputs": [
    {
     "name": "stderr",
     "output_type": "stream",
     "text": [
      "/tmp/ipykernel_774953/3537938055.py:3: RuntimeWarning: overflow encountered in expm1\n",
      "  return np.where(x == 0, 0, x**3 / (np.expm1(x)))\n",
      "/tmp/ipykernel_774953/3537938055.py:3: RuntimeWarning: invalid value encountered in divide\n",
      "  return np.where(x == 0, 0, x**3 / (np.expm1(x)))\n"
     ]
    },
    {
     "data": {
      "image/png": "[encoded data removed]",
      "text/plain": [
       "<Figure size 640x480 with 1 Axes>"
      ]
     },
     "execution_count": 7,
     "metadata": {},
     "output_type": "execute_result"
    }
   ],
   "source": [
    "z = np.linspace(0, 1, 100)\n",
    "c = 3\n",
    "\n",
    "ax.clear()\n",
    "ax.plot(z, f(xv(z, c)))\n",
    "fig"
   ]
  },
  {
   "cell_type": "markdown",
   "id": "ce2d3bae-cdca-4f4c-be38-fef750ff403c",
   "metadata": {},
   "source": [
    "Notice that the transform puts the peak near the center of the interval, and the function nicely goes to zero as $z\\rightarrow 1$.  This is much better behaved to integrate."
   ]
  },
  {
   "cell_type": "markdown",
   "id": "3d2967ba-b7c9-4698-be4d-820e0fa6f49e",
   "metadata": {},
   "source": [
    "Consider a general integral:\n",
    "\n",
    "$$I = \\int_0^\\infty f(x) dx$$\n",
    "\n",
    "Let's rewrite this in terms of $z$. Since\n",
    "\n",
    "$$x = c \\frac{z}{1 - z}$$\n",
    "\n",
    "we have\n",
    "\n",
    "$$dx = \\frac{c dz}{(1 - z)^2}$$\n",
    "\n",
    "so\n",
    "\n",
    "$$I = c \\int_0^1 f\\left(c \\frac{z}{1 - z} \\right ) (1 -z)^{-2} dz$$\n",
    "\n",
    "We need to include these extra factors in our quadrature for computing the integral."
   ]
  },
  {
   "cell_type": "code",
   "execution_count": 8,
   "id": "01c15994-c6e2-4daa-8861-6fed80b71cc8",
   "metadata": {},
   "outputs": [],
   "source": [
    "def I_t(func, N=10, c=5):\n",
    "    \"\"\"composite trapezoid rule for integrating from [0, oo].\n",
    "    Here N is the number of intervals\"\"\"\n",
    "    \n",
    "    # there are N+1 points corresponding to N intervals\n",
    "    z = np.linspace(0.0, 1.0, N+1, endpoint=True)\n",
    "    \n",
    "    I = 0.0\n",
    "    for n in range(N):\n",
    "        I += 0.5 * (z[n+1] - z[n]) * (func(xv(z[n], c)) / (1.0 - z[n] + SMALL)**2 +\n",
    "                                      func(xv(z[n+1], c)) / (1.0 - z[n+1] + SMALL)**2)\n",
    "    I *= c\n",
    "    return I"
   ]
  },
  {
   "cell_type": "markdown",
   "id": "cd231467-7182-457a-aca4-929e10583a48",
   "metadata": {},
   "source": [
    "Now we can check our result.  First, let's compute the analytic solution:"
   ]
  },
  {
   "cell_type": "code",
   "execution_count": 9,
   "id": "2d3d45b2-0dfc-4428-b299-8ad2aa486f37",
   "metadata": {},
   "outputs": [],
   "source": [
    "I_analytic = np.pi**4/15"
   ]
  },
  {
   "cell_type": "code",
   "execution_count": 10,
   "id": "cf12716c-fc96-434d-8691-0d144ac04c58",
   "metadata": {},
   "outputs": [
    {
     "name": "stdout",
     "output_type": "stream",
     "text": [
      "    2    8.48810          1.994163429\n",
      "    4    6.09974         0.3941968295\n",
      "    8    6.49205       0.001888841238\n",
      "   16    6.49392      1.669019097e-05\n",
      "   32    6.49394      5.396286928e-07\n",
      "   64    6.49394      3.352448719e-08\n"
     ]
    },
    {
     "name": "stderr",
     "output_type": "stream",
     "text": [
      "/tmp/ipykernel_774953/3537938055.py:3: RuntimeWarning: invalid value encountered in scalar divide\n",
      "  return np.where(x == 0, 0, x**3 / (np.expm1(x)))\n",
      "/tmp/ipykernel_774953/3537938055.py:3: RuntimeWarning: overflow encountered in expm1\n",
      "  return np.where(x == 0, 0, x**3 / (np.expm1(x)))\n"
     ]
    }
   ],
   "source": [
    "for nint in [2, 4, 8, 16, 32, 64]:\n",
    "    I_trap = I_t(f, N=nint, c=3)\n",
    "    print(f\"{nint:5} {I_trap:10.5f} {np.abs(I_trap - I_analytic):20.10g}\")"
   ]
  },
  {
   "cell_type": "markdown",
   "id": "ba7f587b-4273-41cb-8537-96b08b320110",
   "metadata": {},
   "source": [
    "We see that our answer matches the analytic solution very well."
   ]
  },
  {
   "cell_type": "markdown",
   "id": "510479c1-cfd3-4107-854f-ca2226f41ae7",
   "metadata": {},
   "source": [
    "## C++ implementation\n",
    "\n",
    "A C++ implementation is available here: https://github.com/zingale/computational_astrophysics/blob/main/examples/integration/blackbody.cpp"
   ]
  }
 ],
 "metadata": {
  "kernelspec": {
   "display_name": "Python 3 (ipykernel)",
   "language": "python",
   "name": "python3"
  },
  "language_info": {
   "codemirror_mode": {
    "name": "ipython",
    "version": 3
   },
   "file_extension": ".py",
   "mimetype": "text/x-python",
   "name": "python",
   "nbconvert_exporter": "python",
   "pygments_lexer": "ipython3",
   "version": "3.13.1"
  }
 },
 "nbformat": 4,
 "nbformat_minor": 5
}
