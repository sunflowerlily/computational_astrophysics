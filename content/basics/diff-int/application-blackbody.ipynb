{
 "cells": [
  {
   "cell_type": "markdown",
   "id": "4015a410-c4c6-4098-a40c-29d7b8305be8",
   "metadata": {
    "editable": true,
    "slideshow": {
     "slide_type": ""
    },
    "tags": []
   },
   "source": [
    "# Application: Blackbody Radiation"
   ]
  },
  {
   "cell_type": "markdown",
   "id": "e7bfc72d-2916-4008-860f-97530fe88d0a",
   "metadata": {},
   "source": [
    "The spectrum of a star is well approximated as a [blackbody](https://en.wikipedia.org/wiki/Black-body_radiation). The Planck function describes the intensity of a blackbody:\n",
    "    \n",
    "$$B_\\lambda = \\frac{2 h c^2}{\\lambda^5} \\frac{1}{\\exp\\left (\\frac{hc}{\\lambda k_B T}\\right) - 1}$$\n",
    "\n",
    "This has units of energy / area / wavelength / steradian.  "
   ]
  },
  {
   "cell_type": "markdown",
   "id": "26e9d93d-8ee8-4041-beed-98a3f587489c",
   "metadata": {},
   "source": [
    "## Integrating over wavelength\n",
    "Let's integrate out wavelength:\n",
    "\n",
    "$$B = \\int_0^\\infty B_\\lambda d\\lambda$$\n",
    "\n",
    "our integral is then:\n",
    "\n",
    "$$B = 2 h c^2 \\int_0^\\infty \\frac{1}{\\lambda^5} \\frac{1}{\\exp\\left (\\frac{hc}{\\lambda k_B T}\\right) - 1} d\\lambda$$\n",
    "\n",
    "defining a dimensional quantity, $x$:\n",
    "\n",
    "$$x = \\frac{hc}{\\lambda k_B T}$$\n",
    "\n",
    "we have\n",
    "\n",
    "$$dx = - \\frac{hc}{\\lambda^2 k_B T} d\\lambda = - \\frac{x^2k_BT}{hc} d\\lambda$$\n",
    "\n",
    "finally, we have:\n",
    "\n",
    "$$B = \\frac{2(k_B T)^4}{h^3 c^2} \\int_0^\\infty \\frac{x^3}{e^x - 1} dx$$"
   ]
  },
  {
   "cell_type": "markdown",
   "id": "faaa1669-2e38-45c4-972b-168e0c281a48",
   "metadata": {
    "editable": true,
    "slideshow": {
     "slide_type": ""
    },
    "tags": []
   },
   "source": [
    "## Integrating to infinity\n",
    "\n",
    "Now the challenge becomes &mdash; how do we do this integral, when the integration limits extend to infinity!\n",
    "\n",
    "Note: it turns out that this integral has an analytic solution:\n",
    "\n",
    "$$\\int_0^\\infty \\frac{x^3}{e^x - 1} dx = \\frac{\\pi^4}{15}$$\n",
    "\n",
    "and the original integral is\n",
    "\n",
    "$$B = \\frac{\\sigma T^4}{\\pi}$$\n",
    "\n",
    "with the [Stephan-Boltzmann constant](https://en.wikipedia.org/wiki/Stefan%E2%80%93Boltzmann_constant) defined as:\n",
    "\n",
    "$$\\sigma \\equiv \\frac{2 k_B^4 \\pi^5}{15 h^3 c^2}$$\n",
    "\n",
    "so we can check our answer."
   ]
  },
  {
   "cell_type": "markdown",
   "id": "29eb8a26-67de-409b-9325-66916d756324",
   "metadata": {
    "editable": true,
    "slideshow": {
     "slide_type": ""
    },
    "tags": []
   },
   "source": [
    "```{tip}\n",
    "It's always a good idea to start by plotting the integrand.\n",
    "```"
   ]
  },
  {
   "cell_type": "code",
   "execution_count": 1,
   "id": "4ac96ca3-b18d-4e60-ba7b-79d9728b25d6",
   "metadata": {
    "editable": true,
    "slideshow": {
     "slide_type": ""
    },
    "tags": []
   },
   "outputs": [],
   "source": [
    "import numpy as np\n",
    "import matplotlib.pyplot as plt"
   ]
  },
  {
   "cell_type": "code",
   "execution_count": 2,
   "id": "efbb992c-f901-4704-a53d-cdd021fb46c9",
   "metadata": {},
   "outputs": [],
   "source": [
    "def B(x):\n",
    "    \"\"\"the Planck function kernel, in terms of x = h c / lambda k T\"\"\"\n",
    "    # we need to take the limit x -> 0 if the input x is 0\n",
    "    return np.where(x == 0, 0, x**3 / (np.expm1(x)))"
   ]
  },
  {
   "cell_type": "code",
   "execution_count": 3,
   "id": "c7d6bcd8-e454-421f-b905-b507943ffb8c",
   "metadata": {},
   "outputs": [
    {
     "name": "stderr",
     "output_type": "stream",
     "text": [
      "/tmp/ipykernel_266552/3072722118.py:4: RuntimeWarning: invalid value encountered in divide\n",
      "  return np.where(x == 0, 0, x**3 / (np.expm1(x)))\n"
     ]
    },
    {
     "data": {
      "text/plain": [
       "[<matplotlib.lines.Line2D at 0x7fa7e812e850>]"
      ]
     },
     "execution_count": 3,
     "metadata": {},
     "output_type": "execute_result"
    },
    {
     "data": {
      "image/png": "[encoded data removed]",
      "text/plain": [
       "<Figure size 640x480 with 1 Axes>"
      ]
     },
     "metadata": {},
     "output_type": "display_data"
    }
   ],
   "source": [
    "fig = plt.figure()\n",
    "ax = fig.add_subplot()\n",
    "\n",
    "x = np.linspace(0, 10, 100)\n",
    "ax.plot(x, B(x))"
   ]
  },
  {
   "cell_type": "markdown",
   "id": "a4531237-0d2d-452b-84c4-c40d73ce87ea",
   "metadata": {},
   "source": [
    "From the plot, we see that it peaks near x = 3 and then drops off, but it will only asymptotically approach `0`, so we need to still be careful about the integration limits."
   ]
  },
  {
   "cell_type": "markdown",
   "id": "e00cecef-dfe4-4a38-9077-9984c902d8e0",
   "metadata": {},
   "source": [
    "Let's consider the transform:\n",
    "\n",
    "$$z = \\frac{x}{c + x}$$\n",
    "\n",
    "where $c$ is chosen to be close to the maximum of the integrand.  This transformation maps the interval $x \\in [0, \\infty)$ into $z \\in [0, 1)$ &mdash; that makes the integral finite, and we can use our methods (like trapezoid) to do it.\n",
    "\n",
    "The inverse transform is:\n",
    "\n",
    "$$x = c \\frac{z}{1 - z}$$"
   ]
  },
  {
   "cell_type": "code",
   "execution_count": 6,
   "id": "19be8646-89ad-408b-b452-3cee8b690d7b",
   "metadata": {},
   "outputs": [],
   "source": [
    "SMALL = 1.e-30\n",
    "\n",
    "def zv(x, c=1):\n",
    "    \"\"\" transform the variable x -> z \"\"\"\n",
    "    return x/(c + x) \n",
    "\n",
    "def xv(z, c=1):\n",
    "    \"\"\" transform back from z -> x \"\"\"\n",
    "    return c*z/(1.0 - z + SMALL)"
   ]
  },
  {
   "cell_type": "markdown",
   "id": "c56530d9-8665-4074-8fe3-a6fc060cae18",
   "metadata": {},
   "source": [
    "Let's plot it again, but in terms of $z$"
   ]
  },
  {
   "cell_type": "code",
   "execution_count": 7,
   "id": "a2421bee-dc30-4dfc-a466-b84e4c4e93e5",
   "metadata": {},
   "outputs": [
    {
     "name": "stderr",
     "output_type": "stream",
     "text": [
      "/tmp/ipykernel_266552/3072722118.py:4: RuntimeWarning: overflow encountered in expm1\n",
      "  return np.where(x == 0, 0, x**3 / (np.expm1(x)))\n",
      "/tmp/ipykernel_266552/3072722118.py:4: RuntimeWarning: invalid value encountered in divide\n",
      "  return np.where(x == 0, 0, x**3 / (np.expm1(x)))\n"
     ]
    },
    {
     "data": {
      "image/png": "[encoded data removed]",
      "text/plain": [
       "<Figure size 640x480 with 1 Axes>"
      ]
     },
     "execution_count": 7,
     "metadata": {},
     "output_type": "execute_result"
    }
   ],
   "source": [
    "z = np.linspace(0, 1, 100)\n",
    "c = 3\n",
    "\n",
    "ax.clear()\n",
    "ax.plot(z, B(xv(z, c)))\n",
    "fig"
   ]
  },
  {
   "cell_type": "markdown",
   "id": "ce2d3bae-cdca-4f4c-be38-fef750ff403c",
   "metadata": {},
   "source": [
    "Notice that the transform puts the peak near the center of the interval, and the function nicely goes to zero as $z\\rightarrow 1$.  This is much better behaved to integrate."
   ]
  },
  {
   "cell_type": "markdown",
   "id": "3d2967ba-b7c9-4698-be4d-820e0fa6f49e",
   "metadata": {},
   "source": [
    "Consider a general integral:\n",
    "\n",
    "$$I = \\int_0^\\infty f(x) dx$$\n",
    "\n",
    "Let's rewrite this in terms of $z$. Since\n",
    "\n",
    "$$x = c \\frac{z}{1 - z}$$\n",
    "\n",
    "we have\n",
    "\n",
    "$$dx = \\frac{c dz}{(1 - z)^2}$$\n",
    "\n",
    "so\n",
    "\n",
    "$$I = c \\int_0^1 f\\left(c \\frac{z}{1 - z} \\right ) (1 -z)^{-2} dz$$\n",
    "\n",
    "We need to include these extra factors in our quadrature for computing the integral."
   ]
  },
  {
   "cell_type": "markdown",
   "id": "4b573fe4-f4aa-471f-8e7e-2418119b4dc1",
   "metadata": {},
   "source": [
    "```{note}\n",
    "For integrals over $[-\\infty, \\infty]$ a different change of variables would be needed.  See, e.g.,\n",
    "[Wikipedia article on numerical integration](https://en.wikipedia.org/wiki/Numerical_integration#Integrals_over_infinite_intervals)\n",
    "```\n"
   ]
  },
  {
   "cell_type": "code",
   "execution_count": 8,
   "id": "01c15994-c6e2-4daa-8861-6fed80b71cc8",
   "metadata": {},
   "outputs": [],
   "source": [
    "def I_t(func, N=10, c=5):\n",
    "    \"\"\"composite trapezoid rule for integrating from [0, oo].\n",
    "    Here N is the number of intervals\"\"\"\n",
    "    \n",
    "    # there are N+1 points corresponding to N intervals\n",
    "    z = np.linspace(0.0, 1.0, N+1, endpoint=True)\n",
    "    \n",
    "    I = 0.0\n",
    "    for n in range(N):\n",
    "        I += 0.5 * (z[n+1] - z[n]) * (func(xv(z[n], c)) / (1.0 - z[n] + SMALL)**2 +\n",
    "                                      func(xv(z[n+1], c)) / (1.0 - z[n+1] + SMALL)**2)\n",
    "    I *= c\n",
    "    return I"
   ]
  },
  {
   "cell_type": "markdown",
   "id": "cd231467-7182-457a-aca4-929e10583a48",
   "metadata": {},
   "source": [
    "Now we can check our result.  First, let's compute the analytic solution:"
   ]
  },
  {
   "cell_type": "code",
   "execution_count": 9,
   "id": "2d3d45b2-0dfc-4428-b299-8ad2aa486f37",
   "metadata": {},
   "outputs": [],
   "source": [
    "I_analytic = np.pi**4/15"
   ]
  },
  {
   "cell_type": "code",
   "execution_count": 11,
   "id": "cf12716c-fc96-434d-8691-0d144ac04c58",
   "metadata": {},
   "outputs": [
    {
     "name": "stdout",
     "output_type": "stream",
     "text": [
      "    2    8.48810          1.994163429\n",
      "    4    6.09974         0.3941968295\n",
      "    8    6.49205       0.001888841238\n",
      "   16    6.49392      1.669019097e-05\n",
      "   32    6.49394      5.396286928e-07\n",
      "   64    6.49394      3.352448719e-08\n"
     ]
    },
    {
     "name": "stderr",
     "output_type": "stream",
     "text": [
      "/tmp/ipykernel_266552/3072722118.py:4: RuntimeWarning: invalid value encountered in scalar divide\n",
      "  return np.where(x == 0, 0, x**3 / (np.expm1(x)))\n",
      "/tmp/ipykernel_266552/3072722118.py:4: RuntimeWarning: overflow encountered in expm1\n",
      "  return np.where(x == 0, 0, x**3 / (np.expm1(x)))\n"
     ]
    }
   ],
   "source": [
    "for nint in [2, 4, 8, 16, 32, 64]:\n",
    "    I_trap = I_t(B, N=nint, c=3)\n",
    "    print(f\"{nint:5} {I_trap:10.5f} {np.abs(I_trap - I_analytic):20.10g}\")"
   ]
  },
  {
   "cell_type": "markdown",
   "id": "ba7f587b-4273-41cb-8537-96b08b320110",
   "metadata": {},
   "source": [
    "We see that our answer matches the analytic solution very well."
   ]
  },
  {
   "cell_type": "markdown",
   "id": "510479c1-cfd3-4107-854f-ca2226f41ae7",
   "metadata": {},
   "source": [
    "## C++ implementation\n",
    "\n",
    "A C++ implementation is available as: [blackbody.cpp](https://github.com/zingale/computational_astrophysics/blob/main/examples/integration/blackbody.cpp)\n",
    "\n",
    "```{literalinclude} ../../../examples/integration/blackbody.cpp\n",
    ":language: c++\n",
    "```"
   ]
  },
  {
   "cell_type": "markdown",
   "id": "493c5377-72e2-41cc-aad7-400a1a045761",
   "metadata": {},
   "source": [
    "## Did we need to scale?\n",
    "\n",
    "We did our integral in terms of $x$ --- what would have happened if we did it in terms of $\\lambda$?"
   ]
  },
  {
   "cell_type": "code",
   "execution_count": 31,
   "id": "f9bd5b7e-bc95-4371-b229-6656edeb88be",
   "metadata": {},
   "outputs": [],
   "source": [
    "def B_planck(lam, T=1.e4):\n",
    "    \"\"\"the full Planck function\"\"\"\n",
    "\n",
    "    # CGS constants\n",
    "    c = 2.99792e10  # cm/s\n",
    "    k = 1.380649e-16  # erg/K\n",
    "    h = 6.626070e-27  # erg s\n",
    "\n",
    "    B = 2*h*c**2 / lam**5 / np.expm1(h*c/(lam*k*T))\n",
    "    return np.where(lam == 0, 0, B)"
   ]
  },
  {
   "cell_type": "markdown",
   "id": "d98ebdaa-1319-4b4b-b5b5-a6247d936fcc",
   "metadata": {},
   "source": [
    "Let's plot it with an evenly spaced $z$"
   ]
  },
  {
   "cell_type": "code",
   "execution_count": 38,
   "id": "d48bb64d-01e2-4e36-9cdd-25c85efc8998",
   "metadata": {},
   "outputs": [],
   "source": [
    "T = 1.e4"
   ]
  },
  {
   "cell_type": "code",
   "execution_count": 39,
   "id": "f28b2ff4-10ee-4703-98df-0382a8aca065",
   "metadata": {},
   "outputs": [],
   "source": [
    "z = np.linspace(0, 1, 50, endpoint=True)"
   ]
  },
  {
   "cell_type": "code",
   "execution_count": 41,
   "id": "9b7450d3-24d5-4ef3-9cb7-51a6711cd523",
   "metadata": {},
   "outputs": [
    {
     "name": "stderr",
     "output_type": "stream",
     "text": [
      "/tmp/ipykernel_266552/3009151832.py:9: RuntimeWarning: divide by zero encountered in divide\n",
      "  B = 2*h*c**2 / lam**5 / np.expm1(h*c/(lam*k*T))\n",
      "/tmp/ipykernel_266552/3009151832.py:9: RuntimeWarning: invalid value encountered in divide\n",
      "  B = 2*h*c**2 / lam**5 / np.expm1(h*c/(lam*k*T))\n"
     ]
    },
    {
     "data": {
      "image/png": "[encoded data removed]",
      "text/plain": [
       "<Figure size 640x480 with 1 Axes>"
      ]
     },
     "metadata": {},
     "output_type": "display_data"
    }
   ],
   "source": [
    "fig, ax = plt.subplots()\n",
    "ax.plot(xv(z), B_planck(xv(z), T=T), marker=\"x\")\n",
    "ax.set_xscale(\"log\")"
   ]
  },
  {
   "cell_type": "markdown",
   "id": "61a4d0f3-f536-49e4-b8fb-e03317de8e2d",
   "metadata": {},
   "source": [
    "This does not look good.  All of the data points (the \"x\") are at wavelenghts much larger\n",
    "than where we expect the peak to lie."
   ]
  },
  {
   "cell_type": "markdown",
   "id": "425e85c4-e95a-4664-8fde-ccd78b180a7b",
   "metadata": {},
   "source": [
    "The issue is that we need to have our mapping know where the most interesting features are --- that's what \n",
    "the $c$ parameter does.  Let's use Wien's law to set $c$"
   ]
  },
  {
   "cell_type": "code",
   "execution_count": 44,
   "id": "776e2247-fe8d-4a75-981b-94229d2c9888",
   "metadata": {},
   "outputs": [],
   "source": [
    "c = 0.29 / T   # 0.29 is in units nm K"
   ]
  },
  {
   "cell_type": "code",
   "execution_count": 45,
   "id": "9d76a1d8-02de-46b3-8e8c-f4e6ba06b209",
   "metadata": {},
   "outputs": [
    {
     "name": "stderr",
     "output_type": "stream",
     "text": [
      "/tmp/ipykernel_266552/3009151832.py:9: RuntimeWarning: divide by zero encountered in divide\n",
      "  B = 2*h*c**2 / lam**5 / np.expm1(h*c/(lam*k*T))\n",
      "/tmp/ipykernel_266552/3009151832.py:9: RuntimeWarning: invalid value encountered in divide\n",
      "  B = 2*h*c**2 / lam**5 / np.expm1(h*c/(lam*k*T))\n"
     ]
    },
    {
     "data": {
      "image/png": "[encoded data removed]",
      "text/plain": [
       "<Figure size 640x480 with 1 Axes>"
      ]
     },
     "metadata": {},
     "output_type": "display_data"
    }
   ],
   "source": [
    "fig, ax = plt.subplots()\n",
    "ax.plot(xv(z, c=c), B_planck(xv(z, c=c), T=T), marker=\"x\")\n",
    "ax.set_xscale(\"log\")"
   ]
  },
  {
   "cell_type": "markdown",
   "id": "848aebcc-dbb5-42e7-bdeb-fbcc9ce065e8",
   "metadata": {},
   "source": [
    "That looks a lot better --- now the points are concentrated in the peak."
   ]
  },
  {
   "cell_type": "markdown",
   "id": "7a533b10-59f2-45bf-80d3-e3dc68ce894c",
   "metadata": {},
   "source": [
    "Previously we were just integrating the dimensionless part of the Planck function, and we expected\n",
    "to get $\\pi^4/15$.\n",
    "\n",
    "Now, we have all of the dimensional terms in our integrand, and we expect to get $\\sigma T^4 / \\pi$."
   ]
  },
  {
   "cell_type": "code",
   "execution_count": 47,
   "id": "2cd67c3d-f187-4275-8eac-6996940b72e1",
   "metadata": {},
   "outputs": [],
   "source": [
    "sigma = 5.670374e-5"
   ]
  },
  {
   "cell_type": "code",
   "execution_count": 49,
   "id": "855b5bad-683b-485c-b098-7f9ea3386325",
   "metadata": {},
   "outputs": [
    {
     "name": "stdout",
     "output_type": "stream",
     "text": [
      "numerical = 180494194227.23563; analytic = 180493610255.9526\n"
     ]
    },
    {
     "name": "stderr",
     "output_type": "stream",
     "text": [
      "/tmp/ipykernel_266552/3009151832.py:9: RuntimeWarning: divide by zero encountered in scalar divide\n",
      "  B = 2*h*c**2 / lam**5 / np.expm1(h*c/(lam*k*T))\n",
      "/tmp/ipykernel_266552/3009151832.py:9: RuntimeWarning: invalid value encountered in scalar divide\n",
      "  B = 2*h*c**2 / lam**5 / np.expm1(h*c/(lam*k*T))\n"
     ]
    }
   ],
   "source": [
    "I = I_t(B_planck, N=50, c=c)\n",
    "analytic = sigma * T**4 / np.pi\n",
    "print(f\"numerical = {I}; analytic = {analytic}\")"
   ]
  },
  {
   "cell_type": "markdown",
   "id": "682d330c-221c-48d6-927d-93e8b5e2b6e3",
   "metadata": {},
   "source": [
    "The differences here are largely now due to the precision with which I entered the physical constants."
   ]
  }
 ],
 "metadata": {
  "kernelspec": {
   "display_name": "Python 3 (ipykernel)",
   "language": "python",
   "name": "python3"
  },
  "language_info": {
   "codemirror_mode": {
    "name": "ipython",
    "version": 3
   },
   "file_extension": ".py",
   "mimetype": "text/x-python",
   "name": "python",
   "nbconvert_exporter": "python",
   "pygments_lexer": "ipython3",
   "version": "3.13.2"
  }
 },
 "nbformat": 4,
 "nbformat_minor": 5
}
