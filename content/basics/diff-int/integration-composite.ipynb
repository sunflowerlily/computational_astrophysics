{
 "cells": [
  {
   "cell_type": "markdown",
   "metadata": {},
   "source": [
    "# Composite Integration\n"
   ]
  },
  {
   "cell_type": "markdown",
   "metadata": {
    "editable": true,
    "slideshow": {
     "slide_type": ""
    },
    "tags": []
   },
   "source": [
    "It usually doesn't pay to go to higher-order polynomials (e.g., fitting a cubic to 4 points in the domain).  Instead, we can do composite integration by dividing our domain $[a, b]$ into slabs, and then using the above approximations.\n",
    "\n",
    "Here's an illustration of dividing the domain into 6 slabs:\n",
    "\n",
    "![compound integration examples with N=6](compound2.png)\n",
    "\n",
    "Imagine using $N$ slabs.\n",
    "For the rectangle and trapezoid rules, we would apply them N times (once per slab) and sum up the integrals in each slab.\n",
    "For the Simpson's rule, we would apply Simpson's rule over 2 slabs at a time and sum up the integrals over the $N/2$ pair of slabs (this assumes that $N$ is even).\n"
   ]
  },
  {
   "cell_type": "markdown",
   "metadata": {
    "editable": true,
    "slideshow": {
     "slide_type": ""
    },
    "tags": []
   },
   "source": [
    "The composite rule for trapezoid integration is:\n",
    "\n",
    "$$\n",
    "\\int_a^b f(x) dx = \\frac{\\Delta x}{2} \\sum_{i=0}^{N-1} (f_i + f_{i+1}) + \\mathcal{O}(\\Delta x^2)\n",
    "$$\n",
    "\n",
    "and for Simpson's rule, it is:\n",
    "\n",
    "$$\n",
    "\\int_a^b f(x) dx = \\frac{\\Delta x}{3} \\sum_{i = 0}^{N/2-1} (f_{2i} + 4 f_{2i+1} + f_{2i+2}) + \\mathcal{O}(\\Delta x^4)\n",
    "$$"
   ]
  },
  {
   "cell_type": "markdown",
   "metadata": {
    "editable": true,
    "slideshow": {
     "slide_type": ""
    },
    "tags": []
   },
   "source": [
    "```{admonition} Example\n",
    "For the function in the previous exercise, perform a composite integral using the trapezoid and Simpson's rule for $N = 2, 4, 8, 16, 32$.\n",
    "Compute the error with respect to the analytic solution and make a plot of the error vs. $N$ for both methods.  Do the errors follow the scaling shown in the expressions above?\n",
    "```"
   ]
  },
  {
   "cell_type": "code",
   "execution_count": 1,
   "metadata": {
    "editable": true,
    "slideshow": {
     "slide_type": ""
    },
    "tags": []
   },
   "outputs": [],
   "source": [
    "import numpy as np\n",
    "import matplotlib.pyplot as plt"
   ]
  },
  {
   "cell_type": "markdown",
   "metadata": {},
   "source": [
    "First let's write the function we will integrate"
   ]
  },
  {
   "cell_type": "code",
   "execution_count": 2,
   "metadata": {
    "tags": []
   },
   "outputs": [],
   "source": [
    "def f(x):\n",
    "    return 1 + 0.25 * x * np.sin(np.pi * x)"
   ]
  },
  {
   "cell_type": "markdown",
   "metadata": {},
   "source": [
    "Now our composite trapezoid and Simpson's rules"
   ]
  },
  {
   "cell_type": "code",
   "execution_count": 3,
   "metadata": {
    "tags": []
   },
   "outputs": [],
   "source": [
    "def I_t(x):\n",
    "    \"\"\"composite trapezoid rule.  Here x is the vector\n",
    "    of coordinate values we will evaluate the function\n",
    "    at.\"\"\"\n",
    "    \n",
    "    # the number of bins is one less than the number\n",
    "    # of points\n",
    "    N = len(x)-1\n",
    "    \n",
    "    I = 0.0\n",
    "\n",
    "    # loop over bins\n",
    "    for n in range(N):\n",
    "        I += 0.5*(x[n+1] - x[n]) * (f(x[n]) + f(x[n+1]))\n",
    "    return I\n",
    "\n",
    "def I_s(x):\n",
    "    \"\"\"composite Simpsons rule.  Here x is the vector\n",
    "    of coordinate values we will evaluate the function\n",
    "    at.\"\"\"\n",
    "    \n",
    "    # the number of bins is one less than the number of\n",
    "    # points\n",
    "    N = len(x)-1\n",
    "    \n",
    "    # we require an even number of bins\n",
    "    assert N % 2 == 0\n",
    "    \n",
    "    I = 0.0\n",
    "\n",
    "    # loop over bins\n",
    "    for n in range(0, N-1, 2):\n",
    "        dx = x[n+1] - x[n]\n",
    "        I += dx/3.0 * (f(x[n])+ 4 * f(x[n+1]) + f(x[n+2]))\n",
    "    return I"
   ]
  },
  {
   "cell_type": "markdown",
   "metadata": {},
   "source": [
    "Integration limits"
   ]
  },
  {
   "cell_type": "code",
   "execution_count": 4,
   "metadata": {
    "tags": []
   },
   "outputs": [],
   "source": [
    "a = 0.5\n",
    "b = 1.5"
   ]
  },
  {
   "cell_type": "markdown",
   "metadata": {},
   "source": [
    "The analytic solution"
   ]
  },
  {
   "cell_type": "code",
   "execution_count": 5,
   "metadata": {},
   "outputs": [],
   "source": [
    "I_a = 1 - 1/(2 * np.pi**2)"
   ]
  },
  {
   "cell_type": "markdown",
   "metadata": {},
   "source": [
    "Now let's run for a bunch of different number of bins and store the errors"
   ]
  },
  {
   "cell_type": "code",
   "execution_count": 6,
   "metadata": {
    "tags": []
   },
   "outputs": [],
   "source": [
    "# number of bins\n",
    "N = [2, 4, 8, 16, 32, 64, 128, 256]\n",
    "\n",
    "# keep track of the errors for each N\n",
    "err_trap = []\n",
    "err_simps = []\n",
    "\n",
    "for nbins in N:\n",
    "\n",
    "    # x values (including rightmost point)\n",
    "    x = np.linspace(a, b, nbins+1)\n",
    "\n",
    "    err_trap.append(np.abs(I_t(x) - I_a))\n",
    "    err_simps.append(np.abs(I_s(x) - I_a))"
   ]
  },
  {
   "cell_type": "markdown",
   "metadata": {},
   "source": [
    "Now we'll plot the errors along with the expected scaling"
   ]
  },
  {
   "cell_type": "code",
   "execution_count": 7,
   "metadata": {
    "tags": []
   },
   "outputs": [
    {
     "data": {
      "text/plain": [
       "Text(0, 0.5, 'error')"
      ]
     },
     "execution_count": 7,
     "metadata": {},
     "output_type": "execute_result"
    },
    {
     "data": {
      "image/png": "[encoded data removed]",
      "text/plain": [
       "<Figure size 640x480 with 1 Axes>"
      ]
     },
     "metadata": {},
     "output_type": "display_data"
    }
   ],
   "source": [
    "err_trap = np.asarray(err_trap)\n",
    "err_simps = np.asarray(err_simps)\n",
    "N = np.asarray(N)\n",
    "\n",
    "fig = plt.figure()\n",
    "ax = fig.add_subplot(111)\n",
    "\n",
    "ax.scatter(N, err_trap, label=\"trapezoid rule\")\n",
    "ax.scatter(N, err_simps, label=\"Simpson's rule\")\n",
    "\n",
    "# compute the ideal scaling\n",
    "# err = err_0 (N_0 / N) ** order\n",
    "fourth_order = err_simps[0] * (N[0]/N)**4\n",
    "second_order = err_trap[0] * (N[0]/N)**2\n",
    "\n",
    "ax.plot(N, second_order, label=\"2nd order\")\n",
    "ax.plot(N, fourth_order, label=\"4th order\")\n",
    "\n",
    "ax.set_xscale(\"log\")\n",
    "ax.set_yscale(\"log\")\n",
    "\n",
    "ax.legend()\n",
    "ax.set_xlabel(\"number of bins\")\n",
    "ax.set_ylabel(\"error\")"
   ]
  },
  {
   "cell_type": "markdown",
   "metadata": {
    "editable": true,
    "slideshow": {
     "slide_type": ""
    },
    "tags": []
   },
   "source": [
    "```{warning}\n",
    "As you make the number of bins larger and larger, eventually you'll hit a limit to how accurate you can get the integral (somewhere around N ~ 4096 bins for Simpson's).  Beyond that, roundoff error dominates.\n",
    "```"
   ]
  },
  {
   "cell_type": "markdown",
   "metadata": {
    "editable": true,
    "slideshow": {
     "slide_type": ""
    },
    "tags": []
   },
   "source": [
    "## C++ implementation"
   ]
  },
  {
   "cell_type": "markdown",
   "metadata": {},
   "source": [
    "A C++ implementation of Simpson's rule for this problem can be found at:\n",
    "https://github.com/zingale/computational_astrophysics/blob/main/examples/integration/simpsons.cpp"
   ]
  }
 ],
 "metadata": {
  "kernelspec": {
   "display_name": "Python 3 (ipykernel)",
   "language": "python",
   "name": "python3"
  },
  "language_info": {
   "codemirror_mode": {
    "name": "ipython",
    "version": 3
   },
   "file_extension": ".py",
   "mimetype": "text/x-python",
   "name": "python",
   "nbconvert_exporter": "python",
   "pygments_lexer": "ipython3",
   "version": "3.13.0"
  }
 },
 "nbformat": 4,
 "nbformat_minor": 4
}
