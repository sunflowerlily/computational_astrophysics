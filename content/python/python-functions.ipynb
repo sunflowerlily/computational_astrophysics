{
 "cells": [
  {
   "cell_type": "markdown",
   "metadata": {},
   "source": [
    "# Functions"
   ]
  },
  {
   "cell_type": "markdown",
   "metadata": {},
   "source": [
    "Functions are used to organize program flow, especially to allow us to easily do commonly needed tasks over and over again.  We've already used a lot of functions, such as those that work on lists (`append()` and `pop()`) or strings (like `replace()`).  Here we see how to write our own functions"
   ]
  },
  {
   "cell_type": "markdown",
   "metadata": {},
   "source": [
    "A function takes arguments, listed in the `()` and returns a value.  Even if you don't explicitly give a return value, one will be return (e.g., `None`). \n",
    "\n",
    "Here's a simple example of a function that takes a single argument, `i`"
   ]
  },
  {
   "cell_type": "code",
   "execution_count": 1,
   "metadata": {},
   "outputs": [
    {
     "name": "stdout",
     "output_type": "stream",
     "text": [
      "in the function, i = 10\n",
      "in the function, i = 5\n"
     ]
    }
   ],
   "source": [
    "def my_fun(i):\n",
    "    print(f\"in the function, i = {i}\")\n",
    "    \n",
    "my_fun(10)\n",
    "my_fun(5)"
   ]
  },
  {
   "cell_type": "code",
   "execution_count": 2,
   "metadata": {},
   "outputs": [
    {
     "name": "stdout",
     "output_type": "stream",
     "text": [
      "in the function, i = 0\n",
      "None\n"
     ]
    }
   ],
   "source": [
    "a = my_fun(0)\n",
    "print(a)"
   ]
  },
  {
   "cell_type": "markdown",
   "metadata": {},
   "source": [
    "functions are one place where _scope_ comes into play.  A function has its own _namespace_.  If a variable is not defined in that function, then it will look to the namespace from where it was called to see if that variable exists there.  \n",
    "\n",
    "However, you should avoid this as much as possible (variables that persist across namespaces are called global variables).\n",
    "\n",
    "We already saw one instance of namespaces when we imported from the `math` module."
   ]
  },
  {
   "cell_type": "markdown",
   "metadata": {},
   "source": [
    "Here's a simple function that takes two numbers and returns their product."
   ]
  },
  {
   "cell_type": "code",
   "execution_count": 4,
   "metadata": {},
   "outputs": [
    {
     "name": "stdout",
     "output_type": "stream",
     "text": [
      "12\n"
     ]
    }
   ],
   "source": [
    "def multiply(a, b):\n",
    "    return a*b\n",
    "\n",
    "c = multiply(3, 4)\n",
    "print(c)"
   ]
  },
  {
   "cell_type": "markdown",
   "metadata": {},
   "source": [
    "```{admonition} Exercise:    \n",
    "Write a simple function that takes a sentence (as a string) and returns an integer equal to the length of the longest word in the sentence.  The `len()` function and the `.split()` methods will be useful here.\n",
    "```"
   ]
  },
  {
   "cell_type": "code",
   "execution_count": null,
   "metadata": {},
   "outputs": [],
   "source": []
  },
  {
   "cell_type": "markdown",
   "metadata": {},
   "source": [
    "## Keyword Arguments"
   ]
  },
  {
   "cell_type": "markdown",
   "metadata": {},
   "source": [
    "You can have optional arguments which provide defaults.  Here's a simple function that validates an answer, with an optional argument that can provide the correct answer."
   ]
  },
  {
   "cell_type": "code",
   "execution_count": 1,
   "metadata": {},
   "outputs": [
    {
     "name": "stdout",
     "output_type": "stream",
     "text": [
      "True\n",
      "False\n"
     ]
    }
   ],
   "source": [
    "def check_answer(val, correct_answer=\"a\"):\n",
    "    if val == correct_answer:\n",
    "        return True\n",
    "    else:\n",
    "        return False\n",
    "\n",
    "print(check_answer(\"a\"))\n",
    "print(check_answer(\"a\", correct_answer=\"b\"))"
   ]
  },
  {
   "cell_type": "markdown",
   "metadata": {},
   "source": [
    "```{important}\n",
    "Python evaluates the optional arguments once&mdash;when the function is defined.  This means that if you make the default an empty object, for instance, it will persist across all calls.\n",
    "\n",
    "This is one of the most common errors for beginners.\n",
    "```"
   ]
  },
  {
   "cell_type": "markdown",
   "metadata": {},
   "source": [
    "Here's an example of trying to initialize to an empty list:"
   ]
  },
  {
   "cell_type": "code",
   "execution_count": 10,
   "metadata": {},
   "outputs": [
    {
     "name": "stdout",
     "output_type": "stream",
     "text": [
      "[1]\n",
      "[1, 2]\n",
      "[1, 2, 3]\n"
     ]
    }
   ],
   "source": [
    "def f(a, L=[]):\n",
    "    L.append(a)\n",
    "    return L\n",
    "\n",
    "print(f(1))\n",
    "print(f(2))\n",
    "print(f(3))"
   ]
  },
  {
   "cell_type": "markdown",
   "metadata": {},
   "source": [
    "Notice that each call does not create its own separate list.  Instead a single empty list was created when the function was first processed, and this list persists in memory as the default value for the optional argument `L`.  \n",
    "\n",
    "If we want a unique list created each time (e.g., a separate place in memory), we instead initialize the argument's value to `None` and then check its actual value and create an empty list in the function body itself if the default value was unchanged."
   ]
  },
  {
   "cell_type": "code",
   "execution_count": 11,
   "metadata": {},
   "outputs": [
    {
     "name": "stdout",
     "output_type": "stream",
     "text": [
      "[1]\n",
      "[2]\n",
      "[3]\n"
     ]
    }
   ],
   "source": [
    "def fnew(a, L=None):\n",
    "    if L is None:\n",
    "        L = []\n",
    "    L.append(a)\n",
    "    return L\n",
    "\n",
    "print(fnew(1))\n",
    "print(fnew(2))\n",
    "print(fnew(3))"
   ]
  },
  {
   "cell_type": "code",
   "execution_count": 12,
   "metadata": {},
   "outputs": [
    {
     "name": "stdout",
     "output_type": "stream",
     "text": [
      "[1, 2]\n"
     ]
    }
   ],
   "source": [
    "L = fnew(1)\n",
    "print(fnew(2, L=L))"
   ]
  },
  {
   "cell_type": "markdown",
   "metadata": {},
   "source": [
    "Notice that the same `None` that we saw previously comes into play here.  "
   ]
  }
 ],
 "metadata": {
  "kernelspec": {
   "display_name": "Python 3 (ipykernel)",
   "language": "python",
   "name": "python3"
  },
  "language_info": {
   "codemirror_mode": {
    "name": "ipython",
    "version": 3
   },
   "file_extension": ".py",
   "mimetype": "text/x-python",
   "name": "python",
   "nbconvert_exporter": "python",
   "pygments_lexer": "ipython3",
   "version": "3.12.7"
  }
 },
 "nbformat": 4,
 "nbformat_minor": 4
}
