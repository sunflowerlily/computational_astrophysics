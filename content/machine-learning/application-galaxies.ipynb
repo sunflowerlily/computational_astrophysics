{
 "cells": [
  {
   "cell_type": "markdown",
   "id": "1487baff-0d76-4979-8f07-73f7bce03859",
   "metadata": {},
   "source": [
    "# Galaxy Classification with a Neural Net from Scratch"
   ]
  },
  {
   "cell_type": "markdown",
   "id": "2beefc90-c4fd-48ef-ad4f-3243d1d8012c",
   "metadata": {},
   "source": [
    "Here we implement a neural network from scratch with a single hidden layer, using only NumPy and use\n",
    "it to classify galaxies."
   ]
  },
  {
   "cell_type": "code",
   "execution_count": 1,
   "id": "d5b70226-ffb9-4e0e-9ab7-5090a0355c0b",
   "metadata": {},
   "outputs": [],
   "source": [
    "import numpy as np\n",
    "import matplotlib.pyplot as plt\n",
    "import h5py"
   ]
  },
  {
   "cell_type": "markdown",
   "id": "f209b8b7-6dce-431a-9965-1b9fd225abd5",
   "metadata": {},
   "source": [
    "We need the `Galaxy` class we previously defined"
   ]
  },
  {
   "cell_type": "code",
   "execution_count": 2,
   "id": "f8adee18-1502-48b0-928a-c51a6038ea16",
   "metadata": {},
   "outputs": [],
   "source": [
    "galaxy_types = {0: \"disturbed galaxies\",\n",
    "                1: \"merging galaxies\",\n",
    "                2: \"round smooth galaxies\",\n",
    "                3: \"in-between round smooth galaxies\",\n",
    "                4: \"cigar shaped smooth galaxies\",\n",
    "                5: \"barred spiral galaxies\",\n",
    "                6: \"unbarred tight spiral galaxies\",\n",
    "                7: \"unbarred loose spiral galaxies\",\n",
    "                8: \"edge-on galaxies without bulge\",\n",
    "                9: \"edge-on galaxies with bulge\"}"
   ]
  },
  {
   "cell_type": "code",
   "execution_count": 3,
   "id": "b152544c-653f-4422-9b78-563d5b6c4140",
   "metadata": {},
   "outputs": [],
   "source": [
    "class Galaxy:\n",
    "    def __init__(self, data, answer, *, index=-1):\n",
    "        self.data = np.array(data, dtype=np.float32) / 255.0 * 0.99 + 0.01\n",
    "        self.answer = answer\n",
    "\n",
    "        self.out = np.zeros(10, dtype=np.float32) + 0.01\n",
    "        self.out[self.answer] = 0.99\n",
    "\n",
    "        self.index = index\n",
    "\n",
    "    def plot(self, ax=None):\n",
    "        if ax is None:\n",
    "            fig, ax = plt.subplots()\n",
    "        ax.imshow(self.data, interpolation=\"nearest\")\n",
    "        ax.text(0.025, 0.95, f\"answer: {self.answer}\",\n",
    "                color=\"white\", transform=ax.transAxes)\n",
    "\n",
    "    def validate(self, prediction):\n",
    "        \"\"\"check if a categorical prediction matches the answer\"\"\"\n",
    "        return np.argmax(prediction) == self.answer"
   ]
  },
  {
   "cell_type": "markdown",
   "id": "6aa549b0-ae31-4c79-9139-c49a7f4587dd",
   "metadata": {},
   "source": [
    "## A manager class"
   ]
  },
  {
   "cell_type": "markdown",
   "id": "44bbd112-ed92-45ee-a0f1-50d869304aed",
   "metadata": {},
   "source": [
    "We'll create a class to manage access to the data.  This will do the following:\n",
    "\n",
    "* open the file and store the handles to access the data\n",
    "* partition the data into test and training sets\n",
    "* provide a means to shuffle the data\n",
    "* provide methods to get the next dataset (either training or test)\n",
    "* allow us to coarsen the images to a reduced resolution to make the training easier."
   ]
  },
  {
   "cell_type": "code",
   "execution_count": 4,
   "id": "8c8512ea-bbe6-4d53-8ee2-f372320f41f2",
   "metadata": {},
   "outputs": [],
   "source": [
    "class DataManager:\n",
    "    def __init__(self, partition=0.8,\n",
    "                 datafile=\"Galaxy10_DECals.h5\",\n",
    "                 coarsen=1):\n",
    "        \"\"\"manage access to the data\n",
    "\n",
    "        partition: fraction that should be training\n",
    "        datafile: name of the hdf5 file with the data\n",
    "        coarsen: reduce the number of pixels by this factor\n",
    "        \"\"\"\n",
    "\n",
    "        self.ds = h5py.File(datafile)\n",
    "        self.ans = np.array(self.ds[\"ans\"])\n",
    "        self.images = np.array(self.ds[\"images\"])\n",
    "\n",
    "        self.coarsen = coarsen\n",
    "\n",
    "        N = len(self.ans)\n",
    "\n",
    "        # create a set of indices for the galaxies and randomize\n",
    "        self.indices = np.arange(N, dtype=np.uint32)\n",
    "        self.rng = np.random.default_rng()\n",
    "        self.rng.shuffle(self.indices)\n",
    "\n",
    "        # partition into training and test sets\n",
    "        # these indices will always refer to the index in the original\n",
    "        # unsplit dataset\n",
    "        n_cut = int(partition * N)\n",
    "        self.training_indices = self.indices[0:n_cut]\n",
    "        self.test_indices = self.indices[n_cut:N]\n",
    "\n",
    "        self.n_training = len(self.training_indices)\n",
    "        self.n_test = len(self.test_indices)\n",
    "        \n",
    "        # store the current index into the *_indices array we are\n",
    "        # accessing\n",
    "        self.curr_idx_train = -1\n",
    "        self.curr_idx_test = -1\n",
    "\n",
    "    def _get_galaxy(self, index):\n",
    "        \"\"\"return a numpy array containing a single galaxy image, coarsened\n",
    "        if necessary by averaging\"\"\"\n",
    "        _tmp = self.images[index, :, :, :]\n",
    "        if self.coarsen > 1:\n",
    "            _tmp = np.mean(_tmp.reshape(_tmp.shape[0]//self.coarsen, self.coarsen,\n",
    "                                        _tmp.shape[1]//self.coarsen, self.coarsen,\n",
    "                                        _tmp.shape[2]), axis=(1, 3))\n",
    "        return _tmp\n",
    "\n",
    "    def get_next_training_image(self):\n",
    "        self.curr_idx_train += 1\n",
    "        if self.curr_idx_train < len(self.training_indices):\n",
    "            idx = self.training_indices[self.curr_idx_train]\n",
    "            return Galaxy(self._get_galaxy(idx), self.ans[idx], index=idx)\n",
    "        return None\n",
    "\n",
    "    def reset_training(self):\n",
    "        \"\"\"prepare for the next epoch: shuffle the training data and\n",
    "        reset the index to point to the start\"\"\"\n",
    "        self.curr_idx_train = -1\n",
    "        self.rng.shuffle(self.training_indices)\n",
    "\n",
    "    def reset_testing(self):\n",
    "        \"\"\"reset the pointer for the test data\"\"\"\n",
    "        self.curr_idx_test = -1\n",
    "\n",
    "    def get_next_test_image(self):\n",
    "        self.curr_idx_test += 1\n",
    "        if self.curr_idx_test < len(self.test_indices):\n",
    "            idx = self.test_indices[self.curr_idx_test]\n",
    "            return Galaxy(self._get_galaxy(idx), self.ans[idx], index=idx)\n",
    "        return None"
   ]
  },
  {
   "cell_type": "markdown",
   "id": "3085a0eb-9384-4e8e-a982-709a010dbb0e",
   "metadata": {},
   "source": [
    "````{tip}\n",
    "The `get_next_training_image()` and `get_next_test_image()` will return `None` when there are no more galaxies.\n",
    "This allows us to loop over the data set as:\n",
    "\n",
    "```python\n",
    "d = DataManager()\n",
    "while g := d.get_next_training_image():\n",
    "    # do stuff with g\n",
    "```\n",
    "\n",
    "where we use the [python walrus operator](https://peps.python.org/pep-0572/), `:=` to assign to `g` within the\n",
    "loop conditional.\n",
    "````"
   ]
  },
  {
   "cell_type": "markdown",
   "id": "592203a0-8335-48ad-a174-0eb92a405cca",
   "metadata": {},
   "source": [
    "We can now work with the data as follows.  Here we create a `DataManager` that will coarsen the images by a factor of 4 (so they will be 64x64 pixels with 3 colors)."
   ]
  },
  {
   "cell_type": "code",
   "execution_count": 5,
   "id": "9b6e7c95-aeb9-4186-9d82-a11497f4a6c0",
   "metadata": {},
   "outputs": [],
   "source": [
    "d = DataManager(coarsen=4)"
   ]
  },
  {
   "cell_type": "markdown",
   "id": "c1fdb9c2-c3f5-4451-838c-3ab81766eb26",
   "metadata": {},
   "source": [
    "we can see how many images there are in the training and test sets"
   ]
  },
  {
   "cell_type": "code",
   "execution_count": 6,
   "id": "b381963b-c8c5-41a9-94a1-6f9930557087",
   "metadata": {},
   "outputs": [
    {
     "data": {
      "text/plain": [
       "(14188, 3548)"
      ]
     },
     "execution_count": 6,
     "metadata": {},
     "output_type": "execute_result"
    }
   ],
   "source": [
    "d.n_training, d.n_test"
   ]
  },
  {
   "cell_type": "markdown",
   "id": "14232322-934e-4278-85a2-ee40353afe8f",
   "metadata": {},
   "source": [
    "We can then get a training galaxy and look at it:"
   ]
  },
  {
   "cell_type": "code",
   "execution_count": 7,
   "id": "fa08663e-7019-435a-a29e-2ccdced8d1e6",
   "metadata": {},
   "outputs": [
    {
     "data": {
      "image/png": "[encoded data removed]",
      "text/plain": [
       "<Figure size 640x480 with 1 Axes>"
      ]
     },
     "metadata": {},
     "output_type": "display_data"
    }
   ],
   "source": [
    "g = d.get_next_test_image()\n",
    "g.plot()"
   ]
  },
  {
   "cell_type": "markdown",
   "id": "d2ef947c-a633-4185-803b-1aeb3ce3316d",
   "metadata": {},
   "source": [
    "We'll need a 1-d representation of the data, which we can get using `np.ravel()`"
   ]
  },
  {
   "cell_type": "code",
   "execution_count": 8,
   "id": "25cdd236-2124-4843-a668-a655e47593f2",
   "metadata": {},
   "outputs": [
    {
     "data": {
      "text/plain": [
       "(12288,)"
      ]
     },
     "execution_count": 8,
     "metadata": {},
     "output_type": "execute_result"
    }
   ],
   "source": [
    "np.ravel(g.data).shape"
   ]
  },
  {
   "cell_type": "markdown",
   "id": "3e984395-c6b5-4707-8bec-3fc54edc278f",
   "metadata": {},
   "source": [
    "## Batching"
   ]
  },
  {
   "cell_type": "markdown",
   "id": "fe86160e-e3fe-4468-929e-54f89b83944b",
   "metadata": {},
   "source": [
    "Training with this data will be very slow.  We can speed it up more by using batching and aggregating the linear algebra.  Here's how this works."
   ]
  },
  {
   "cell_type": "markdown",
   "id": "05b70dc0-eec1-43bf-ad0d-b5fb35c213d5",
   "metadata": {},
   "source": [
    "### Single input recap\n",
    "\n",
    "Our basic network does:\n",
    "\n",
    "$$\\tilde{\\bf z}^k = g({\\bf B} {\\bf x}^k)$$\n",
    "\n",
    "$${\\bf z}^k = g({\\bf A} \\tilde{\\bf z}^k)$$\n",
    "\n",
    "where the sizes of the matrices and vectors are:\n",
    "\n",
    "* ${\\bf x}^k$ : $N_\\mathrm{in} \\times 1$\n",
    "* ${\\bf B}$ : $N_\\mathrm{hidden} \\times N_\\mathrm{in}$\n",
    "* $\\tilde{\\bf z}^k$ : $N_\\mathrm{hidden}\\times 1$\n",
    "* ${\\bf A}$ : $N_\\mathrm{out} \\times N_\\mathrm{hidden}$\n",
    "* ${\\bf z}^k$ : $N_\\mathrm{out} \\times 1$\n",
    "\n",
    "we also have the known output, ${\\bf y}^k$ corresponding to input ${\\bf x}^k$\n",
    "\n",
    "* ${\\bf y}^k$ : $N_\\mathrm{out} \\times 1$\n",
    "\n",
    "we then compute the errors:\n",
    "\n",
    "* ${\\bf e}^k = {\\bf z}^k - {\\bf y}^k$ (the error on the output layer) : $N_\\mathrm{out} \\times 1$\n",
    "* $\\tilde{\\bf e}^k = {\\bf A}^\\intercal \\cdot [{\\bf e}^k \\circ {\\bf z} \\circ (1 - {\\bf z})]$ (the error backpropagated to the hidden layer) : $N_\\mathrm{hidden} \\times 1$\n",
    "\n",
    "and finally the corrections due to this single piece of training data, $({\\bf x}^k, {\\bf y}^k)$:\n",
    "\n",
    "* $\\Delta {\\bf A} = -2\\eta \\,{\\bf e}^k \\circ {\\bf z}^k \\circ (1 - {\\bf z}^k) \\cdot (\\tilde{\\bf z}^k)^\\intercal$ : $N_\\mathrm{out} \\times N_\\mathrm{hidden}$\n",
    "* $\\Delta {\\bf B} = -2\\eta \\,\\tilde{\\bf e}^k \\circ \\tilde{\\bf z}^k \\circ (1 - \\tilde{\\bf z}^k) \\cdot ({\\bf x}^k)^\\intercal$ : $N_\\mathrm{hidden} \\times N_\\mathrm{in}$\n",
    "  "
   ]
  },
  {
   "cell_type": "markdown",
   "id": "5c6a7874-954c-44a0-bda2-ca248cdb4609",
   "metadata": {},
   "source": [
    "### A batching approach\n",
    "\n",
    "We now want to batch the inputs, by extending ${\\bf x}$ to be of size $N_\\mathrm{in} \\times S$, where $S$ is the batch size.  This means that each column is a unique\n",
    "input vector ${\\bf x}^k$, and $S$ of them are sandwiched together:\n",
    "\n",
    "$${\\bf x}_b = \\left ( \\begin{array}{ccccc}\n",
    "                      | & | & | &  & | \\\\\n",
    "                      {\\bf x}^0 & {\\bf x}^1 & {\\bf x}^2 & ... & {\\bf x}^{S-1} \\\\\n",
    "                      | & | & | &  & | \n",
    "                      \\end{array} \\right )$$\n",
    "\n",
    "Similarly, we create a batched ${\\bf y}_b$ that contains the ${\\bf y}^k$ corresponding\n",
    "to the ${\\bf x}^k$ in ${\\bf x}_b$.\n",
    "\n",
    "We can propagate this through the network, getting\n",
    "\n",
    "$${\\bf z}_b = g({\\bf A} g({\\bf B}{\\bf x}_b))$$\n",
    "\n",
    "where ${\\bf z}_b$ is now of size $N_\\mathrm{out} \\times S$."
   ]
  },
  {
   "cell_type": "markdown",
   "id": "ba4ba47d-31fc-4caa-aebe-032d793d56e6",
   "metadata": {},
   "source": [
    "Now, we compute the errors from the batched inputs\n",
    "\n",
    "* ${\\bf e}_b = {\\bf z}_b - {\\bf y}_b$ : $N_\\mathrm{out} \\times S$\n",
    "* $\\tilde{\\bf e}_b =\\underbrace{{\\bf A}^\\intercal}_{N_\\mathrm{hidden} \\times N_\\mathrm{out}} \\cdot \\underbrace{[{\\bf e}_b \\circ {\\bf z}_b \\circ (1 - {\\bf z})]}_{N_\\mathrm{out} \\times S}$ : $N_\\mathrm{hidden} \\times S$\n",
    "\n",
    "and the accumulated corrections:\n",
    "\n",
    "* $\\Delta {\\bf A} = -\\frac{2\\eta}{S} \\,\\underbrace{{\\bf e}_b \\circ {\\bf z}_b \\circ (1 - {\\bf z}_b)}_{N_\\mathrm{out}\\times S} \\cdot \\underbrace{(\\tilde{\\bf z}_b)^\\intercal}_{S\\times N_\\mathrm{hidden}}$\n",
    "* $\\Delta {\\bf B} = -\\frac{2\\eta}{S} \\,\\underbrace{\\tilde{\\bf e}_b \\circ \\tilde{\\bf z}_b \\circ (1 - \\tilde{\\bf z}_b)}_{N_\\mathrm{hidden} \\times S} \\cdot \\underbrace{({\\bf x}_b)^\\intercal}_{S \\times N_\\mathrm{in}}$\n",
    "\n",
    "In these accumulated corrections, the $S$ dimensions contract.  In essence, this means\n",
    "that each element in $\\Delta {\\bf A}$ and $\\Delta {\\bf B}$ is the sum of the corrections for each of the $S$ training data pairs in the batch.  For this reason, we normalize by $S$ to create the average of the gradient."
   ]
  },
  {
   "cell_type": "markdown",
   "id": "2d8a8dd8-b866-4ba6-8827-515047706571",
   "metadata": {},
   "source": [
    "```{tip}\n",
    "Batching also stabilizes the gradient descent, making it easier to find\n",
    "the minimum and allowing us to use a larger learning rate.\n",
    "```"
   ]
  },
  {
   "cell_type": "markdown",
   "id": "e6346e2b-e24c-43d8-9b76-88027059d93f",
   "metadata": {},
   "source": [
    "## Momentum"
   ]
  },
  {
   "cell_type": "markdown",
   "id": "efbd8c20-3c81-4c07-ab69-ad1a88e63508",
   "metadata": {},
   "source": [
    "The other feature we need for this application is [momentum](https://en.wikipedia.org/wiki/Stochastic_gradient_descent#Momentum) in the gradient descent weight updates.\n",
    "\n",
    "A popular form of momentum (see, e.g., [Momentum: A simple, yet efficient optimizing technique](https://medium.com/analytics-vidhya/momentum-a-simple-yet-efficient-optimizing-technique-ef76834e4423)) builds off of the idea of the [exponential moving average](https://en.wikipedia.org/wiki/Exponential_smoothing).\n",
    "\n",
    "\n",
    "For our gradient descent update, we usually do:\n",
    "\n",
    "$${\\bf A} = {\\bf A} - \\eta \\frac{\\partial \\mathcal{L}}{\\partial {\\bf A}}$$\n",
    "\n",
    "where $\\mathcal{L}$ is our loss function and $\\eta$ is the learning rate.\n",
    "\n",
    "The basic idea of momentum begins with defining a \"velocity\", ${\\bf v}^{(0)} = 0$ (no momentum has been built up yet).\n",
    "Then each iteration of training we do the following:\n",
    "\n",
    "* construct the gradient from the current set of training, $\\partial \\mathcal{L}/\\partial {\\bf A}$\n",
    "\n",
    "* blend this with the previous momentum using an exponential moving average:\n",
    "\n",
    "  $${\\bf v}^{(i)} = \\beta {\\bf v}^{(i-1)} + (1 - \\beta) \\frac{\\partial \\mathcal{L}}{\\partial {\\bf A}}$$\n",
    "\n",
    "  where $\\beta \\in [0, 1]$ is the smoothing parameter.  It seems like $\\beta = 0.9$ is used often.\n",
    "\n",
    "  \n",
    "  Since every gradient is always multiplied by $(1-\\beta)$,\n",
    "  and each previous gradient picks up a factor of $\\beta$\n",
    "  each iteration, this construction weights the most recent gradients most.\n",
    "   \n",
    "* update the weights:\n",
    "\n",
    "  $${\\bf A} = {\\bf A} - \\eta {\\bf v}^{(i)}$$\n",
    "\n",
    "We would do the same with the other weights, ${\\bf B}$."
   ]
  },
  {
   "cell_type": "markdown",
   "id": "2fc4a4a4-1caf-435c-bbfe-dc297eff8858",
   "metadata": {},
   "source": [
    "```{tip}\n",
    "Momentum greatly reduces the swings in the \"fraction correct\" metric from one epoch to the next.\n",
    "```"
   ]
  },
  {
   "cell_type": "markdown",
   "id": "05a61fc4-2dc3-4a9e-ba36-35abc4e6ca3b",
   "metadata": {},
   "source": [
    "## Implementing our neural network"
   ]
  },
  {
   "cell_type": "markdown",
   "id": "39d94b7d-7675-45da-9378-4be88159a810",
   "metadata": {},
   "source": [
    "We'll write our network to take a `DataManager`---it can get everything that it needs from there."
   ]
  },
  {
   "cell_type": "markdown",
   "id": "385f4e09-2869-457c-a5f0-27421a04642c",
   "metadata": {},
   "source": [
    "```{tip}\n",
    "We also have our network do the validation against the test set each epoch so we can see how well we are doing.\n",
    "```"
   ]
  },
  {
   "cell_type": "code",
   "execution_count": 9,
   "id": "27cd447c-13fd-4750-9fc9-347b40fe3439",
   "metadata": {},
   "outputs": [],
   "source": [
    "import time"
   ]
  },
  {
   "cell_type": "code",
   "execution_count": 10,
   "id": "53605e83-ccd3-406c-b7f6-597f381943f0",
   "metadata": {},
   "outputs": [],
   "source": [
    "class NeuralNetwork:\n",
    "    \"\"\"A neural network class with a single hidden layer.\"\"\"\n",
    "\n",
    "    def __init__(self, data_manager, *, hidden_layer_size=20):\n",
    "\n",
    "        self.data_manager = data_manager\n",
    "\n",
    "        # let's get the first image from the training set and\n",
    "        # use that to set the sizes\n",
    "        g = self.data_manager.get_next_training_image()\n",
    "\n",
    "        # the number of nodes/neurons on the output layer\n",
    "        self.N_out = g.out.size\n",
    "\n",
    "        # the number of nodes/neurons on the input layer\n",
    "        self.N_in = np.ravel(g.data).size\n",
    "\n",
    "        # the number of nodes/neurons on the hidden layer\n",
    "        self.N_hidden = hidden_layer_size\n",
    "\n",
    "        # we will initialize the weights with Gaussian normal random\n",
    "        # numbers centered on 0 with a width of 1/sqrt(n), where n is\n",
    "        # the length of the input state\n",
    "        rng = np.random.default_rng()\n",
    "\n",
    "        # A is the set of weights between the hidden layer and output layer\n",
    "        self.A = np.zeros((self.N_out, self.N_hidden), dtype=np.float32)\n",
    "        self.A[:, :] = rng.normal(0.0, 1.0/np.sqrt(self.N_hidden), self.A.shape)\n",
    "\n",
    "        # B is the set of weights between the input layer and hidden layer\n",
    "        self.B = np.zeros((self.N_hidden, self.N_in), dtype=np.float32)\n",
    "        self.B[:, :] = rng.normal(0.0, 1.0/np.sqrt(self.N_in), self.B.shape)\n",
    "        \n",
    "        # reset the training\n",
    "        self.data_manager.reset_training()\n",
    "\n",
    "        self.n_trained = 0\n",
    "        self.training_time = 0\n",
    "\n",
    "    def sigmoid(self, xi):\n",
    "        \"\"\"our sigmoid function that operates on the hidden layer\"\"\"\n",
    "        return 1.0/(1.0 + np.exp(-xi))\n",
    "\n",
    "    def _batch_update(self, x_batch, y_batch):\n",
    "\n",
    "        # batch size\n",
    "        S = len(x_batch)\n",
    "\n",
    "        x = np.array(x_batch).T\n",
    "        y = np.array(y_batch).T\n",
    "\n",
    "        # propagate the input through the network\n",
    "        z_tilde = self.sigmoid(self.B @ x)\n",
    "        z = self.sigmoid(self.A @ z_tilde)\n",
    "\n",
    "        # compute the errors (backpropagate to the hidden layer)\n",
    "        e = z - y\n",
    "        e_tilde = self.A.T @ (e * z * (1 - z))\n",
    "\n",
    "        # corrections\n",
    "        grad_A = (2/S) * e * z * (1 - z) @ z_tilde.T\n",
    "        grad_B = (2/S) * e_tilde * z_tilde * (1 - z_tilde) @ x.T\n",
    "\n",
    "        self.n_trained += S\n",
    "        \n",
    "        return grad_A, grad_B\n",
    "\n",
    "    def assess(self):\n",
    "        \"\"\"Run through the test data and return the fraction correct\n",
    "        with the currently trained network\"\"\"\n",
    "             \n",
    "        self.data_manager.reset_testing()\n",
    "        n_correct = 0\n",
    "        while gt := self.data_manager.get_next_test_image():\n",
    "            ans = self.predict(gt)\n",
    "            if gt.validate(ans):\n",
    "                n_correct += 1\n",
    "\n",
    "        return n_correct / self.data_manager.n_test\n",
    "\n",
    "    def train(self, *, n_epochs=1,\n",
    "              learning_rate=0.2, beta_momentum=0.9,\n",
    "              batch_size=64):\n",
    "        \"\"\"Train the neural network by doing gradient descent with back\n",
    "        propagation to set the matrix elements in B (the weights\n",
    "        between the input and hidden layer) and A (the weights between\n",
    "        the hidden layer and output layer)\n",
    "        \"\"\"\n",
    "\n",
    "        v_A = np.zeros_like(self.A)\n",
    "        v_B = np.zeros_like(self.B)\n",
    "        \n",
    "        for i in range(n_epochs):\n",
    "\n",
    "            start = time.perf_counter()\n",
    "\n",
    "            self.data_manager.reset_training()\n",
    "\n",
    "            # storage for our batches\n",
    "            x_batch = []\n",
    "            y_batch = []\n",
    "\n",
    "            while g := self.data_manager.get_next_training_image():\n",
    "\n",
    "                # make a 1-d representation of the input, called x, and call\n",
    "                # the output y\n",
    "                x_batch.append(np.ravel(g.data))\n",
    "                y_batch.append(g.out)\n",
    "\n",
    "                if len(x_batch) == batch_size:\n",
    "                    # batch is full -- do the training\n",
    "                    grad_A, grad_B = self._batch_update(x_batch, y_batch)\n",
    "\n",
    "                    v_A[...] = beta_momentum * v_A + (1.0 - beta_momentum) * grad_A\n",
    "                    v_B[...] = beta_momentum * v_B + (1.0 - beta_momentum) * grad_B\n",
    "\n",
    "                    self.A[...] += -learning_rate * v_A\n",
    "                    self.B[...] += -learning_rate * v_B\n",
    "\n",
    "                    x_batch = []\n",
    "                    y_batch = []\n",
    "\n",
    "            # we may have run out of data without filling up the\n",
    "            # last batch, so take care of that now\n",
    "            if x_batch:\n",
    "                grad_A, grad_B = self._batch_update(x_batch, y_batch)\n",
    "\n",
    "                v_A[...] = beta_momentum * v_A + (1.0 - beta_momentum) * grad_A\n",
    "                v_B[...] = beta_momentum * v_B + (1.0 - beta_momentum) * grad_B\n",
    "\n",
    "                self.A[...] += -learning_rate * v_A\n",
    "                self.B[...] += -learning_rate * v_B\n",
    "\n",
    "            epoch_time = time.perf_counter() - start\n",
    "            self.training_time += epoch_time\n",
    "\n",
    "            frac_correct = self.assess()\n",
    "\n",
    "            print(f\"epoch {i+1:3} | \" +\n",
    "                  f\"test set correct: {frac_correct:5.3f}; \" +\n",
    "                  f\"training time: {epoch_time:7.3f} s\")\n",
    "\n",
    "    def predict(self, model):\n",
    "        \"\"\" predict the outcome using our trained matrix A \"\"\"\n",
    "        x_in = np.ravel(model.data)[:, np.newaxis]\n",
    "        y = self.sigmoid(self.A @ (self.sigmoid(self.B @ x_in)))\n",
    "        return y"
   ]
  },
  {
   "cell_type": "code",
   "execution_count": 11,
   "id": "2dfb961e-3825-4179-828e-29e9e976fce3",
   "metadata": {},
   "outputs": [],
   "source": [
    "nn = NeuralNetwork(d, hidden_layer_size=500)"
   ]
  },
  {
   "cell_type": "code",
   "execution_count": 12,
   "id": "9ee05a6a-4764-4366-80b0-987e3b4cb00e",
   "metadata": {},
   "outputs": [
    {
     "name": "stdout",
     "output_type": "stream",
     "text": [
      "epoch   1 | test set correct: 0.143; training time:  41.004 s\n",
      "epoch   2 | test set correct: 0.201; training time:  41.027 s\n",
      "epoch   3 | test set correct: 0.205; training time:  40.968 s\n",
      "epoch   4 | test set correct: 0.213; training time:  40.952 s\n",
      "epoch   5 | test set correct: 0.221; training time:  41.050 s\n",
      "epoch   6 | test set correct: 0.279; training time:  41.446 s\n",
      "epoch   7 | test set correct: 0.280; training time:  39.995 s\n",
      "epoch   8 | test set correct: 0.286; training time:  40.902 s\n",
      "epoch   9 | test set correct: 0.295; training time:  41.269 s\n",
      "epoch  10 | test set correct: 0.335; training time:  41.154 s\n",
      "epoch  11 | test set correct: 0.346; training time:  51.846 s\n",
      "epoch  12 | test set correct: 0.358; training time:  51.583 s\n",
      "epoch  13 | test set correct: 0.378; training time:  51.796 s\n",
      "epoch  14 | test set correct: 0.370; training time:  51.642 s\n",
      "epoch  15 | test set correct: 0.374; training time:  53.873 s\n",
      "epoch  16 | test set correct: 0.390; training time:  53.134 s\n",
      "epoch  17 | test set correct: 0.365; training time:  53.750 s\n",
      "epoch  18 | test set correct: 0.375; training time:  51.822 s\n",
      "epoch  19 | test set correct: 0.406; training time:  54.549 s\n",
      "epoch  20 | test set correct: 0.402; training time:  52.303 s\n",
      "epoch  21 | test set correct: 0.390; training time:  56.078 s\n",
      "epoch  22 | test set correct: 0.399; training time:  51.723 s\n",
      "epoch  23 | test set correct: 0.429; training time:  53.235 s\n",
      "epoch  24 | test set correct: 0.417; training time:  55.886 s\n",
      "epoch  25 | test set correct: 0.426; training time:  52.167 s\n",
      "epoch  26 | test set correct: 0.395; training time:  53.800 s\n",
      "epoch  27 | test set correct: 0.433; training time:  52.419 s\n",
      "epoch  28 | test set correct: 0.437; training time:  50.259 s\n",
      "epoch  29 | test set correct: 0.457; training time:  52.543 s\n",
      "epoch  30 | test set correct: 0.437; training time:  53.349 s\n",
      "epoch  31 | test set correct: 0.440; training time:  51.832 s\n",
      "epoch  32 | test set correct: 0.458; training time:  53.182 s\n",
      "epoch  33 | test set correct: 0.463; training time:  53.216 s\n",
      "epoch  34 | test set correct: 0.483; training time:  55.843 s\n",
      "epoch  35 | test set correct: 0.476; training time:  51.666 s\n",
      "epoch  36 | test set correct: 0.488; training time:  52.686 s\n",
      "epoch  37 | test set correct: 0.496; training time:  54.830 s\n",
      "epoch  38 | test set correct: 0.476; training time:  53.454 s\n",
      "epoch  39 | test set correct: 0.480; training time:  52.697 s\n",
      "epoch  40 | test set correct: 0.490; training time:  57.075 s\n",
      "epoch  41 | test set correct: 0.484; training time:  52.667 s\n",
      "epoch  42 | test set correct: 0.504; training time:  55.091 s\n",
      "epoch  43 | test set correct: 0.486; training time:  53.933 s\n",
      "epoch  44 | test set correct: 0.497; training time:  55.950 s\n",
      "epoch  45 | test set correct: 0.508; training time:  52.159 s\n",
      "epoch  46 | test set correct: 0.527; training time:  52.307 s\n",
      "epoch  47 | test set correct: 0.519; training time:  51.254 s\n",
      "epoch  48 | test set correct: 0.506; training time:  53.555 s\n",
      "epoch  49 | test set correct: 0.534; training time:  53.974 s\n",
      "epoch  50 | test set correct: 0.516; training time:  51.208 s\n",
      "epoch  51 | test set correct: 0.498; training time:  54.189 s\n",
      "epoch  52 | test set correct: 0.530; training time:  50.382 s\n",
      "epoch  53 | test set correct: 0.521; training time:  40.663 s\n",
      "epoch  54 | test set correct: 0.513; training time:  41.086 s\n",
      "epoch  55 | test set correct: 0.526; training time:  40.568 s\n",
      "epoch  56 | test set correct: 0.542; training time:  40.529 s\n",
      "epoch  57 | test set correct: 0.543; training time:  40.663 s\n",
      "epoch  58 | test set correct: 0.544; training time:  40.868 s\n",
      "epoch  59 | test set correct: 0.551; training time:  40.612 s\n",
      "epoch  60 | test set correct: 0.544; training time:  40.732 s\n",
      "epoch  61 | test set correct: 0.546; training time:  40.606 s\n",
      "epoch  62 | test set correct: 0.561; training time:  40.343 s\n",
      "epoch  63 | test set correct: 0.539; training time:  40.789 s\n",
      "epoch  64 | test set correct: 0.552; training time:  41.454 s\n",
      "epoch  65 | test set correct: 0.545; training time:  40.833 s\n",
      "epoch  66 | test set correct: 0.562; training time:  40.742 s\n",
      "epoch  67 | test set correct: 0.551; training time:  40.787 s\n",
      "epoch  68 | test set correct: 0.549; training time:  40.666 s\n",
      "epoch  69 | test set correct: 0.544; training time:  40.575 s\n",
      "epoch  70 | test set correct: 0.559; training time:  40.407 s\n",
      "epoch  71 | test set correct: 0.563; training time:  40.368 s\n",
      "epoch  72 | test set correct: 0.568; training time:  40.482 s\n",
      "epoch  73 | test set correct: 0.573; training time:  40.545 s\n",
      "epoch  74 | test set correct: 0.554; training time:  40.533 s\n",
      "epoch  75 | test set correct: 0.582; training time:  40.797 s\n",
      "epoch  76 | test set correct: 0.589; training time:  41.191 s\n",
      "epoch  77 | test set correct: 0.587; training time:  41.206 s\n",
      "epoch  78 | test set correct: 0.568; training time:  41.557 s\n",
      "epoch  79 | test set correct: 0.588; training time:  40.413 s\n",
      "epoch  80 | test set correct: 0.585; training time:  40.529 s\n",
      "epoch  81 | test set correct: 0.592; training time:  40.488 s\n",
      "epoch  82 | test set correct: 0.593; training time:  40.447 s\n",
      "epoch  83 | test set correct: 0.575; training time:  40.672 s\n",
      "epoch  84 | test set correct: 0.599; training time:  40.745 s\n",
      "epoch  85 | test set correct: 0.582; training time:  40.424 s\n",
      "epoch  86 | test set correct: 0.611; training time:  40.328 s\n",
      "epoch  87 | test set correct: 0.581; training time:  40.420 s\n",
      "epoch  88 | test set correct: 0.599; training time:  40.743 s\n",
      "epoch  89 | test set correct: 0.599; training time:  40.676 s\n",
      "epoch  90 | test set correct: 0.607; training time:  40.602 s\n",
      "epoch  91 | test set correct: 0.578; training time:  40.560 s\n",
      "epoch  92 | test set correct: 0.601; training time:  40.468 s\n",
      "epoch  93 | test set correct: 0.586; training time:  40.644 s\n",
      "epoch  94 | test set correct: 0.618; training time:  40.477 s\n",
      "epoch  95 | test set correct: 0.608; training time:  40.574 s\n",
      "epoch  96 | test set correct: 0.578; training time:  40.563 s\n",
      "epoch  97 | test set correct: 0.604; training time:  40.405 s\n",
      "epoch  98 | test set correct: 0.582; training time:  40.684 s\n",
      "epoch  99 | test set correct: 0.610; training time:  40.094 s\n",
      "epoch 100 | test set correct: 0.590; training time:  40.226 s\n"
     ]
    }
   ],
   "source": [
    "nn.train(n_epochs=100)"
   ]
  },
  {
   "cell_type": "markdown",
   "id": "ee224970-531b-4c99-9a56-78356a106b6d",
   "metadata": {},
   "source": [
    "```{note}\n",
    "We are able to get about 60% correct here, when using the coarsened data.  It does appear that more training\n",
    "would help---there are a lot of weights and (relatively) few training images.\n",
    "\n",
    "Ultimately, a major issue is that the\n",
    "backpropagated errors get really small when using the sigmoid (this is called the [vanishing gradient problem](https://en.wikipedia.org/wiki/Vanishing_gradient_problem)).\n",
    "Our network is just too simple for this problem.\n",
    "```"
   ]
  }
 ],
 "metadata": {
  "kernelspec": {
   "display_name": "Python 3 (ipykernel)",
   "language": "python",
   "name": "python3"
  },
  "language_info": {
   "codemirror_mode": {
    "name": "ipython",
    "version": 3
   },
   "file_extension": ".py",
   "mimetype": "text/x-python",
   "name": "python",
   "nbconvert_exporter": "python",
   "pygments_lexer": "ipython3",
   "version": "3.13.2"
  }
 },
 "nbformat": 4,
 "nbformat_minor": 5
}
