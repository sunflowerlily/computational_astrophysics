{
 "cells": [
  {
   "cell_type": "markdown",
   "id": "a9958ed4-cc30-4e40-8e51-2db365edbc11",
   "metadata": {},
   "source": [
    "# Keras and the Last Number Problem"
   ]
  },
  {
   "cell_type": "markdown",
   "id": "d96e11b2-29ef-4e7c-a8d1-16937c2954d5",
   "metadata": {},
   "source": [
    "Let's see if we can do better than our simple hidden layer NN with the last number problem."
   ]
  },
  {
   "cell_type": "code",
   "execution_count": 1,
   "id": "0beb822d-dcbe-494a-81c2-579ecc6b840d",
   "metadata": {
    "tags": []
   },
   "outputs": [],
   "source": [
    "import numpy as np\n",
    "import keras\n",
    "from keras.utils import to_categorical"
   ]
  },
  {
   "cell_type": "markdown",
   "id": "6df024e2-b227-4c3f-b8e9-f00ffa647b51",
   "metadata": {},
   "source": [
    "We'll use the same data class"
   ]
  },
  {
   "cell_type": "code",
   "execution_count": 2,
   "id": "ae8a672e-e66f-4d28-bf57-be65e53b5681",
   "metadata": {
    "tags": []
   },
   "outputs": [],
   "source": [
    "class ModelDataCategorical:\n",
    "    \"\"\"this is the model data for our \"last number\" training set.  We\n",
    "    produce input of length N, consisting of numbers 0-9 and store\n",
    "    the result in a 10-element array as categorical data.\n",
    "\n",
    "    \"\"\"\n",
    "    def __init__(self, N=10):\n",
    "        self.N = N\n",
    "        \n",
    "        # our model input data\n",
    "        self.x = np.random.randint(0, high=10, size=N)\n",
    "        self.x_scaled = self.x / 10 + 0.05\n",
    "        \n",
    "        # our scaled model output data\n",
    "        self.y = np.array([self.x[-1]])\n",
    "        self.y_scaled = np.zeros(10) + 0.01\n",
    "        self.y_scaled[self.x[-1]] = 0.99\n",
    "        \n",
    "    def interpret_result(self, out):\n",
    "        \"\"\"take the network output and return the number we predict\"\"\"\n",
    "        return np.argmax(out)"
   ]
  },
  {
   "cell_type": "markdown",
   "id": "8a064ed3-c261-4c32-828c-915ac4a7ab77",
   "metadata": {},
   "source": [
    "For Keras, we need to pack the scaled data (both input and output) into arrays.  We'll use\n",
    "the Keras `np_utils.to_categorical()` to make the data categorical.\n",
    "\n",
    "Let's make both a training set and a test set"
   ]
  },
  {
   "cell_type": "code",
   "execution_count": 3,
   "id": "aefd922f-ed63-41bd-89e1-1bd5c8669f6b",
   "metadata": {
    "tags": []
   },
   "outputs": [],
   "source": [
    "x_train = []\n",
    "y_train = []\n",
    "for _ in range(10000):\n",
    "    m = ModelDataCategorical()\n",
    "    x_train.append(m.x_scaled)\n",
    "    y_train.append(m.y)\n",
    "\n",
    "x_train = np.asarray(x_train)\n",
    "y_train = to_categorical(y_train, 10)"
   ]
  },
  {
   "cell_type": "code",
   "execution_count": 4,
   "id": "482c6cba-206c-4a60-9872-1dc49d51e46c",
   "metadata": {
    "tags": []
   },
   "outputs": [],
   "source": [
    "x_test = []\n",
    "y_test = []\n",
    "for _ in range(1000):\n",
    "    m = ModelDataCategorical()\n",
    "    x_test.append(m.x_scaled)\n",
    "    y_test.append(m.y)\n",
    "\n",
    "x_test = np.asarray(x_test)\n",
    "y_test = to_categorical(y_test, 10)"
   ]
  },
  {
   "cell_type": "markdown",
   "id": "d10ad009-e74d-4b64-b107-6220d2ea5c20",
   "metadata": {
    "tags": []
   },
   "source": [
    "Check to make sure the data looks like we expect:"
   ]
  },
  {
   "cell_type": "code",
   "execution_count": 5,
   "id": "f7275c7d-fd21-4d66-9d2e-9f68ae8acb01",
   "metadata": {
    "tags": []
   },
   "outputs": [
    {
     "data": {
      "text/plain": [
       "array([0.65, 0.55, 0.55, 0.45, 0.25, 0.95, 0.05, 0.55, 0.15, 0.95])"
      ]
     },
     "execution_count": 5,
     "metadata": {},
     "output_type": "execute_result"
    }
   ],
   "source": [
    "x_train[0]"
   ]
  },
  {
   "cell_type": "code",
   "execution_count": 6,
   "id": "c522238f-bf07-46d6-a443-0b44de7e0205",
   "metadata": {
    "tags": []
   },
   "outputs": [
    {
     "data": {
      "text/plain": [
       "array([0., 0., 0., 0., 0., 0., 0., 0., 0., 1.])"
      ]
     },
     "execution_count": 6,
     "metadata": {},
     "output_type": "execute_result"
    }
   ],
   "source": [
    "y_train[0]"
   ]
  },
  {
   "cell_type": "markdown",
   "id": "8fcda8ac-1c6a-4dd4-a70f-1cb15da674ed",
   "metadata": {},
   "source": [
    "Now let's build our network.  We'll use just a single hidden layer,\n",
    "but instead of the sigmoid used before, we'll use RELU and the softmax activations."
   ]
  },
  {
   "cell_type": "code",
   "execution_count": 9,
   "id": "b470d81d-45a5-4cbf-88d5-127c65863609",
   "metadata": {
    "tags": []
   },
   "outputs": [],
   "source": [
    "from keras.models import Sequential\n",
    "from keras.layers import Input, Dense, Dropout, Activation\n",
    "from keras.optimizers import RMSprop"
   ]
  },
  {
   "cell_type": "code",
   "execution_count": 10,
   "id": "a8e9000e-1fb2-4093-aad7-a1e08a4ae34f",
   "metadata": {
    "tags": []
   },
   "outputs": [],
   "source": [
    "model = Sequential()\n",
    "model.add(Input((10,)))\n",
    "model.add(Dense(100, activation=\"relu\"))\n",
    "model.add(Dropout(0.1))\n",
    "model.add(Dense(10, activation=\"softmax\"))"
   ]
  },
  {
   "cell_type": "code",
   "execution_count": 11,
   "id": "f05f856d-1770-4853-bc98-6e3f3b5c209d",
   "metadata": {
    "tags": []
   },
   "outputs": [],
   "source": [
    "rms = RMSprop()\n",
    "model.compile(loss='categorical_crossentropy',\n",
    "              optimizer=rms, metrics=['accuracy'])"
   ]
  },
  {
   "cell_type": "markdown",
   "id": "5112c759-538d-4ecf-8760-57cf54d082e1",
   "metadata": {
    "tags": []
   },
   "source": [
    "Now we can train and test each epoch to see how we do"
   ]
  },
  {
   "cell_type": "code",
   "execution_count": 12,
   "id": "260e8b58-513f-40d3-8b57-9f9760d520e6",
   "metadata": {
    "tags": []
   },
   "outputs": [
    {
     "name": "stdout",
     "output_type": "stream",
     "text": [
      "Epoch 1/100\n",
      "40/40 - 0s - 3ms/step - accuracy: 0.1495 - loss: 2.2613 - val_accuracy: 0.2090 - val_loss: 2.1986\n",
      "Epoch 2/100\n",
      "40/40 - 0s - 4ms/step - accuracy: 0.2058 - loss: 2.1617 - val_accuracy: 0.2590 - val_loss: 2.0943\n",
      "Epoch 3/100\n",
      "40/40 - 0s - 4ms/step - accuracy: 0.2544 - loss: 2.0591 - val_accuracy: 0.3100 - val_loss: 1.9917\n",
      "Epoch 4/100\n",
      "40/40 - 0s - 3ms/step - accuracy: 0.2919 - loss: 1.9560 - val_accuracy: 0.3210 - val_loss: 1.8866\n",
      "Epoch 5/100\n",
      "40/40 - 0s - 4ms/step - accuracy: 0.3197 - loss: 1.8577 - val_accuracy: 0.3720 - val_loss: 1.7878\n",
      "Epoch 6/100\n",
      "40/40 - 0s - 3ms/step - accuracy: 0.3465 - loss: 1.7700 - val_accuracy: 0.3560 - val_loss: 1.7039\n",
      "Epoch 7/100\n",
      "40/40 - 0s - 3ms/step - accuracy: 0.3625 - loss: 1.6950 - val_accuracy: 0.4190 - val_loss: 1.6320\n",
      "Epoch 8/100\n",
      "40/40 - 0s - 3ms/step - accuracy: 0.4042 - loss: 1.6220 - val_accuracy: 0.4200 - val_loss: 1.5649\n",
      "Epoch 9/100\n",
      "40/40 - 0s - 3ms/step - accuracy: 0.4266 - loss: 1.5589 - val_accuracy: 0.4840 - val_loss: 1.5043\n",
      "Epoch 10/100\n",
      "40/40 - 0s - 4ms/step - accuracy: 0.4538 - loss: 1.4985 - val_accuracy: 0.5250 - val_loss: 1.4482\n",
      "Epoch 11/100\n",
      "40/40 - 0s - 3ms/step - accuracy: 0.4785 - loss: 1.4425 - val_accuracy: 0.5470 - val_loss: 1.3944\n",
      "Epoch 12/100\n",
      "40/40 - 0s - 3ms/step - accuracy: 0.5074 - loss: 1.3931 - val_accuracy: 0.4450 - val_loss: 1.3487\n",
      "Epoch 13/100\n",
      "40/40 - 0s - 3ms/step - accuracy: 0.5225 - loss: 1.3464 - val_accuracy: 0.5860 - val_loss: 1.2986\n",
      "Epoch 14/100\n",
      "40/40 - 0s - 3ms/step - accuracy: 0.5464 - loss: 1.3043 - val_accuracy: 0.6220 - val_loss: 1.2578\n",
      "Epoch 15/100\n",
      "40/40 - 0s - 3ms/step - accuracy: 0.5758 - loss: 1.2596 - val_accuracy: 0.7000 - val_loss: 1.2150\n",
      "Epoch 16/100\n",
      "40/40 - 0s - 3ms/step - accuracy: 0.5889 - loss: 1.2220 - val_accuracy: 0.6330 - val_loss: 1.1902\n",
      "Epoch 17/100\n",
      "40/40 - 0s - 3ms/step - accuracy: 0.6008 - loss: 1.1881 - val_accuracy: 0.6780 - val_loss: 1.1453\n",
      "Epoch 18/100\n",
      "40/40 - 0s - 3ms/step - accuracy: 0.6322 - loss: 1.1535 - val_accuracy: 0.7590 - val_loss: 1.1095\n",
      "Epoch 19/100\n",
      "40/40 - 0s - 3ms/step - accuracy: 0.6519 - loss: 1.1179 - val_accuracy: 0.7440 - val_loss: 1.0772\n",
      "Epoch 20/100\n",
      "40/40 - 0s - 4ms/step - accuracy: 0.6655 - loss: 1.0903 - val_accuracy: 0.7510 - val_loss: 1.0426\n",
      "Epoch 21/100\n",
      "40/40 - 0s - 3ms/step - accuracy: 0.6803 - loss: 1.0590 - val_accuracy: 0.7620 - val_loss: 1.0164\n",
      "Epoch 22/100\n",
      "40/40 - 0s - 3ms/step - accuracy: 0.6974 - loss: 1.0321 - val_accuracy: 0.7260 - val_loss: 0.9894\n",
      "Epoch 23/100\n",
      "40/40 - 0s - 3ms/step - accuracy: 0.7169 - loss: 1.0031 - val_accuracy: 0.7940 - val_loss: 0.9601\n",
      "Epoch 24/100\n",
      "40/40 - 0s - 3ms/step - accuracy: 0.7305 - loss: 0.9777 - val_accuracy: 0.7620 - val_loss: 0.9413\n",
      "Epoch 25/100\n",
      "40/40 - 0s - 3ms/step - accuracy: 0.7402 - loss: 0.9534 - val_accuracy: 0.7900 - val_loss: 0.9138\n",
      "Epoch 26/100\n",
      "40/40 - 0s - 3ms/step - accuracy: 0.7556 - loss: 0.9311 - val_accuracy: 0.8060 - val_loss: 0.8908\n",
      "Epoch 27/100\n",
      "40/40 - 0s - 3ms/step - accuracy: 0.7698 - loss: 0.9078 - val_accuracy: 0.8510 - val_loss: 0.8635\n",
      "Epoch 28/100\n",
      "40/40 - 0s - 4ms/step - accuracy: 0.7852 - loss: 0.8838 - val_accuracy: 0.8200 - val_loss: 0.8459\n",
      "Epoch 29/100\n",
      "40/40 - 0s - 4ms/step - accuracy: 0.7958 - loss: 0.8631 - val_accuracy: 0.8770 - val_loss: 0.8222\n",
      "Epoch 30/100\n",
      "40/40 - 0s - 3ms/step - accuracy: 0.8084 - loss: 0.8403 - val_accuracy: 0.8770 - val_loss: 0.8023\n",
      "Epoch 31/100\n",
      "40/40 - 0s - 3ms/step - accuracy: 0.8175 - loss: 0.8209 - val_accuracy: 0.8580 - val_loss: 0.7795\n",
      "Epoch 32/100\n",
      "40/40 - 0s - 3ms/step - accuracy: 0.8234 - loss: 0.8017 - val_accuracy: 0.9090 - val_loss: 0.7557\n",
      "Epoch 33/100\n",
      "40/40 - 0s - 3ms/step - accuracy: 0.8375 - loss: 0.7814 - val_accuracy: 0.9150 - val_loss: 0.7397\n",
      "Epoch 34/100\n",
      "40/40 - 0s - 3ms/step - accuracy: 0.8475 - loss: 0.7606 - val_accuracy: 0.9250 - val_loss: 0.7189\n",
      "Epoch 35/100\n",
      "40/40 - 0s - 3ms/step - accuracy: 0.8580 - loss: 0.7386 - val_accuracy: 0.9200 - val_loss: 0.7020\n",
      "Epoch 36/100\n",
      "40/40 - 0s - 4ms/step - accuracy: 0.8671 - loss: 0.7208 - val_accuracy: 0.9200 - val_loss: 0.6839\n",
      "Epoch 37/100\n",
      "40/40 - 0s - 3ms/step - accuracy: 0.8742 - loss: 0.7028 - val_accuracy: 0.9410 - val_loss: 0.6638\n",
      "Epoch 38/100\n",
      "40/40 - 0s - 3ms/step - accuracy: 0.8808 - loss: 0.6856 - val_accuracy: 0.9390 - val_loss: 0.6487\n",
      "Epoch 39/100\n",
      "40/40 - 0s - 3ms/step - accuracy: 0.8893 - loss: 0.6694 - val_accuracy: 0.9320 - val_loss: 0.6254\n",
      "Epoch 40/100\n",
      "40/40 - 0s - 3ms/step - accuracy: 0.8937 - loss: 0.6516 - val_accuracy: 0.9420 - val_loss: 0.6131\n",
      "Epoch 41/100\n",
      "40/40 - 0s - 3ms/step - accuracy: 0.9029 - loss: 0.6352 - val_accuracy: 0.9530 - val_loss: 0.5985\n",
      "Epoch 42/100\n",
      "40/40 - 0s - 3ms/step - accuracy: 0.9113 - loss: 0.6178 - val_accuracy: 0.9660 - val_loss: 0.5761\n",
      "Epoch 43/100\n",
      "40/40 - 0s - 3ms/step - accuracy: 0.9201 - loss: 0.6008 - val_accuracy: 0.8650 - val_loss: 0.5806\n",
      "Epoch 44/100\n",
      "40/40 - 0s - 3ms/step - accuracy: 0.9204 - loss: 0.5861 - val_accuracy: 0.9850 - val_loss: 0.5462\n",
      "Epoch 45/100\n",
      "40/40 - 0s - 3ms/step - accuracy: 0.9310 - loss: 0.5720 - val_accuracy: 0.9730 - val_loss: 0.5310\n",
      "Epoch 46/100\n",
      "40/40 - 0s - 3ms/step - accuracy: 0.9371 - loss: 0.5561 - val_accuracy: 0.9610 - val_loss: 0.5271\n",
      "Epoch 47/100\n",
      "40/40 - 0s - 3ms/step - accuracy: 0.9370 - loss: 0.5446 - val_accuracy: 0.9840 - val_loss: 0.5069\n",
      "Epoch 48/100\n",
      "40/40 - 0s - 4ms/step - accuracy: 0.9436 - loss: 0.5297 - val_accuracy: 0.9810 - val_loss: 0.4875\n",
      "Epoch 49/100\n",
      "40/40 - 0s - 3ms/step - accuracy: 0.9468 - loss: 0.5155 - val_accuracy: 0.9940 - val_loss: 0.4738\n",
      "Epoch 50/100\n",
      "40/40 - 0s - 3ms/step - accuracy: 0.9566 - loss: 0.4999 - val_accuracy: 0.9850 - val_loss: 0.4671\n",
      "Epoch 51/100\n",
      "40/40 - 0s - 4ms/step - accuracy: 0.9585 - loss: 0.4871 - val_accuracy: 0.9890 - val_loss: 0.4511\n",
      "Epoch 52/100\n",
      "40/40 - 0s - 3ms/step - accuracy: 0.9584 - loss: 0.4758 - val_accuracy: 0.9840 - val_loss: 0.4482\n",
      "Epoch 53/100\n",
      "40/40 - 0s - 3ms/step - accuracy: 0.9663 - loss: 0.4627 - val_accuracy: 0.9970 - val_loss: 0.4272\n",
      "Epoch 54/100\n",
      "40/40 - 0s - 4ms/step - accuracy: 0.9690 - loss: 0.4506 - val_accuracy: 0.9850 - val_loss: 0.4212\n",
      "Epoch 55/100\n",
      "40/40 - 0s - 4ms/step - accuracy: 0.9731 - loss: 0.4376 - val_accuracy: 0.9970 - val_loss: 0.4066\n",
      "Epoch 56/100\n",
      "40/40 - 0s - 4ms/step - accuracy: 0.9739 - loss: 0.4281 - val_accuracy: 0.9950 - val_loss: 0.3866\n",
      "Epoch 57/100\n",
      "40/40 - 0s - 3ms/step - accuracy: 0.9771 - loss: 0.4157 - val_accuracy: 1.0000 - val_loss: 0.3760\n",
      "Epoch 58/100\n",
      "40/40 - 0s - 3ms/step - accuracy: 0.9793 - loss: 0.4029 - val_accuracy: 0.9990 - val_loss: 0.3719\n",
      "Epoch 59/100\n",
      "40/40 - 0s - 3ms/step - accuracy: 0.9785 - loss: 0.3924 - val_accuracy: 1.0000 - val_loss: 0.3522\n",
      "Epoch 60/100\n",
      "40/40 - 0s - 3ms/step - accuracy: 0.9844 - loss: 0.3785 - val_accuracy: 1.0000 - val_loss: 0.3441\n",
      "Epoch 61/100\n",
      "40/40 - 0s - 3ms/step - accuracy: 0.9835 - loss: 0.3697 - val_accuracy: 1.0000 - val_loss: 0.3316\n",
      "Epoch 62/100\n",
      "40/40 - 0s - 4ms/step - accuracy: 0.9859 - loss: 0.3586 - val_accuracy: 0.9980 - val_loss: 0.3273\n",
      "Epoch 63/100\n",
      "40/40 - 0s - 4ms/step - accuracy: 0.9858 - loss: 0.3481 - val_accuracy: 0.9990 - val_loss: 0.3192\n",
      "Epoch 64/100\n",
      "40/40 - 0s - 3ms/step - accuracy: 0.9879 - loss: 0.3369 - val_accuracy: 1.0000 - val_loss: 0.3038\n",
      "Epoch 65/100\n",
      "40/40 - 0s - 3ms/step - accuracy: 0.9897 - loss: 0.3281 - val_accuracy: 1.0000 - val_loss: 0.2897\n",
      "Epoch 66/100\n",
      "40/40 - 0s - 3ms/step - accuracy: 0.9892 - loss: 0.3175 - val_accuracy: 1.0000 - val_loss: 0.2818\n",
      "Epoch 67/100\n",
      "40/40 - 0s - 4ms/step - accuracy: 0.9904 - loss: 0.3098 - val_accuracy: 1.0000 - val_loss: 0.2699\n",
      "Epoch 68/100\n",
      "40/40 - 0s - 3ms/step - accuracy: 0.9924 - loss: 0.3012 - val_accuracy: 1.0000 - val_loss: 0.2622\n",
      "Epoch 69/100\n",
      "40/40 - 0s - 4ms/step - accuracy: 0.9944 - loss: 0.2899 - val_accuracy: 1.0000 - val_loss: 0.2635\n",
      "Epoch 70/100\n",
      "40/40 - 0s - 3ms/step - accuracy: 0.9929 - loss: 0.2826 - val_accuracy: 1.0000 - val_loss: 0.2522\n",
      "Epoch 71/100\n",
      "40/40 - 0s - 3ms/step - accuracy: 0.9922 - loss: 0.2746 - val_accuracy: 1.0000 - val_loss: 0.2494\n",
      "Epoch 72/100\n",
      "40/40 - 0s - 3ms/step - accuracy: 0.9941 - loss: 0.2670 - val_accuracy: 1.0000 - val_loss: 0.2282\n",
      "Epoch 73/100\n",
      "40/40 - 0s - 3ms/step - accuracy: 0.9946 - loss: 0.2570 - val_accuracy: 1.0000 - val_loss: 0.2254\n",
      "Epoch 74/100\n",
      "40/40 - 0s - 3ms/step - accuracy: 0.9943 - loss: 0.2497 - val_accuracy: 1.0000 - val_loss: 0.2161\n",
      "Epoch 75/100\n",
      "40/40 - 0s - 3ms/step - accuracy: 0.9955 - loss: 0.2425 - val_accuracy: 1.0000 - val_loss: 0.2146\n",
      "Epoch 76/100\n",
      "40/40 - 0s - 3ms/step - accuracy: 0.9953 - loss: 0.2347 - val_accuracy: 1.0000 - val_loss: 0.2013\n",
      "Epoch 77/100\n",
      "40/40 - 0s - 3ms/step - accuracy: 0.9962 - loss: 0.2258 - val_accuracy: 1.0000 - val_loss: 0.1939\n",
      "Epoch 78/100\n",
      "40/40 - 0s - 3ms/step - accuracy: 0.9972 - loss: 0.2185 - val_accuracy: 1.0000 - val_loss: 0.1899\n",
      "Epoch 79/100\n",
      "40/40 - 0s - 3ms/step - accuracy: 0.9963 - loss: 0.2125 - val_accuracy: 1.0000 - val_loss: 0.1792\n",
      "Epoch 80/100\n",
      "40/40 - 0s - 3ms/step - accuracy: 0.9966 - loss: 0.2057 - val_accuracy: 1.0000 - val_loss: 0.1776\n",
      "Epoch 81/100\n",
      "40/40 - 0s - 3ms/step - accuracy: 0.9965 - loss: 0.1990 - val_accuracy: 1.0000 - val_loss: 0.1724\n",
      "Epoch 82/100\n",
      "40/40 - 0s - 4ms/step - accuracy: 0.9973 - loss: 0.1920 - val_accuracy: 1.0000 - val_loss: 0.1599\n",
      "Epoch 83/100\n",
      "40/40 - 0s - 3ms/step - accuracy: 0.9987 - loss: 0.1846 - val_accuracy: 1.0000 - val_loss: 0.1511\n",
      "Epoch 84/100\n",
      "40/40 - 0s - 4ms/step - accuracy: 0.9978 - loss: 0.1785 - val_accuracy: 1.0000 - val_loss: 0.1525\n",
      "Epoch 85/100\n",
      "40/40 - 0s - 4ms/step - accuracy: 0.9977 - loss: 0.1718 - val_accuracy: 1.0000 - val_loss: 0.1436\n",
      "Epoch 86/100\n",
      "40/40 - 0s - 4ms/step - accuracy: 0.9987 - loss: 0.1672 - val_accuracy: 1.0000 - val_loss: 0.1389\n",
      "Epoch 87/100\n",
      "40/40 - 0s - 4ms/step - accuracy: 0.9982 - loss: 0.1603 - val_accuracy: 1.0000 - val_loss: 0.1292\n",
      "Epoch 88/100\n",
      "40/40 - 0s - 4ms/step - accuracy: 0.9983 - loss: 0.1549 - val_accuracy: 1.0000 - val_loss: 0.1282\n",
      "Epoch 89/100\n",
      "40/40 - 0s - 3ms/step - accuracy: 0.9990 - loss: 0.1503 - val_accuracy: 1.0000 - val_loss: 0.1214\n",
      "Epoch 90/100\n",
      "40/40 - 0s - 3ms/step - accuracy: 0.9984 - loss: 0.1451 - val_accuracy: 1.0000 - val_loss: 0.1135\n",
      "Epoch 91/100\n",
      "40/40 - 0s - 3ms/step - accuracy: 0.9987 - loss: 0.1392 - val_accuracy: 1.0000 - val_loss: 0.1129\n",
      "Epoch 92/100\n",
      "40/40 - 0s - 3ms/step - accuracy: 0.9986 - loss: 0.1345 - val_accuracy: 1.0000 - val_loss: 0.1091\n",
      "Epoch 93/100\n",
      "40/40 - 0s - 3ms/step - accuracy: 0.9995 - loss: 0.1289 - val_accuracy: 1.0000 - val_loss: 0.1071\n",
      "Epoch 94/100\n",
      "40/40 - 0s - 3ms/step - accuracy: 0.9993 - loss: 0.1244 - val_accuracy: 1.0000 - val_loss: 0.1027\n",
      "Epoch 95/100\n",
      "40/40 - 0s - 3ms/step - accuracy: 0.9984 - loss: 0.1205 - val_accuracy: 1.0000 - val_loss: 0.0963\n",
      "Epoch 96/100\n",
      "40/40 - 0s - 3ms/step - accuracy: 0.9985 - loss: 0.1171 - val_accuracy: 1.0000 - val_loss: 0.0990\n",
      "Epoch 97/100\n",
      "40/40 - 0s - 3ms/step - accuracy: 0.9990 - loss: 0.1125 - val_accuracy: 1.0000 - val_loss: 0.0879\n",
      "Epoch 98/100\n",
      "40/40 - 0s - 4ms/step - accuracy: 0.9995 - loss: 0.1074 - val_accuracy: 1.0000 - val_loss: 0.0834\n",
      "Epoch 99/100\n",
      "40/40 - 0s - 4ms/step - accuracy: 0.9992 - loss: 0.1035 - val_accuracy: 1.0000 - val_loss: 0.0796\n",
      "Epoch 100/100\n",
      "40/40 - 0s - 4ms/step - accuracy: 0.9997 - loss: 0.0997 - val_accuracy: 1.0000 - val_loss: 0.0754\n"
     ]
    },
    {
     "data": {
      "text/plain": [
       "<keras.src.callbacks.history.History at 0x7fa959aba900>"
      ]
     },
     "execution_count": 12,
     "metadata": {},
     "output_type": "execute_result"
    }
   ],
   "source": [
    "epochs = 100\n",
    "batch_size = 256\n",
    "model.fit(x_train, y_train, epochs=epochs, batch_size=batch_size,\n",
    "          validation_data=(x_test, y_test), verbose=2)"
   ]
  },
  {
   "cell_type": "markdown",
   "id": "8df151de-99a0-4781-a79c-34871dfe104e",
   "metadata": {},
   "source": [
    "As we see, the network is essentially perfect now."
   ]
  }
 ],
 "metadata": {
  "kernelspec": {
   "display_name": "Python 3 (ipykernel)",
   "language": "python",
   "name": "python3"
  },
  "language_info": {
   "codemirror_mode": {
    "name": "ipython",
    "version": 3
   },
   "file_extension": ".py",
   "mimetype": "text/x-python",
   "name": "python",
   "nbconvert_exporter": "python",
   "pygments_lexer": "ipython3",
   "version": "3.13.2"
  }
 },
 "nbformat": 4,
 "nbformat_minor": 5
}
