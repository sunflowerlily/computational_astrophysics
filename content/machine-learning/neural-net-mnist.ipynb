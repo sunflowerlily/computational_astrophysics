{
 "cells": [
  {
   "cell_type": "markdown",
   "id": "5c67d5ca-23d3-4191-8b80-32ea22ab9473",
   "metadata": {
    "tags": []
   },
   "source": [
    "# Example: Character Recognition"
   ]
  },
  {
   "cell_type": "markdown",
   "id": "161d8469-b59a-4993-b549-b8ed75f8b4ae",
   "metadata": {},
   "source": [
    "We'll apply the ideas we just learned to a neural network that does character recognition using the [MNIST database](https://en.wikipedia.org/wiki/MNIST_database).  "
   ]
  },
  {
   "cell_type": "markdown",
   "id": "73b0743f-dca9-454e-a263-292740afa38e",
   "metadata": {},
   "source": [
    "## Reading the data\n",
    "\n",
    "MNIST is a set of handwritten digits (0&ndash;9) represented as a 28&times;28 pixel grayscale image.\n",
    "\n",
    "There are 2 datasets, the training set with 60,000 images and the test set with 10,000 images.  We will use a version of the data that is provided as CSV files:\n",
    "\n",
    "* [mnist_train.csv.zip](mnist_train.csv.zip)\n",
    "* [mnist_test.csv.zip](mnist_test.csv.zip)\n",
    "\n",
    "Each line of these files provides the answer (i.e., what the digit is) as the first column and then the next 784 columns are the pixel values."
   ]
  },
  {
   "cell_type": "markdown",
   "id": "52ad4241-f3e9-4db7-bac8-0fd1dd1e8556",
   "metadata": {},
   "source": [
    "We'll write a class to managed this data:"
   ]
  },
  {
   "cell_type": "code",
   "execution_count": 1,
   "id": "602ba5fc-1e82-4a16-a492-783c9f3349d6",
   "metadata": {
    "tags": []
   },
   "outputs": [],
   "source": [
    "import random\n",
    "import numpy as np\n",
    "import matplotlib.pyplot as plt"
   ]
  },
  {
   "cell_type": "markdown",
   "id": "80997231-daa6-490b-81cf-701114f2124e",
   "metadata": {},
   "source": [
    "A `TrainingDigit` provides a scaled floating point representation of the image as a 1D array (`.scaled`) as well as the correct answer (`.num`)\n",
    "and categorical data that is used to represent the answer from the neural network&mdash;a 10 element array of 1s and 0s.  It also provides a method to plot the data."
   ]
  },
  {
   "cell_type": "code",
   "execution_count": 2,
   "id": "058297be-b282-42ff-af6d-7f5522014cd8",
   "metadata": {
    "tags": []
   },
   "outputs": [],
   "source": [
    "class TrainingDigit:\n",
    "    \"\"\"a handwritten digit from the MNIST training set\"\"\"\n",
    "\n",
    "    def __init__(self, raw_string):\n",
    "        \"\"\"we feed this a single line from the MNIST data set\"\"\"\n",
    "        self.raw_string = raw_string\n",
    "\n",
    "        # make the data range from 0.01 to 1.00\n",
    "        _tmp = raw_string.split(\",\")\n",
    "        self.scaled = np.asarray(_tmp[1:], dtype=np.float32)/255.0 * 0.99 + 0.01\n",
    "\n",
    "        # the correct answer\n",
    "        self.num = int(_tmp[0])\n",
    "\n",
    "        # the output for the NN as a bit array -- make this lie in [0.01, 0.99]\n",
    "        self.out = np.zeros(10) + 0.01\n",
    "        self.out[self.num] = 0.99\n",
    "\n",
    "    def plot(self, ax=None, output=None):\n",
    "        \"\"\"plot the digit\"\"\"\n",
    "        if ax is None:\n",
    "            fig, ax = plt.subplots()\n",
    "        ax.imshow(self.scaled.reshape((28, 28)),\n",
    "                  cmap=\"Greys\", interpolation=\"nearest\")\n",
    "        if output is not None:\n",
    "            dstr = [f\"{n}: {v:6.4f}\" for n, v in enumerate(output)]\n",
    "            ostr = f\"correct digit: {self.num}\\n\"\n",
    "            ostr += \"  \".join(dstr[0:5]) + \"\\n\" + \"  \".join(dstr[5:])\n",
    "            plt.title(f\"{ostr}\", fontsize=\"x-small\")"
   ]
  },
  {
   "cell_type": "markdown",
   "id": "dd08a5fe-7628-4be4-b4c0-29fd17af436e",
   "metadata": {},
   "source": [
    "An `UnknownDigit` is like a `TrainingDigit` but it also provides a method to check if our prediction from the network is correct."
   ]
  },
  {
   "cell_type": "code",
   "execution_count": 3,
   "id": "ab821e68-4bf9-491f-a053-8f12a29c0309",
   "metadata": {
    "tags": []
   },
   "outputs": [],
   "source": [
    "class UnknownDigit(TrainingDigit):\n",
    "    \"\"\"A digit from the MNIST test database.  This provides a method to\n",
    "    compare a NN result to the correct answer\n",
    "\n",
    "    \"\"\"\n",
    "    def __init__(self, raw_string):\n",
    "        super().__init__(raw_string)\n",
    "        self.out = None\n",
    "\n",
    "    def interpret_output(self, out):\n",
    "        \"\"\"return the prediction from the net as an integer\"\"\"\n",
    "        return np.argmax(out)\n",
    "    \n",
    "    def check_output(self, out):\n",
    "        \"\"\"given the output array from the NN, return True if it is\n",
    "        correct for this digit\"\"\"\n",
    "        return self.interpret_output(out) == self.num"
   ]
  },
  {
   "cell_type": "markdown",
   "id": "1180eb3b-03e9-4764-8121-19cfb290c56a",
   "metadata": {},
   "source": [
    "Now we'll read in the data and store the training and test sets in separate lists.  We store the files as zipped files, so we need to unzip first."
   ]
  },
  {
   "cell_type": "code",
   "execution_count": 4,
   "id": "f5ca2a15-5603-40d1-ab29-b8d4e9e9bd81",
   "metadata": {
    "tags": []
   },
   "outputs": [],
   "source": [
    "import zipfile"
   ]
  },
  {
   "cell_type": "code",
   "execution_count": 5,
   "id": "0f6d7158-b175-476f-9339-9661ec246e19",
   "metadata": {
    "tags": []
   },
   "outputs": [],
   "source": [
    "training_set = []\n",
    "with zipfile.ZipFile(\"mnist_train.csv.zip\") as zf:\n",
    "    with zf.open(\"mnist_train.csv\") as f:\n",
    "        for line in f:\n",
    "            training_set.append(TrainingDigit(line.decode(\"utf8\").strip(\"\\n\")))"
   ]
  },
  {
   "cell_type": "code",
   "execution_count": 6,
   "id": "dce81c1b-16a6-4296-ad1a-5f5f24f5a33d",
   "metadata": {
    "tags": []
   },
   "outputs": [
    {
     "data": {
      "text/plain": [
       "60000"
      ]
     },
     "execution_count": 6,
     "metadata": {},
     "output_type": "execute_result"
    }
   ],
   "source": [
    "len(training_set)"
   ]
  },
  {
   "cell_type": "code",
   "execution_count": 7,
   "id": "227a8fa3-d416-456b-baa3-3fcb88c0d963",
   "metadata": {
    "tags": []
   },
   "outputs": [],
   "source": [
    "test_set = []\n",
    "with zipfile.ZipFile(\"mnist_test.csv.zip\") as zf:\n",
    "    with zf.open(\"mnist_test.csv\") as f:\n",
    "        for line in f:\n",
    "            test_set.append(UnknownDigit(line.decode(\"utf8\").strip(\"\\n\")))"
   ]
  },
  {
   "cell_type": "code",
   "execution_count": 8,
   "id": "b4776971-aa23-4a3f-a987-dadd67c1c171",
   "metadata": {
    "tags": []
   },
   "outputs": [
    {
     "data": {
      "text/plain": [
       "10000"
      ]
     },
     "execution_count": 8,
     "metadata": {},
     "output_type": "execute_result"
    }
   ],
   "source": [
    "len(test_set)"
   ]
  },
  {
   "cell_type": "markdown",
   "id": "ac243ccf-862d-4479-b94c-9c0f0577dc57",
   "metadata": {},
   "source": [
    "## Examining the data"
   ]
  },
  {
   "cell_type": "markdown",
   "id": "f9a2c893-ac12-46ba-a238-0754f78b74ad",
   "metadata": {},
   "source": [
    "Let's look at the first few digits in the training set"
   ]
  },
  {
   "cell_type": "code",
   "execution_count": 9,
   "id": "a0e68ba3-6b1f-4435-979d-c9ad6bcdd4f3",
   "metadata": {
    "tags": []
   },
   "outputs": [
    {
     "data": {
      "image/png": "[encoded data removed]",
      "text/plain": [
       "<Figure size 640x480 with 32 Axes>"
      ]
     },
     "metadata": {},
     "output_type": "display_data"
    }
   ],
   "source": [
    "from mpl_toolkits.axes_grid1 import ImageGrid\n",
    "fig = plt.figure(1)\n",
    "grid = ImageGrid(fig, 111,\n",
    "                 nrows_ncols=(4, 4),\n",
    "                 axes_pad=0.1)\n",
    "\n",
    "for i, ax in enumerate(grid):\n",
    "    training_set[i].plot(ax=ax)"
   ]
  },
  {
   "cell_type": "markdown",
   "id": "0bae93c8-4669-4af2-a181-471ba207bd0a",
   "metadata": {},
   "source": [
    "Here's what the scaled pixel values look like&mdash;this is what will be fed into the network as input"
   ]
  },
  {
   "cell_type": "code",
   "execution_count": 10,
   "id": "298da442-1a0f-4b06-85f7-dd43fb41d26f",
   "metadata": {
    "tags": []
   },
   "outputs": [
    {
     "data": {
      "text/plain": [
       "array([0.01      , 0.01      , 0.01      , 0.01      , 0.01      ,\n",
       "       0.01      , 0.01      , 0.01      , 0.01      , 0.01      ,\n",
       "       0.01      , 0.01      , 0.01      , 0.01      , 0.01      ,\n",
       "       0.01      , 0.01      , 0.01      , 0.01      , 0.01      ,\n",
       "       0.01      , 0.01      , 0.01      , 0.01      , 0.01      ,\n",
       "       0.01      , 0.01      , 0.01      , 0.01      , 0.01      ,\n",
       "       0.01      , 0.01      , 0.01      , 0.01      , 0.01      ,\n",
       "       0.01      , 0.01      , 0.01      , 0.01      , 0.01      ,\n",
       "       0.01      , 0.01      , 0.01      , 0.01      , 0.01      ,\n",
       "       0.01      , 0.01      , 0.01      , 0.01      , 0.01      ,\n",
       "       0.01      , 0.01      , 0.01      , 0.01      , 0.01      ,\n",
       "       0.01      , 0.01      , 0.01      , 0.01      , 0.01      ,\n",
       "       0.01      , 0.01      , 0.01      , 0.01      , 0.01      ,\n",
       "       0.01      , 0.01      , 0.01      , 0.01      , 0.01      ,\n",
       "       0.01      , 0.01      , 0.01      , 0.01      , 0.01      ,\n",
       "       0.01      , 0.01      , 0.01      , 0.01      , 0.01      ,\n",
       "       0.01      , 0.01      , 0.01      , 0.01      , 0.01      ,\n",
       "       0.01      , 0.01      , 0.01      , 0.01      , 0.01      ,\n",
       "       0.01      , 0.01      , 0.01      , 0.01      , 0.01      ,\n",
       "       0.01      , 0.01      , 0.01      , 0.01      , 0.01      ,\n",
       "       0.01      , 0.01      , 0.01      , 0.01      , 0.01      ,\n",
       "       0.01      , 0.01      , 0.01      , 0.01      , 0.01      ,\n",
       "       0.01      , 0.01      , 0.01      , 0.01      , 0.01      ,\n",
       "       0.01      , 0.01      , 0.01      , 0.01      , 0.01      ,\n",
       "       0.01      , 0.01      , 0.01      , 0.01      , 0.01      ,\n",
       "       0.01      , 0.01      , 0.01      , 0.01      , 0.01      ,\n",
       "       0.01      , 0.01      , 0.01      , 0.01      , 0.01      ,\n",
       "       0.01      , 0.01      , 0.01      , 0.01      , 0.01      ,\n",
       "       0.01      , 0.01      , 0.01      , 0.01      , 0.01      ,\n",
       "       0.01      , 0.01      , 0.01      , 0.01      , 0.01      ,\n",
       "       0.01      , 0.01      , 0.02164706, 0.07988235, 0.07988235,\n",
       "       0.07988235, 0.49917647, 0.53800005, 0.68941176, 0.11094118,\n",
       "       0.6544706 , 1.        , 0.96894115, 0.50305885, 0.01      ,\n",
       "       0.01      , 0.01      , 0.01      , 0.01      , 0.01      ,\n",
       "       0.01      , 0.01      , 0.01      , 0.01      , 0.01      ,\n",
       "       0.01      , 0.1264706 , 0.14976472, 0.37494117, 0.6078824 ,\n",
       "       0.67      , 0.9922353 , 0.9922353 , 0.9922353 , 0.9922353 ,\n",
       "       0.9922353 , 0.8835294 , 0.6777647 , 0.9922353 , 0.9495294 ,\n",
       "       0.76705885, 0.2584706 , 0.01      , 0.01      , 0.01      ,\n",
       "       0.01      , 0.01      , 0.01      , 0.01      , 0.01      ,\n",
       "       0.01      , 0.01      , 0.01      , 0.2002353 , 0.934     ,\n",
       "       0.9922353 , 0.9922353 , 0.9922353 , 0.9922353 , 0.9922353 ,\n",
       "       0.9922353 , 0.9922353 , 0.9922353 , 0.9844706 , 0.37105882,\n",
       "       0.32835296, 0.32835296, 0.22741178, 0.16141178, 0.01      ,\n",
       "       0.01      , 0.01      , 0.01      , 0.01      , 0.01      ,\n",
       "       0.01      , 0.01      , 0.01      , 0.01      , 0.01      ,\n",
       "       0.01      , 0.07988235, 0.8602353 , 0.9922353 , 0.9922353 ,\n",
       "       0.9922353 , 0.9922353 , 0.9922353 , 0.7787059 , 0.71658826,\n",
       "       0.96894115, 0.94564706, 0.01      , 0.01      , 0.01      ,\n",
       "       0.01      , 0.01      , 0.01      , 0.01      , 0.01      ,\n",
       "       0.01      , 0.01      , 0.01      , 0.01      , 0.01      ,\n",
       "       0.01      , 0.01      , 0.01      , 0.01      , 0.01      ,\n",
       "       0.32058823, 0.6156471 , 0.42541176, 0.9922353 , 0.9922353 ,\n",
       "       0.80588233, 0.05270588, 0.01      , 0.17694119, 0.6078824 ,\n",
       "       0.01      , 0.01      , 0.01      , 0.01      , 0.01      ,\n",
       "       0.01      , 0.01      , 0.01      , 0.01      , 0.01      ,\n",
       "       0.01      , 0.01      , 0.01      , 0.01      , 0.01      ,\n",
       "       0.01      , 0.01      , 0.01      , 0.01      , 0.06435294,\n",
       "       0.01388235, 0.6078824 , 0.9922353 , 0.35941178, 0.01      ,\n",
       "       0.01      , 0.01      , 0.01      , 0.01      , 0.01      ,\n",
       "       0.01      , 0.01      , 0.01      , 0.01      , 0.01      ,\n",
       "       0.01      , 0.01      , 0.01      , 0.01      , 0.01      ,\n",
       "       0.01      , 0.01      , 0.01      , 0.01      , 0.01      ,\n",
       "       0.01      , 0.01      , 0.01      , 0.01      , 0.5496471 ,\n",
       "       0.9922353 , 0.74764705, 0.01776471, 0.01      , 0.01      ,\n",
       "       0.01      , 0.01      , 0.01      , 0.01      , 0.01      ,\n",
       "       0.01      , 0.01      , 0.01      , 0.01      , 0.01      ,\n",
       "       0.01      , 0.01      , 0.01      , 0.01      , 0.01      ,\n",
       "       0.01      , 0.01      , 0.01      , 0.01      , 0.01      ,\n",
       "       0.01      , 0.01      , 0.05270588, 0.74764705, 0.9922353 ,\n",
       "       0.28176472, 0.01      , 0.01      , 0.01      , 0.01      ,\n",
       "       0.01      , 0.01      , 0.01      , 0.01      , 0.01      ,\n",
       "       0.01      , 0.01      , 0.01      , 0.01      , 0.01      ,\n",
       "       0.01      , 0.01      , 0.01      , 0.01      , 0.01      ,\n",
       "       0.01      , 0.01      , 0.01      , 0.01      , 0.01      ,\n",
       "       0.01      , 0.14588237, 0.94564706, 0.8835294 , 0.6311765 ,\n",
       "       0.4292941 , 0.01388235, 0.01      , 0.01      , 0.01      ,\n",
       "       0.01      , 0.01      , 0.01      , 0.01      , 0.01      ,\n",
       "       0.01      , 0.01      , 0.01      , 0.01      , 0.01      ,\n",
       "       0.01      , 0.01      , 0.01      , 0.01      , 0.01      ,\n",
       "       0.01      , 0.01      , 0.01      , 0.01      , 0.01      ,\n",
       "       0.32447058, 0.9417647 , 0.9922353 , 0.9922353 , 0.472     ,\n",
       "       0.10705882, 0.01      , 0.01      , 0.01      , 0.01      ,\n",
       "       0.01      , 0.01      , 0.01      , 0.01      , 0.01      ,\n",
       "       0.01      , 0.01      , 0.01      , 0.01      , 0.01      ,\n",
       "       0.01      , 0.01      , 0.01      , 0.01      , 0.01      ,\n",
       "       0.01      , 0.01      , 0.01      , 0.01      , 0.1847059 ,\n",
       "       0.73211765, 0.9922353 , 0.9922353 , 0.592353  , 0.11482353,\n",
       "       0.01      , 0.01      , 0.01      , 0.01      , 0.01      ,\n",
       "       0.01      , 0.01      , 0.01      , 0.01      , 0.01      ,\n",
       "       0.01      , 0.01      , 0.01      , 0.01      , 0.01      ,\n",
       "       0.01      , 0.01      , 0.01      , 0.01      , 0.01      ,\n",
       "       0.01      , 0.01      , 0.01      , 0.07211765, 0.37105882,\n",
       "       0.98835295, 0.9922353 , 0.736     , 0.01      , 0.01      ,\n",
       "       0.01      , 0.01      , 0.01      , 0.01      , 0.01      ,\n",
       "       0.01      , 0.01      , 0.01      , 0.01      , 0.01      ,\n",
       "       0.01      , 0.01      , 0.01      , 0.01      , 0.01      ,\n",
       "       0.01      , 0.01      , 0.01      , 0.01      , 0.01      ,\n",
       "       0.01      , 0.01      , 0.01      , 0.9767059 , 0.9922353 ,\n",
       "       0.9767059 , 0.2584706 , 0.01      , 0.01      , 0.01      ,\n",
       "       0.01      , 0.01      , 0.01      , 0.01      , 0.01      ,\n",
       "       0.01      , 0.01      , 0.01      , 0.01      , 0.01      ,\n",
       "       0.01      , 0.01      , 0.01      , 0.01      , 0.01      ,\n",
       "       0.01      , 0.01      , 0.01      , 0.18858825, 0.5147059 ,\n",
       "       0.7204706 , 0.9922353 , 0.9922353 , 0.8136471 , 0.01776471,\n",
       "       0.01      , 0.01      , 0.01      , 0.01      , 0.01      ,\n",
       "       0.01      , 0.01      , 0.01      , 0.01      , 0.01      ,\n",
       "       0.01      , 0.01      , 0.01      , 0.01      , 0.01      ,\n",
       "       0.01      , 0.01      , 0.01      , 0.01      , 0.16141178,\n",
       "       0.5845882 , 0.8990588 , 0.9922353 , 0.9922353 , 0.9922353 ,\n",
       "       0.98058826, 0.71658826, 0.01      , 0.01      , 0.01      ,\n",
       "       0.01      , 0.01      , 0.01      , 0.01      , 0.01      ,\n",
       "       0.01      , 0.01      , 0.01      , 0.01      , 0.01      ,\n",
       "       0.01      , 0.01      , 0.01      , 0.01      , 0.01      ,\n",
       "       0.10317647, 0.45258823, 0.86800003, 0.9922353 , 0.9922353 ,\n",
       "       0.9922353 , 0.9922353 , 0.79035294, 0.31282353, 0.01      ,\n",
       "       0.01      , 0.01      , 0.01      , 0.01      , 0.01      ,\n",
       "       0.01      , 0.01      , 0.01      , 0.01      , 0.01      ,\n",
       "       0.01      , 0.01      , 0.01      , 0.01      , 0.01      ,\n",
       "       0.01      , 0.09929412, 0.2662353 , 0.8369412 , 0.9922353 ,\n",
       "       0.9922353 , 0.9922353 , 0.9922353 , 0.7787059 , 0.32447058,\n",
       "       0.01776471, 0.01      , 0.01      , 0.01      , 0.01      ,\n",
       "       0.01      , 0.01      , 0.01      , 0.01      , 0.01      ,\n",
       "       0.01      , 0.01      , 0.01      , 0.01      , 0.01      ,\n",
       "       0.01      , 0.01      , 0.07988235, 0.67388237, 0.8602353 ,\n",
       "       0.9922353 , 0.9922353 , 0.9922353 , 0.9922353 , 0.76705885,\n",
       "       0.32058823, 0.04494118, 0.01      , 0.01      , 0.01      ,\n",
       "       0.01      , 0.01      , 0.01      , 0.01      , 0.01      ,\n",
       "       0.01      , 0.01      , 0.01      , 0.01      , 0.01      ,\n",
       "       0.01      , 0.01      , 0.01      , 0.22352943, 0.6777647 ,\n",
       "       0.8874118 , 0.9922353 , 0.9922353 , 0.9922353 , 0.9922353 ,\n",
       "       0.9572941 , 0.52635294, 0.05270588, 0.01      , 0.01      ,\n",
       "       0.01      , 0.01      , 0.01      , 0.01      , 0.01      ,\n",
       "       0.01      , 0.01      , 0.01      , 0.01      , 0.01      ,\n",
       "       0.01      , 0.01      , 0.01      , 0.01      , 0.01      ,\n",
       "       0.01      , 0.53800005, 0.9922353 , 0.9922353 , 0.9922353 ,\n",
       "       0.83305883, 0.5341177 , 0.5224706 , 0.07211765, 0.01      ,\n",
       "       0.01      , 0.01      , 0.01      , 0.01      , 0.01      ,\n",
       "       0.01      , 0.01      , 0.01      , 0.01      , 0.01      ,\n",
       "       0.01      , 0.01      , 0.01      , 0.01      , 0.01      ,\n",
       "       0.01      , 0.01      , 0.01      , 0.01      , 0.01      ,\n",
       "       0.01      , 0.01      , 0.01      , 0.01      , 0.01      ,\n",
       "       0.01      , 0.01      , 0.01      , 0.01      , 0.01      ,\n",
       "       0.01      , 0.01      , 0.01      , 0.01      , 0.01      ,\n",
       "       0.01      , 0.01      , 0.01      , 0.01      , 0.01      ,\n",
       "       0.01      , 0.01      , 0.01      , 0.01      , 0.01      ,\n",
       "       0.01      , 0.01      , 0.01      , 0.01      , 0.01      ,\n",
       "       0.01      , 0.01      , 0.01      , 0.01      , 0.01      ,\n",
       "       0.01      , 0.01      , 0.01      , 0.01      , 0.01      ,\n",
       "       0.01      , 0.01      , 0.01      , 0.01      , 0.01      ,\n",
       "       0.01      , 0.01      , 0.01      , 0.01      , 0.01      ,\n",
       "       0.01      , 0.01      , 0.01      , 0.01      , 0.01      ,\n",
       "       0.01      , 0.01      , 0.01      , 0.01      , 0.01      ,\n",
       "       0.01      , 0.01      , 0.01      , 0.01      , 0.01      ,\n",
       "       0.01      , 0.01      , 0.01      , 0.01      , 0.01      ,\n",
       "       0.01      , 0.01      , 0.01      , 0.01      , 0.01      ,\n",
       "       0.01      , 0.01      , 0.01      , 0.01      ], dtype=float32)"
      ]
     },
     "execution_count": 10,
     "metadata": {},
     "output_type": "execute_result"
    }
   ],
   "source": [
    "training_set[0].scaled"
   ]
  },
  {
   "cell_type": "markdown",
   "id": "cafd79c9-d1bb-400c-9025-a416b42877c1",
   "metadata": {},
   "source": [
    "and here's what the categorical output looks like&mdash;this will be what we expect the network to return"
   ]
  },
  {
   "cell_type": "code",
   "execution_count": 11,
   "id": "fb3439d9-8aa3-44f6-8b11-08ac2b2f3f32",
   "metadata": {
    "tags": []
   },
   "outputs": [
    {
     "data": {
      "text/plain": [
       "array([0.01, 0.01, 0.01, 0.01, 0.01, 0.99, 0.01, 0.01, 0.01, 0.01])"
      ]
     },
     "execution_count": 11,
     "metadata": {},
     "output_type": "execute_result"
    }
   ],
   "source": [
    "training_set[0].out"
   ]
  },
  {
   "cell_type": "markdown",
   "id": "eb444a7c-701a-4ac5-98fa-31c1c4a9d74e",
   "metadata": {},
   "source": [
    "## Our network"
   ]
  },
  {
   "cell_type": "markdown",
   "id": "68a2379b-5070-43b8-9bf3-cbd1ecb8eda9",
   "metadata": {},
   "source": [
    "Now we can write our neural network class.  We will include a single hidden layer."
   ]
  },
  {
   "cell_type": "code",
   "execution_count": 12,
   "id": "a31b371a-5711-4cfd-9b6a-735f7cd1f2fe",
   "metadata": {
    "tags": []
   },
   "outputs": [],
   "source": [
    "class NeuralNetwork:\n",
    "    \"\"\"A neural network class with a single hidden layer.\"\"\"\n",
    "\n",
    "    def __init__(self, input_size=1, output_size=1, hidden_layer_size=1):\n",
    "\n",
    "        # the number of nodes/neurons on the output layer\n",
    "        self.N_out = output_size\n",
    "\n",
    "        # the number of nodes/neurons on the input layer\n",
    "        self.N_in = input_size\n",
    "\n",
    "        # the number of nodes/neurons on the hidden layer\n",
    "        self.N_hidden = hidden_layer_size\n",
    "\n",
    "        # we will initialize the weights with Gaussian normal random\n",
    "        # numbers centered on 0 with a width of 1/sqrt(n), where n is\n",
    "        # the length of the input state\n",
    "\n",
    "        rng = np.random.default_rng()\n",
    "        \n",
    "        # A is the set of weights between the hidden layer and output layer\n",
    "        self.A = rng.normal(0.0, 1.0/np.sqrt(self.N_hidden),\n",
    "                            (self.N_out, self.N_hidden))\n",
    "\n",
    "        # B is the set of weights between the input layer and hidden layer\n",
    "        self.B = rng.normal(0.0, 1.0/np.sqrt(self.N_in),\n",
    "                            (self.N_hidden, self.N_in))\n",
    "\n",
    "    def g(self, xi):\n",
    "        \"\"\"our sigmoid function that operates on the hidden layer\"\"\"\n",
    "        return 1.0/(1.0 + np.exp(-xi))\n",
    "\n",
    "    def train(self, training_data, n_epochs=1, learning_rate=0.1):\n",
    "        \"\"\"Train the neural network by doing gradient descent with back\n",
    "        propagation to set the matrix elements in B (the weights\n",
    "        between the input and hidden layer) and A (the weights between\n",
    "        the hidden layer and output layer)\n",
    "\n",
    "        \"\"\"\n",
    "\n",
    "        print(f\"size of training data = {len(training_data)}\")\n",
    "        \n",
    "        for i in range(n_epochs):\n",
    "            print(f\"epoch {i+1} of {n_epochs}\")\n",
    "\n",
    "            random.shuffle(training_data)\n",
    "            for n, model in enumerate(training_data):\n",
    "\n",
    "                # make the input and output data one-dimensional\n",
    "                x = model.scaled.reshape(self.N_in, 1)\n",
    "                y = model.out.reshape(self.N_out, 1)\n",
    "\n",
    "                # propagate the input through the network\n",
    "                z_tilde = self.g(self.B @ x)\n",
    "                z = self.g(self.A @ z_tilde)\n",
    "\n",
    "                # compute the errors (backpropagate to the hidden layer)\n",
    "                e = z - y\n",
    "                e_tilde = self.A.T @ (e * z * (1 - z))\n",
    "\n",
    "                # corrections\n",
    "                dA = -2 * learning_rate * e * z * (1 - z) @ z_tilde.T\n",
    "                dB = -2 * learning_rate * e_tilde * z_tilde * (1 - z_tilde) @ x.T\n",
    "\n",
    "                self.A[:, :] += dA\n",
    "                self.B[:, :] += dB\n",
    "\n",
    "    def predict(self, model):\n",
    "        \"\"\" predict the outcome using our trained matrix A \"\"\"\n",
    "        y = self.g(self.A @ (self.g(self.B @ model.scaled)))\n",
    "        return y"
   ]
  },
  {
   "cell_type": "markdown",
   "id": "26c83b94-7916-4a95-a96b-01c604d28bcc",
   "metadata": {},
   "source": [
    "Create our neural network"
   ]
  },
  {
   "cell_type": "code",
   "execution_count": 13,
   "id": "7179f852-99ea-4617-b783-94786db0630b",
   "metadata": {
    "tags": []
   },
   "outputs": [],
   "source": [
    "input_size = len(training_set[0].scaled)\n",
    "output_size = len(training_set[0].out)\n",
    "net = NeuralNetwork(input_size=input_size, output_size=output_size, hidden_layer_size=50)"
   ]
  },
  {
   "cell_type": "markdown",
   "id": "4ec256ae-fae5-4900-8c92-7bbf9dc115ad",
   "metadata": {},
   "source": [
    "## Training"
   ]
  },
  {
   "cell_type": "markdown",
   "id": "78ccac8d-f433-4849-81d3-090403d1b403",
   "metadata": {
    "tags": []
   },
   "source": [
    "Now we can train"
   ]
  },
  {
   "cell_type": "code",
   "execution_count": 14,
   "id": "84a8fd94-6b5a-4ab6-98d4-a51220071b44",
   "metadata": {
    "tags": []
   },
   "outputs": [
    {
     "name": "stdout",
     "output_type": "stream",
     "text": [
      "size of training data = 60000\n",
      "epoch 1 of 10\n",
      "epoch 2 of 10\n",
      "epoch 3 of 10\n",
      "epoch 4 of 10\n",
      "epoch 5 of 10\n",
      "epoch 6 of 10\n",
      "epoch 7 of 10\n",
      "epoch 8 of 10\n",
      "epoch 9 of 10\n",
      "epoch 10 of 10\n"
     ]
    }
   ],
   "source": [
    "net.train(training_set, n_epochs=10)"
   ]
  },
  {
   "cell_type": "markdown",
   "id": "86ba63f6-d0a1-4d07-8323-815b4dc9559c",
   "metadata": {
    "tags": []
   },
   "source": [
    "Let's see what our accuracy rate is"
   ]
  },
  {
   "cell_type": "code",
   "execution_count": 15,
   "id": "05b09592-d2f2-4665-bb44-bbcf5ae51c8a",
   "metadata": {
    "tags": []
   },
   "outputs": [
    {
     "name": "stdout",
     "output_type": "stream",
     "text": [
      "accuracy is 0.9661\n"
     ]
    }
   ],
   "source": [
    "n_correct = 0\n",
    "for model in test_set:\n",
    "    res = net.predict(model)\n",
    "    if model.check_output(res):\n",
    "        n_correct += 1\n",
    "\n",
    "print(f\"accuracy is {n_correct / len(test_set)}\")"
   ]
  },
  {
   "cell_type": "markdown",
   "id": "15f568d6-6c5d-4676-b41f-a5a4b6295036",
   "metadata": {},
   "source": [
    "So we are about 96% accurate.  We can try to improve this by training with more epochs or using a bigger hidden layer.  We might also try experimenting with [other activation functions](https://en.wikipedia.org/wiki/Activation_function#Table_of_activation_functions)."
   ]
  },
  {
   "cell_type": "markdown",
   "id": "65798b81-deb2-4840-8f8d-bf2c7f32d44c",
   "metadata": {},
   "source": [
    "## Wrong digits"
   ]
  },
  {
   "cell_type": "markdown",
   "id": "496c34fc-7103-4b1d-a7de-4469fd900c7f",
   "metadata": {},
   "source": [
    "Let's look at some of the digits we get wrong"
   ]
  },
  {
   "cell_type": "code",
   "execution_count": 17,
   "id": "76f6e720-89b4-4cd1-a779-5a79323c4d45",
   "metadata": {
    "tags": []
   },
   "outputs": [
    {
     "data": {
      "image/png": "[encoded data removed]",
      "text/plain": [
       "<Figure size 800x800 with 32 Axes>"
      ]
     },
     "metadata": {},
     "output_type": "display_data"
    }
   ],
   "source": [
    "from mpl_toolkits.axes_grid1 import ImageGrid\n",
    "fig = plt.figure(1, (8, 8))\n",
    "grid = ImageGrid(fig, 111,\n",
    "                 nrows_ncols=(4, 4),\n",
    "                 axes_pad=0.1)\n",
    "\n",
    "num_wrong = 0\n",
    "for model in test_set:\n",
    "    res = net.predict(model)\n",
    "    if not model.check_output(res):\n",
    "        model.plot(ax=grid[num_wrong])\n",
    "        grid[num_wrong].text(0.05, 0.05,\n",
    "                             f\"ans: {model.num}\\npred: {model.interpret_output(res)}\",\n",
    "                             transform=grid[num_wrong].transAxes,\n",
    "                             color=\"C1\", zorder=100)\n",
    "        num_wrong += 1\n",
    "\n",
    "    if num_wrong == len(grid):\n",
    "        break"
   ]
  }
 ],
 "metadata": {
  "kernelspec": {
   "display_name": "Python 3 (ipykernel)",
   "language": "python",
   "name": "python3"
  },
  "language_info": {
   "codemirror_mode": {
    "name": "ipython",
    "version": 3
   },
   "file_extension": ".py",
   "mimetype": "text/x-python",
   "name": "python",
   "nbconvert_exporter": "python",
   "pygments_lexer": "ipython3",
   "version": "3.13.2"
  }
 },
 "nbformat": 4,
 "nbformat_minor": 5
}
