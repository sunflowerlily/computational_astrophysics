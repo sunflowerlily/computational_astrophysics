{
 "cells": [
  {
   "cell_type": "markdown",
   "id": "91132374-dccf-4624-b121-a52a05b7612b",
   "metadata": {},
   "source": [
    "# Homework 6 solutions"
   ]
  },
  {
   "cell_type": "code",
   "execution_count": 1,
   "id": "55e57e97-792e-4b46-a871-8664be3cbed8",
   "metadata": {},
   "outputs": [],
   "source": [
    "import numpy as np\n",
    "import matplotlib.pyplot as plt"
   ]
  },
  {
   "cell_type": "markdown",
   "id": "0118fd0a-57c1-4d4f-bec1-716b1b4df8c6",
   "metadata": {},
   "source": [
    "## 1. Cepheids"
   ]
  },
  {
   "cell_type": "markdown",
   "id": "900206e6-755a-4bd4-aaef-a19211f9a348",
   "metadata": {},
   "source": [
    "We want to fit a line to Cepheid period-magnitudes and find the error in the fit."
   ]
  },
  {
   "cell_type": "markdown",
   "id": "f257ac4f-77e0-4a02-b2ce-16d1c56bca70",
   "metadata": {},
   "source": [
    "Let's start by reading in the data and making a plot.  We only care about 3 columns, \"logP\", \"MK\", and \"σmM\""
   ]
  },
  {
   "cell_type": "code",
   "execution_count": 2,
   "id": "2b2152bc-0505-45ab-95fa-991002e3d485",
   "metadata": {},
   "outputs": [],
   "source": [
    "data = np.genfromtxt(\"cepheids.txt\", names=True)"
   ]
  },
  {
   "cell_type": "code",
   "execution_count": 3,
   "id": "8f7f6d61-9092-4964-bfb4-f7ed69e8667c",
   "metadata": {},
   "outputs": [
    {
     "data": {
      "image/png": "[encoded data removed]",
      "text/plain": [
       "<Figure size 640x480 with 1 Axes>"
      ]
     },
     "metadata": {},
     "output_type": "display_data"
    }
   ],
   "source": [
    "fig, ax = plt.subplots()\n",
    "ax.scatter(data[\"logP\"], data[\"MK\"])\n",
    "ax.set_xlabel(r\"$\\log(P)$\")\n",
    "ax.set_ylabel(\"$M_k$\")\n",
    "ax.invert_yaxis()"
   ]
  },
  {
   "cell_type": "markdown",
   "id": "13049da7-a119-453f-bb17-923e7909ea70",
   "metadata": {},
   "source": [
    "Storm et al. 2011 fit this data to \n",
    "\n",
    "$$M = a (\\log_{10}{P} - 1.0) + b$$"
   ]
  },
  {
   "cell_type": "markdown",
   "id": "fc92358c-5e36-4005-a873-bb5f2b96d81e",
   "metadata": {},
   "source": [
    "so our model function will be:\n",
    "\n",
    "$$Y(x; a_1, a_2) = a_1 + a_2 x$$"
   ]
  },
  {
   "cell_type": "markdown",
   "id": "1ca18dd2-ac74-414e-8b50-de4b8d3c7eaa",
   "metadata": {},
   "source": [
    "In class, we saw that"
   ]
  },
  {
   "cell_type": "code",
   "execution_count": 4,
   "id": "e6c909d5-e214-4137-af96-daab7b2e961e",
   "metadata": {},
   "outputs": [],
   "source": [
    "logP = data[\"logP\"]\n",
    "Mk = data[\"MK\"]\n",
    "err = data[\"σmM\"]"
   ]
  },
  {
   "cell_type": "markdown",
   "id": "ed39cf2a-633d-4eb1-9895-91b2045468bd",
   "metadata": {},
   "source": [
    "We'll use the general linear least squares from class:"
   ]
  },
  {
   "cell_type": "code",
   "execution_count": 5,
   "id": "7b166323-ea1d-4957-8d31-a19860ee5abd",
   "metadata": {},
   "outputs": [],
   "source": [
    "def basis(x, M=3):\n",
    "    \"\"\" the basis function for the fit, x**n\"\"\"\n",
    "    \n",
    "    j = np.arange(M)\n",
    "    return x**j"
   ]
  },
  {
   "cell_type": "markdown",
   "id": "55940799-692c-4924-a099-c22797a4b1a6",
   "metadata": {},
   "source": [
    "This is modified from class to return the matrix ${\\bf A}^\\intercal{\\bf A}$."
   ]
  },
  {
   "cell_type": "code",
   "execution_count": 6,
   "id": "e3eeb2bb-8d67-4e0a-a90a-733e10cac7e2",
   "metadata": {},
   "outputs": [],
   "source": [
    "def general_regression(x, y, yerr, M):\n",
    "    \"\"\" here, M is the number of fitting parameters.  We will fit to\n",
    "        a function that is linear in the a's, using the basis functions\n",
    "        x**j \"\"\"\n",
    "\n",
    "    N = len(x)\n",
    "\n",
    "    # construct the design matrix -- A_{ij} = Y_j(x_i)/sigma_i -- this is\n",
    "    # N x M.  Each row corresponds to a single data point, x_i, y_i\n",
    "    A = np.zeros((N, M), dtype=np.float64)\n",
    "\n",
    "    for i in range(N):\n",
    "        A[i,:] = basis(x[i], M) / yerr[i]\n",
    "\n",
    "    # construct the MxM matrix for the linear system, A^T A:\n",
    "    ATA = np.transpose(A) @ A\n",
    "\n",
    "    print(\"condition number of A^T A:\", np.linalg.cond(ATA))\n",
    "\n",
    "    # construct the RHS\n",
    "    b = np.transpose(A) @ (y / yerr)\n",
    "\n",
    "    # solve the system\n",
    "    a = np.linalg.solve(ATA, b)\n",
    "\n",
    "    # return the chisq\n",
    "    chisq = 0\n",
    "    for i in range(N):\n",
    "        chisq += (np.sum(a*basis(x[i], M)) - y[i])**2 / yerr[i]**2\n",
    "\n",
    "    chisq /= N-M\n",
    "\n",
    "    return a, ATA, chisq"
   ]
  },
  {
   "cell_type": "code",
   "execution_count": 7,
   "id": "45497d20-1bc9-4118-a532-316c2b289dec",
   "metadata": {},
   "outputs": [
    {
     "name": "stdout",
     "output_type": "stream",
     "text": [
      "condition number of A^T A: 8.494389613454842\n"
     ]
    }
   ],
   "source": [
    "a, ATA, chisq = general_regression(logP-1.0, Mk, err, 2)"
   ]
  },
  {
   "cell_type": "markdown",
   "id": "9320c26c-c1f0-446c-ac7b-f1911fd1e062",
   "metadata": {},
   "source": [
    "Here's our fit:"
   ]
  },
  {
   "cell_type": "code",
   "execution_count": 8,
   "id": "8ecf9d37-e3b5-4c39-80c7-ab23de2872c5",
   "metadata": {},
   "outputs": [
    {
     "data": {
      "text/plain": [
       "array([-5.64557103, -3.28969021])"
      ]
     },
     "execution_count": 8,
     "metadata": {},
     "output_type": "execute_result"
    }
   ],
   "source": [
    "a"
   ]
  },
  {
   "cell_type": "markdown",
   "id": "4c147230-cf5f-40f5-b56f-31df99aabf12",
   "metadata": {},
   "source": [
    "This agrees well with what Storm et al. found."
   ]
  },
  {
   "cell_type": "markdown",
   "id": "e90569cc-61af-4c29-8c77-fe21569aad6a",
   "metadata": {},
   "source": [
    "Now let's look at the errors.  We want to compute:\n",
    "\n",
    "$${\\bf C} = ({\\bf A}^\\intercal {\\bf A})^{-1}$$"
   ]
  },
  {
   "cell_type": "code",
   "execution_count": 9,
   "id": "85477ae7-bae3-4cde-a842-336be756c7ac",
   "metadata": {},
   "outputs": [
    {
     "data": {
      "text/plain": [
       "array([[64368.21617536,  6779.44744347],\n",
       "       [ 6779.44744347,  8483.83758629]])"
      ]
     },
     "execution_count": 9,
     "metadata": {},
     "output_type": "execute_result"
    }
   ],
   "source": [
    "ATA"
   ]
  },
  {
   "cell_type": "code",
   "execution_count": 10,
   "id": "6bd13a1a-1c4f-459e-8842-baeeab465d3d",
   "metadata": {},
   "outputs": [
    {
     "data": {
      "text/plain": [
       "array([[1.55356177e-05, 1.47504647e-04],\n",
       "       [1.47504647e-04, 1.17871186e-04]])"
      ]
     },
     "execution_count": 10,
     "metadata": {},
     "output_type": "execute_result"
    }
   ],
   "source": [
    "C = ATA**-1\n",
    "C"
   ]
  },
  {
   "cell_type": "markdown",
   "id": "28da2e15-dcf7-4777-8949-d20f5cae342e",
   "metadata": {},
   "source": [
    "and then the uncertainties are the square root of the diagonals:\n",
    "\n",
    "$$\\sigma_j = \\sqrt{C_{jj}}$$"
   ]
  },
  {
   "cell_type": "code",
   "execution_count": 11,
   "id": "048f0a15-7873-4df6-a835-6db289389b20",
   "metadata": {},
   "outputs": [
    {
     "data": {
      "text/plain": [
       "array([0.00411865, 0.01134475])"
      ]
     },
     "execution_count": 11,
     "metadata": {},
     "output_type": "execute_result"
    }
   ],
   "source": [
    "sigmas = np.sqrt(np.linalg.diagonal(np.linalg.inv(ATA)))\n",
    "sigmas"
   ]
  },
  {
   "cell_type": "markdown",
   "id": "418aeecb-3ca2-415f-88a0-9bc69491389c",
   "metadata": {},
   "source": [
    "This says that our fit parameters are:"
   ]
  },
  {
   "cell_type": "code",
   "execution_count": 12,
   "id": "c12e927f-085a-4b15-86fa-ba0e4a11efa4",
   "metadata": {},
   "outputs": [
    {
     "name": "stdout",
     "output_type": "stream",
     "text": [
      "intercept: -5.646 +/-  0.004\n",
      "slope    : -3.290 +/-  0.011\n"
     ]
    }
   ],
   "source": [
    "print(f\"intercept: {a[0]:6.3f} +/- {sigmas[0]:6.3f}\")\n",
    "print(f\"slope    : {a[1]:6.3f} +/- {sigmas[1]:6.3f}\")"
   ]
  },
  {
   "cell_type": "markdown",
   "id": "ce46e022-1dc1-49b3-a2b2-a62b3474f191",
   "metadata": {},
   "source": [
    "Finally let's plot the fit:"
   ]
  },
  {
   "cell_type": "code",
   "execution_count": 13,
   "id": "91f82c42-0966-41b5-8e61-f7379dc6a160",
   "metadata": {},
   "outputs": [
    {
     "data": {
      "image/png": "[encoded data removed]",
      "text/plain": [
       "<Figure size 640x480 with 1 Axes>"
      ]
     },
     "execution_count": 13,
     "metadata": {},
     "output_type": "execute_result"
    }
   ],
   "source": [
    "ax.plot(logP, (a[0] - a[1]) + a[1] * logP, color=\"C1\")\n",
    "fig"
   ]
  },
  {
   "cell_type": "markdown",
   "id": "942f5e7a-c698-4db1-aed8-b898a5b35b20",
   "metadata": {},
   "source": [
    "## 2. Interpolation"
   ]
  },
  {
   "cell_type": "markdown",
   "id": "8d4d3126-79dd-4afa-88d6-5900471277b1",
   "metadata": {},
   "source": [
    "The reaction rate for the 3-$\\alpha$ process is\n",
    "\n",
    "$$q_{3\\alpha} = 5.09\\times 10^{11} \\rho^2 Y^3 T_8^{-3} e^{-44.027/T8}~\\mathrm{erg~g^{-1}~s^{-1}}$$\n"
   ]
  },
  {
   "cell_type": "code",
   "execution_count": 14,
   "id": "c0f00b11-131e-4b80-baa0-33894d7ab15e",
   "metadata": {},
   "outputs": [],
   "source": [
    "def lam(T):\n",
    "    \"\"\"this is the triple alpha reaction rate / rho^2 Y^3\"\"\"\n",
    "    T8 = T/1e8\n",
    "    return 5.09e11 * T8**-3 * np.exp(-44.027/T8)"
   ]
  },
  {
   "cell_type": "markdown",
   "id": "23c7761d-cc24-4fc7-8bfd-067ac31eabe1",
   "metadata": {},
   "source": [
    "We want to tabulate the temperature portion of this,\n",
    "\n",
    "$$\\lambda(T) = 5.09\\times 10^{11} T_8^{-3} e^{-44.027/T8}$$\n",
    "\n",
    "this at 10 points, equally spaced in log between $T = 10^8~\\mathrm{K}$ and $5\\times 10^9~\\mathrm{K}$."
   ]
  },
  {
   "cell_type": "markdown",
   "id": "b9f7a811-5220-4664-9b44-8bec34b98145",
   "metadata": {},
   "source": [
    "First let's create that tabulation:"
   ]
  },
  {
   "cell_type": "code",
   "execution_count": 16,
   "id": "1d2e872d-3f51-4659-aff0-bfed097a5105",
   "metadata": {},
   "outputs": [
    {
     "data": {
      "text/plain": [
       "array([8.        , 8.18877444, 8.37754889, 8.56632333, 8.75509778,\n",
       "       8.94387222, 9.13264667, 9.32142111, 9.51019556, 9.69897   ])"
      ]
     },
     "execution_count": 16,
     "metadata": {},
     "output_type": "execute_result"
    }
   ],
   "source": [
    "Ts = np.logspace(np.log10(1.e8), np.log10(5.e9), 10)\n",
    "logTs = np.log10(Ts)\n",
    "logTs"
   ]
  },
  {
   "cell_type": "code",
   "execution_count": 17,
   "id": "1706c7c9-2deb-4483-9ce8-15c74d49c151",
   "metadata": {},
   "outputs": [
    {
     "data": {
      "text/plain": [
       "array([-7.41396537, -1.23984259,  2.55813006,  4.81759586,  6.08091109,\n",
       "        6.69923995,  6.89995379,  6.83027077,  6.58551152,  6.22739411])"
      ]
     },
     "execution_count": 17,
     "metadata": {},
     "output_type": "execute_result"
    }
   ],
   "source": [
    "loglams = np.log10(lam(Ts))\n",
    "loglams"
   ]
  },
  {
   "cell_type": "markdown",
   "id": "bfbb595e-25cf-401d-b3df-e10a59b10a07",
   "metadata": {},
   "source": [
    "Now, given our array of $\\log(T)$ and $\\log(\\lambda)$, we want to do cubic Lagrange interpolation on the 4 points that surround the desired value, $(\\log(T))_0$.\n",
    "\n",
    "Given 4 points, $(\\log(T))_i$, $(\\log(T))_{i+1}$, $(\\log(T))_{i+2}$, $(\\log(T))_{i+3}$, we should choose $i$ such that\n",
    "\n",
    "$$(\\log(T))_{i+1} \\le (\\log(T))_0 \\le (\\log(T))_{i+2}$$\n",
    "\n",
    "e.g., there should be 2 points on each side of our desired temperature, except at the start or end of the sequence, where this is not possible, so we would just need to use the closest 4 points to the desired temperature."
   ]
  },
  {
   "cell_type": "markdown",
   "id": "6e279a08-2658-4e7c-8dce-3e971d77926a",
   "metadata": {},
   "source": [
    "Here's a function that finds that index:"
   ]
  },
  {
   "cell_type": "code",
   "execution_count": 20,
   "id": "7b4ea6b4-b3c4-458b-ad87-48977b6a1e1d",
   "metadata": {},
   "outputs": [],
   "source": [
    "def find_index(logTs, logT0):\n",
    "    \"\"\"find i such that logTs[i+1] <= logT0 <= logTs[i+2]\"\"\"\n",
    "    return max(0, min(len(logTs)-4, np.argwhere(logTs > logT0)[0][0] - 2))"
   ]
  },
  {
   "cell_type": "markdown",
   "id": "d8cebed7-d16b-4ea9-9414-c9c0376b5581",
   "metadata": {},
   "source": [
    "To test this, here's a case where we are near the beginning of the tabulation:"
   ]
  },
  {
   "cell_type": "code",
   "execution_count": 21,
   "id": "98b07115-624b-4752-a803-5010d1969b55",
   "metadata": {},
   "outputs": [
    {
     "data": {
      "text/plain": [
       "0"
      ]
     },
     "execution_count": 21,
     "metadata": {},
     "output_type": "execute_result"
    }
   ],
   "source": [
    "find_index(logTs, 8.1)"
   ]
  },
  {
   "cell_type": "markdown",
   "id": "ecddf9c3-20af-42fb-9996-911307b40872",
   "metadata": {},
   "source": [
    "and heres a test where we are in the middle:"
   ]
  },
  {
   "cell_type": "code",
   "execution_count": 22,
   "id": "7e0b8808-2ce2-4bac-8436-ba6fc07dd911",
   "metadata": {},
   "outputs": [
    {
     "data": {
      "text/plain": [
       "np.int64(3)"
      ]
     },
     "execution_count": 22,
     "metadata": {},
     "output_type": "execute_result"
    }
   ],
   "source": [
    "find_index(logTs, 8.8)"
   ]
  },
  {
   "cell_type": "markdown",
   "id": "e2baeef6-5623-47be-866a-6f5d8632ce06",
   "metadata": {},
   "source": [
    "Comparing to the `logTs` array above, both give the result we want."
   ]
  },
  {
   "cell_type": "markdown",
   "id": "ad652326-7e3c-4523-bfc2-67b3ba6b43f1",
   "metadata": {},
   "source": [
    "Here's our Lagrange interpolation class from lecture.  We will use it in a slightly different fashion though.  Instead of passing in the entire set of data, we will only pass in the 4 points\n",
    "centered on the value at which we wish to interpolate."
   ]
  },
  {
   "cell_type": "code",
   "execution_count": 24,
   "id": "496ba3e5-8d02-4a3b-bec1-af71fd7ae64e",
   "metadata": {},
   "outputs": [],
   "source": [
    "class LagrangePoly:\n",
    "    \"\"\" a general class for creating a Lagrange polynomial \n",
    "    representation of a function \"\"\"\n",
    "\n",
    "    def __init__(self, xp, fp):\n",
    "        self.xp = xp\n",
    "        self.fp = fp\n",
    "\n",
    "    def evalf(self, x0):\n",
    "        \"\"\" given a point x0 and a function func, fit a Lagrange\n",
    "        polynomial through the control points and return the\n",
    "        interpolated value at x \"\"\"\n",
    "\n",
    "        f = 0.0\n",
    "\n",
    "        # sum over points\n",
    "        for m in range(len(self.xp)):\n",
    "\n",
    "            # create the Lagrange basis polynomial for point m\n",
    "            l = 1\n",
    "\n",
    "            for n in range(len(self.xp)):\n",
    "                if n == m:\n",
    "                    continue\n",
    "\n",
    "                l *= (x0 - self.xp[n])/(self.xp[m] - self.xp[n])\n",
    "\n",
    "            f += self.fp[m]*l\n",
    "\n",
    "        return f"
   ]
  },
  {
   "cell_type": "code",
   "execution_count": 29,
   "id": "5a124713-4ce1-4612-ad20-db1c29436ae7",
   "metadata": {},
   "outputs": [],
   "source": [
    "logT0 = 9.6"
   ]
  },
  {
   "cell_type": "code",
   "execution_count": 31,
   "id": "6d668f09-f344-4960-a2fb-2c80670dce21",
   "metadata": {},
   "outputs": [
    {
     "data": {
      "text/plain": [
       "np.float64(2663771.7432654747)"
      ]
     },
     "execution_count": 31,
     "metadata": {},
     "output_type": "execute_result"
    }
   ],
   "source": [
    "idx = find_index(logTs, logT0)\n",
    "l = LagrangePoly(logTs[idx:idx+4], loglams[idx:idx+4])\n",
    "10**l.evalf(logT0)"
   ]
  },
  {
   "cell_type": "markdown",
   "id": "e90216eb-0725-4097-9768-11fa3b2723ae",
   "metadata": {},
   "source": [
    "Now we can test this out by randomly trying points to interpolate"
   ]
  },
  {
   "cell_type": "code",
   "execution_count": 37,
   "id": "d04d33a3-1a94-449e-a607-f7ebeb605e07",
   "metadata": {},
   "outputs": [
    {
     "name": "stdout",
     "output_type": "stream",
     "text": [
      "T = 3.004e+09; rate: true = 4.3369e+06, interp = 4.3402e+06\n",
      "T = 2.049e+08; rate: true =     27.502, interp =     27.983\n",
      "T = 1.073e+09; rate: true = 6.8039e+06, interp = 6.8272e+06\n",
      "T = 1.636e+08; rate: true =    0.23999, interp =    0.24209\n",
      "T = 4.526e+08; rate: true = 3.2751e+05, interp = 3.3019e+05\n",
      "T = 1.589e+08; rate: true =    0.11664, interp =    0.11716\n",
      "T = 1.135e+08; rate: true = 4.9127e-06, interp = 4.7348e-06\n",
      "T = 1.144e+09; rate: true = 7.2468e+06, interp = 7.2702e+06\n",
      "T = 3.161e+09; rate: true = 4.0036e+06, interp = 4.0046e+06\n",
      "T = 8.543e+08; rate: true = 4.7181e+06, interp = 4.7235e+06\n",
      "T = 2.356e+09; rate: true = 6.0053e+06, interp = 6.0121e+06\n",
      "T = 1.391e+09; rate: true = 7.9825e+06, interp = 7.9861e+06\n",
      "T = 2.338e+08; rate: true =     263.65, interp =     264.45\n",
      "T = 4.868e+08; rate: true = 5.2127e+05, interp = 5.2512e+05\n",
      "T = 1.727e+09; rate: true = 7.7212e+06, interp = 7.7381e+06\n",
      "T = 1.393e+08; rate: true =  0.0035676, interp =  0.0035022\n",
      "T = 3.349e+08; rate: true =      26450, interp =      26666\n",
      "T = 1.225e+08; rate: true = 6.8411e-05, interp = 6.5944e-05\n",
      "T = 1.154e+09; rate: true = 7.2977e+06, interp = 7.3208e+06\n",
      "T = 1.047e+09; rate: true =   6.62e+06, interp =  6.642e+06\n",
      "T = 4.971e+09; rate: true = 1.7091e+06, interp = 1.7088e+06\n",
      "T = 3.075e+08; rate: true =      10605, interp =      10734\n",
      "T = 2.314e+09; rate: true = 6.1283e+06, interp = 6.1344e+06\n",
      "T = 1.594e+09; rate: true = 7.9384e+06, interp = 7.9548e+06\n",
      "T = 3.198e+08; rate: true =      16309, interp =      16485\n",
      "maximum relative error =   0.03622\n"
     ]
    }
   ],
   "source": [
    "rng = np.random.default_rng()\n",
    "max_err = -1\n",
    "for i in range(25):\n",
    "    logT0 = rng.uniform(np.log10(1.e8), np.log10(5.e9))\n",
    "\n",
    "    true_rate = lam(10**logT0)\n",
    "\n",
    "    idx = find_index(logTs, logT0)\n",
    "    l = LagrangePoly(logTs[idx:idx+4], loglams[idx:idx+4])\n",
    "    interp_rate = 10.0**l.evalf(logT0)\n",
    "\n",
    "    print(f\"T = {10.0**logT0:9.4g}; rate: true = {true_rate:10.5g}, interp = {interp_rate:10.5g}\")\n",
    "    max_err = max(max_err, abs(interp_rate - true_rate)/true_rate)\n",
    "\n",
    "print(f\"maximum relative error = {max_err:9.4g}\")"
   ]
  },
  {
   "cell_type": "code",
   "execution_count": null,
   "id": "7bc1fd14-1214-4c4b-9a71-3c2d0a120603",
   "metadata": {},
   "outputs": [],
   "source": []
  }
 ],
 "metadata": {
  "kernelspec": {
   "display_name": "Python 3 (ipykernel)",
   "language": "python",
   "name": "python3"
  },
  "language_info": {
   "codemirror_mode": {
    "name": "ipython",
    "version": 3
   },
   "file_extension": ".py",
   "mimetype": "text/x-python",
   "name": "python",
   "nbconvert_exporter": "python",
   "pygments_lexer": "ipython3",
   "version": "3.13.2"
  }
 },
 "nbformat": 4,
 "nbformat_minor": 5
}
