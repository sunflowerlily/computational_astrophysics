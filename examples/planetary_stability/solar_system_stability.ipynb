{
 "cells": [
  {
   "cell_type": "code",
   "execution_count": 1,
   "id": "77787546-a939-4f40-9abb-28dca0551920",
   "metadata": {},
   "outputs": [],
   "source": [
    "import numpy as np\n",
    "import matplotlib.pyplot as plt"
   ]
  },
  {
   "cell_type": "code",
   "execution_count": 2,
   "id": "f95ab9b9-1860-40c2-88f0-d0e032ad40e0",
   "metadata": {},
   "outputs": [],
   "source": [
    "class State:\n",
    "    \"\"\"a container to hold an object\"\"\"\n",
    "\n",
    "    def __init__(self, mass, x, y, u, v):\n",
    "        self.mass = mass\n",
    "        self.x = x\n",
    "        self.y = y\n",
    "        self.u = u\n",
    "        self.v = v\n",
    "\n",
    "    def __add__(self, other):\n",
    "        assert self.mass == other.mass\n",
    "        return State(self.mass,\n",
    "                     self.x + other.x, self.y + other.y,\n",
    "                     self.u + other.u, self.v + other.v)\n",
    "\n",
    "    def __sub__(self, other):\n",
    "        assert self.mass == other.mass\n",
    "        return State(self.mass,\n",
    "                     self.x - other.x, self.y - other.y,\n",
    "                     self.u - other.u, self.v - other.v)\n",
    "\n",
    "    def __mul__(self, other):\n",
    "        assert self.mass == other.mass\n",
    "        return State(self.mass,\n",
    "                     other * self.x, other * self.y,\n",
    "                     other * self.u, other * self.v)\n",
    "\n",
    "    def __rmul__(self, other):\n",
    "        return self.__mul__(other)\n",
    "\n",
    "    def __str__(self):\n",
    "        return f\"{self.mass:10.6f}: {self.x:10.6f} {self.y:10.6f} {self.u:10.6f} {self.v:10.6f}\""
   ]
  },
  {
   "cell_type": "code",
   "execution_count": 3,
   "id": "2946fa24-7cf4-4252-8d75-a2751e0ed542",
   "metadata": {},
   "outputs": [],
   "source": [
    "class SolarSystem:\n",
    "    \"\"\"model the gravitational interaction of three stars\"\"\"\n",
    "\n",
    "    def __init__(self, M_star, *, m_planets=None, a_planets=None, SMALL=1.e-30):\n",
    "        \"\"\"pos is a tuple of x-y coords of the stars\"\"\"\n",
    "\n",
    "        self.G = 4 * np.pi**2  # units AU**3 / (solar mass * year**2)\n",
    "        self.M_star = M_star\n",
    "\n",
    "        # store the history of the solar system\n",
    "        self.history = []\n",
    "\n",
    "        # we have the star and planets\n",
    "        self.nobjects = len(m_planets) + 1\n",
    "        \n",
    "        # current solar system\n",
    "        system = []\n",
    "        \n",
    "        # store the star \n",
    "        system.append(State(M_star, 0.0, 0.0, 0.0, 0.0))\n",
    "\n",
    "        # store the planets\n",
    "        assert len(m_planets) == len(a_planets)\n",
    "\n",
    "        for m, a in zip(m_planets, a_planets):\n",
    "            # pick a random angle and then set the velocity to be circular\n",
    "            phi = np.random.uniform(0, 2.0*np.pi)\n",
    "            v_circ = np.sqrt(self.G * self.M_star / a)\n",
    "            system.append(State(m,\n",
    "                                a*np.cos(phi), a*np.sin(phi),\n",
    "                                -v_circ*np.sin(phi), v_circ*np.cos(phi)))\n",
    "            \n",
    "        # store the initial state\n",
    "        self.history.append(system)\n",
    "\n",
    "        self.SMALL = SMALL\n",
    "\n",
    "        self.time = [0.0]\n",
    "\n",
    "    def npts(self):\n",
    "        \"\"\"return the number of integration points\"\"\"\n",
    "        return len(self.time)\n",
    "\n",
    "    def rhs(self, states):\n",
    "        \"\"\"states is (State, State, ...)\"\"\"\n",
    "\n",
    "        ydots = []\n",
    "\n",
    "        for istar in range(len(states)):\n",
    "\n",
    "            # compute the space derivatives\n",
    "\n",
    "            dxdt = states[istar].u\n",
    "            dydt = states[istar].v\n",
    "\n",
    "            # compute the velocity derivatives\n",
    "            dudt = 0.0\n",
    "            dvdt = 0.0\n",
    "\n",
    "            for jstar in range(len(states)):\n",
    "                if istar == jstar:\n",
    "                    continue\n",
    "                else:\n",
    "                    dx = states[jstar].x - states[istar].x\n",
    "                    dy = states[jstar].y - states[istar].y\n",
    "\n",
    "                    r = np.sqrt(dx**2 + dy**2) + self.SMALL\n",
    "\n",
    "                    dudt += self.G * states[jstar].mass * dx / r**3\n",
    "                    dvdt += self.G * states[jstar].mass * dy / r**3\n",
    "\n",
    "            ydots.append(State(states[istar].mass, dxdt, dydt, dudt, dvdt))\n",
    "\n",
    "        return ydots\n",
    "\n",
    "    def single_step(self, states_old, dt):\n",
    "        \"\"\"take a single Verlet step (kick-drift-kick)\"\"\"\n",
    "\n",
    "        ydot_old = self.rhs(states_old)\n",
    "\n",
    "        states_new = []\n",
    "        for istate in range(len(states_old)):\n",
    "            \n",
    "            # kick\n",
    "            uhalf = states_old[istate].u + 0.5 * dt * ydot_old[istate].u\n",
    "            vhalf = states_old[istate].v + 0.5 * dt * ydot_old[istate].v\n",
    "\n",
    "            # drift\n",
    "            xnew = states_old[istate].x + dt * uhalf\n",
    "            ynew = states_old[istate].y + dt * vhalf            \n",
    "\n",
    "            states_new.append(State(states_old[istate].mass,\n",
    "                                    xnew, ynew,\n",
    "                                    uhalf, vhalf))\n",
    "            \n",
    "        # evaluate the acceleration again -- this works only because\n",
    "        # the acceleration does not depend on velocity\n",
    "        ydot_new = self.rhs(states_new)\n",
    "\n",
    "        for istate in range(len(states_new)):\n",
    "\n",
    "            # kick\n",
    "            states_new[istate].u += 0.5 * dt * ydot_new[istate].u\n",
    "            states_new[istate].v += 0.5 * dt * ydot_new[istate].v            \n",
    "\n",
    "        return states_new\n",
    "\n",
    "    def integrate(self, dt, tmax):\n",
    "        \"\"\"integrate our solar system using the velocity-Verlet method\"\"\"\n",
    "\n",
    "        t = self.time[-1]\n",
    "        \n",
    "        while t < tmax:\n",
    "            \n",
    "            states_old = self.history[-1]\n",
    "\n",
    "            if t + dt > tmax:\n",
    "                dt = tmax-t\n",
    "\n",
    "            states_new = self.single_step(states_old, dt)\n",
    "\n",
    "            t += dt\n",
    "            \n",
    "            self.time.append(t)\n",
    "            self.history.append(states_new)"
   ]
  },
  {
   "cell_type": "code",
   "execution_count": 4,
   "id": "3f6c1c40-7265-49d5-9ed5-313babf3c904",
   "metadata": {},
   "outputs": [],
   "source": [
    "s = SolarSystem(1.0, m_planets=[0.001], a_planets=[1])"
   ]
  },
  {
   "cell_type": "code",
   "execution_count": 5,
   "id": "c523286b-a406-4916-9da2-6f52e00e230f",
   "metadata": {},
   "outputs": [],
   "source": [
    "s.integrate(0.0001, 1.e3)"
   ]
  },
  {
   "cell_type": "code",
   "execution_count": 6,
   "id": "8abd8c38-2603-4b9a-aa2b-215964cbab18",
   "metadata": {},
   "outputs": [
    {
     "data": {
      "image/png": "[encoded data removed]",
      "text/plain": [
       "<Figure size 640x480 with 1 Axes>"
      ]
     },
     "metadata": {},
     "output_type": "display_data"
    }
   ],
   "source": [
    "fig, ax = plt.subplots()\n",
    "\n",
    "for n in range(s.nobjects-1):\n",
    "    xs = [q[n].x for q in s.history]\n",
    "    ys = [q[n].y for q in s.history]    \n",
    "    ax.plot(xs, ys)"
   ]
  },
  {
   "cell_type": "code",
   "execution_count": 7,
   "id": "445ca9d1-1d4d-40f0-afd5-0d066adfd338",
   "metadata": {},
   "outputs": [],
   "source": [
    "xs = [q[0].x for q in s.history]"
   ]
  },
  {
   "cell_type": "code",
   "execution_count": 10,
   "id": "6a987158-d384-46de-855a-08c51e8c7601",
   "metadata": {},
   "outputs": [
    {
     "data": {
      "text/plain": [
       "[<matplotlib.lines.Line2D at 0x7fb9181c1950>]"
      ]
     },
     "execution_count": 10,
     "metadata": {},
     "output_type": "execute_result"
    },
    {
     "data": {
      "image/png": "[encoded data removed]",
      "text/plain": [
       "<Figure size 640x480 with 1 Axes>"
      ]
     },
     "metadata": {},
     "output_type": "display_data"
    }
   ],
   "source": [
    "fig, ax = plt.subplots()\n",
    "ax.plot(s.time, xs)"
   ]
  },
  {
   "cell_type": "code",
   "execution_count": null,
   "id": "2ce3faad-d207-49f7-b5da-5b2623039795",
   "metadata": {},
   "outputs": [],
   "source": []
  }
 ],
 "metadata": {
  "kernelspec": {
   "display_name": "Python 3 (ipykernel)",
   "language": "python",
   "name": "python3"
  },
  "language_info": {
   "codemirror_mode": {
    "name": "ipython",
    "version": 3
   },
   "file_extension": ".py",
   "mimetype": "text/x-python",
   "name": "python",
   "nbconvert_exporter": "python",
   "pygments_lexer": "ipython3",
   "version": "3.13.1"
  }
 },
 "nbformat": 4,
 "nbformat_minor": 5
}
