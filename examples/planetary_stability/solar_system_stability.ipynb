{
 "cells": [
  {
   "cell_type": "code",
   "execution_count": 1,
   "id": "77787546-a939-4f40-9abb-28dca0551920",
   "metadata": {},
   "outputs": [],
   "source": [
    "import numpy as np\n",
    "import matplotlib.pyplot as plt"
   ]
  },
  {
   "cell_type": "markdown",
   "id": "a49f5b93-d97d-421f-8b96-97282053ab44",
   "metadata": {},
   "source": [
    "We will attempt to model the stability of a system like [HR 8799](https://en.wikipedia.org/wiki/HR_8799).  A recent investigation of this system was done in [Götberg et al. 2016](https://www.aanda.org/articles/aa/full_html/2016/08/aa26309-15/aa26309-15.html) which found many configurations are unstable to the estimated age of this explanetary system."
   ]
  },
  {
   "cell_type": "markdown",
   "id": "9c06cf39-7fbf-4fe0-942b-43630dc3455c",
   "metadata": {},
   "source": [
    "Close encounters can be problematic.  One approach is to switch from using a sympletic integrator to a high-order time-adaptive integrator with error-control once two planets become closer than a few Hill radii (see, e.g., [Chatterjee et al. 2008](https://ui.adsabs.harvard.edu/abs/2008ApJ...686..580C/abstract))."
   ]
  },
  {
   "cell_type": "code",
   "execution_count": 2,
   "id": "f95ab9b9-1860-40c2-88f0-d0e032ad40e0",
   "metadata": {},
   "outputs": [],
   "source": [
    "class State:\n",
    "    \"\"\"a container to hold an object\"\"\"\n",
    "\n",
    "    def __init__(self, mass, x, y, u, v):\n",
    "        self.mass = mass\n",
    "        self.x = x\n",
    "        self.y = y\n",
    "        self.u = u\n",
    "        self.v = v\n",
    "\n",
    "    def __str__(self):\n",
    "        return f\"{self.mass:10.6f}: {self.x:10.6f} {self.y:10.6f} {self.u:10.6f} {self.v:10.6f}\""
   ]
  },
  {
   "cell_type": "code",
   "execution_count": 3,
   "id": "00877702-64ca-423d-b96c-8f34594a61a5",
   "metadata": {},
   "outputs": [],
   "source": [
    "import collections"
   ]
  },
  {
   "cell_type": "code",
   "execution_count": 4,
   "id": "2946fa24-7cf4-4252-8d75-a2751e0ed542",
   "metadata": {},
   "outputs": [],
   "source": [
    "class SolarSystem:\n",
    "    \"\"\"model the gravitational interaction of a solar system.\"\"\"\n",
    "\n",
    "    def __init__(self, M_star, *, m_planets=None, a_planets=None,\n",
    "                 max_history=50000, SMALL=1.e-30,\n",
    "                 seed=1234, escape_radius=10000):\n",
    "\n",
    "        # initialize the random number generator\n",
    "        np.random.seed(seed)\n",
    "        \n",
    "        self.G = 4 * np.pi**2  # units AU**3 / (solar mass * year**2)\n",
    "        self.M_star = M_star\n",
    "\n",
    "        self.escape_radius = escape_radius\n",
    "        self.a_initial = [0] + a_planets\n",
    "        \n",
    "        # store the history of the solar system\n",
    "        self.history = collections.deque(maxlen=max_history)\n",
    "\n",
    "        # we have the star and planets\n",
    "        self.nobjects = len(m_planets) + 1\n",
    "        \n",
    "        # current solar system\n",
    "        system = []\n",
    "        \n",
    "        # store the star \n",
    "        system.append(State(M_star, 0.0, 0.0, 0.0, 0.0))\n",
    "\n",
    "        # store the planets\n",
    "        assert len(m_planets) == len(a_planets)\n",
    "\n",
    "        for m, a in zip(m_planets, a_planets):\n",
    "            # pick a random angle and then set the velocity to be circular\n",
    "            phi = np.random.uniform(0, 2.0*np.pi)\n",
    "            v_circ = np.sqrt(self.G * self.M_star / a)\n",
    "            system.append(State(m,\n",
    "                                a*np.cos(phi), a*np.sin(phi),\n",
    "                                -v_circ*np.sin(phi), v_circ*np.cos(phi)))\n",
    "        \n",
    "        # now correct the star's state so the center of mass is\n",
    "        # at the origin and motionless\n",
    "        mx_cm = 0.0\n",
    "        my_cm = 0.0\n",
    "        mu_cm = 0.0\n",
    "        mv_cm = 0.0\n",
    "        \n",
    "        for n in range(1, self.nobjects):\n",
    "            mx_cm += system[n].mass * system[n].x\n",
    "            my_cm += system[n].mass * system[n].y\n",
    "            mu_cm += system[n].mass * system[n].u\n",
    "            mv_cm += system[n].mass * system[n].v\n",
    "\n",
    "        system[0].x = -mx_cm / M_star\n",
    "        system[0].y = -my_cm / M_star\n",
    "        system[0].u = -mu_cm / M_star\n",
    "        system[0].v = -mv_cm / M_star\n",
    "        \n",
    "        # store the initial state\n",
    "        self.history.append(system)\n",
    "\n",
    "        self.SMALL = SMALL\n",
    "\n",
    "        self.time = collections.deque([0.0], maxlen=max_history)\n",
    "\n",
    "    def npts(self):\n",
    "        \"\"\"return the number of integration points\"\"\"\n",
    "        return len(self.time)\n",
    "\n",
    "    def compute_hill_separation(self, state):\n",
    "        \"\"\"compute the multiual Hill radius for each pair of planets\"\"\"\n",
    "        h_sep = np.zeros((self.nobjects, self.nobjects))\n",
    "        h_sep[:, :] = np.inf\n",
    "        \n",
    "        # loop over the planets\n",
    "        for p1 in range(1, self.nobjects):\n",
    "            rp1 = np.sqrt((state[p1].x - state[0].x)**2 +\n",
    "                          (state[p1].y - state[0].y)**2)   \n",
    "            print(f\"object {p1}, radius = {rp1}\")\n",
    "            for p2 in range(1, self.nobjects):\n",
    "                if p1 == p2:\n",
    "                    continue\n",
    "                rp2 = np.sqrt((state[p2].x - state[0].x)**2 +\n",
    "                              (state[p2].y - state[0].y)**2)\n",
    "                r_hill = 0.5 * (rp1 + rp2) * np.cbrt((state[p1].mass + state[p2].mass) /\n",
    "                                                     (3 * self.M_star))\n",
    "                h_sep[p1, p2] = np.abs(rp2 - rp1) / r_hill\n",
    "                h_sep[p2, p1] = h_sep[p1, p2]\n",
    "\n",
    "        return h_sep\n",
    "        \n",
    "    def rhs(self, states):\n",
    "        \"\"\"states is (State, State, ...)\"\"\"\n",
    "\n",
    "        ydots = []\n",
    "\n",
    "        for istar in range(len(states)):\n",
    "\n",
    "            # compute the space derivatives\n",
    "\n",
    "            dxdt = states[istar].u\n",
    "            dydt = states[istar].v\n",
    "\n",
    "            # compute the velocity derivatives\n",
    "            dudt = 0.0\n",
    "            dvdt = 0.0\n",
    "\n",
    "            for jstar in range(len(states)):\n",
    "                if istar == jstar:\n",
    "                    continue\n",
    "                else:\n",
    "                    dx = states[jstar].x - states[istar].x\n",
    "                    dy = states[jstar].y - states[istar].y\n",
    "\n",
    "                    r = np.sqrt(dx**2 + dy**2) + self.SMALL\n",
    "\n",
    "                    dudt += self.G * states[jstar].mass * dx / r**3\n",
    "                    dvdt += self.G * states[jstar].mass * dy / r**3\n",
    "\n",
    "            ydots.append(State(states[istar].mass, dxdt, dydt, dudt, dvdt))\n",
    "\n",
    "        return ydots\n",
    "\n",
    "    def single_step_yoshida(self, states_old, dt):\n",
    "        \"\"\"take a single step using the 4th order Yoshida integrator\"\"\"\n",
    "\n",
    "        cbrt2 = np.cbrt(2)\n",
    "        w0 = -cbrt2 / (2 - cbrt2)\n",
    "        w1 = 1 / (2 - cbrt2)\n",
    "\n",
    "        c1 = w1 / 2\n",
    "        c2 = 0.5 * (w0 + w1)\n",
    "        c3 = c2\n",
    "        c4 = c1\n",
    "\n",
    "        d1 = w1\n",
    "        d2 = w0\n",
    "        d3 = w1\n",
    "\n",
    "        # we can just work on the \"new\" state directly, so start by\n",
    "        # copying the old to new\n",
    "        states_new = []\n",
    "        for s in states_old:\n",
    "            states_new.append(State(s.mass, s.x, s.y, s.u, s.v))\n",
    "            \n",
    "        # drift with current velocity\n",
    "        for s in states_new:\n",
    "            s.x += c1 * s.u * dt\n",
    "            s.y += c1 * s.v * dt\n",
    "\n",
    "        # evaluate the force\n",
    "        ydots = self.rhs(states_new)\n",
    "        \n",
    "        # kick followed by drift\n",
    "        for n, s in enumerate(states_new):\n",
    "            s.u += d1 * ydots[n].u * dt\n",
    "            s.v += d1 * ydots[n].v * dt\n",
    "\n",
    "            s.x += c2 * s.u * dt\n",
    "            s.y += c2 * s.v * dt\n",
    "\n",
    "        # evaluate the force\n",
    "        ydots = self.rhs(states_new)\n",
    "\n",
    "        # kick followed by drift\n",
    "        for n, s in enumerate(states_new):\n",
    "            s.u += d2 * ydots[n].u * dt\n",
    "            s.v += d2 * ydots[n].v * dt\n",
    "\n",
    "            s.x += c3 * s.u * dt\n",
    "            s.y += c3 * s.v * dt\n",
    "\n",
    "        # evaluate the force\n",
    "        ydots = self.rhs(states_new)\n",
    "\n",
    "        # kick followed by drift\n",
    "        for n, s in enumerate(states_new):\n",
    "            s.u += d3 * ydots[n].u * dt\n",
    "            s.v += d3 * ydots[n].v * dt\n",
    "\n",
    "            s.x += c4 * s.u * dt\n",
    "            s.y += c4 * s.v * dt\n",
    "\n",
    "        return states_new\n",
    "\n",
    "    def integrate(self, dt, tmax):\n",
    "        \"\"\"integrate our solar system using the velocity-Verlet method\"\"\"\n",
    "\n",
    "        t = self.time[-1]\n",
    "        escaped = False\n",
    "        while t < tmax and not escaped:\n",
    "            \n",
    "            states_old = self.history[-1]\n",
    "\n",
    "            if t + dt > tmax:\n",
    "                dt = tmax-t\n",
    "\n",
    "            states_new = self.single_step_yoshida(states_old, dt)\n",
    "\n",
    "            t += dt\n",
    "            \n",
    "            self.time.append(t)\n",
    "            self.history.append(states_new)\n",
    "\n",
    "            # check if any planet has escaped\n",
    "            for n, s in enumerate(states_new):\n",
    "                if n == 0:\n",
    "                    continue\n",
    "                if np.sqrt(s.x**2 + s.y**2) > self.escape_radius:\n",
    "                    print(f\"planet {n} escaped!\")\n",
    "                    escaped = True\n",
    "                    \n",
    "    def plot(self, draw_original_orbits=True):\n",
    "        fig, ax = plt.subplots()\n",
    "\n",
    "        if draw_original_orbits:\n",
    "            theta = np.radians(np.arange(361))\n",
    "            for n in range(self.nobjects):\n",
    "                ax.plot(self.a_initial[n]*np.cos(theta),\n",
    "                        self.a_initial[n]*np.sin(theta),\n",
    "                        ls=\":\", color=f\"C{n}\")\n",
    "\n",
    "        for n in range(self.nobjects):\n",
    "                    \n",
    "            xs = [q[n].x for q in self.history]\n",
    "            ys = [q[n].y for q in self.history]\n",
    "            if n == 0:\n",
    "                label = \"*\"\n",
    "            else:\n",
    "                label = f\"planet {n}\"\n",
    "            ax.plot(xs, ys, color=f\"C{n}\", label=label)\n",
    "\n",
    "        ax.axis(\"equal\")\n",
    "        ax.legend(fontsize=\"small\")\n",
    "        return fig"
   ]
  },
  {
   "cell_type": "code",
   "execution_count": 5,
   "id": "d15eeeb8-6246-48e1-a3ee-c7045194e30a",
   "metadata": {},
   "outputs": [],
   "source": [
    "# these are roughly the HR 8799 planet orbits\n",
    "m_planets = [0.0054, 0.0074, 0.0087, 0.0071]\n",
    "a_planets = [71.6, 41.4, 26.7, 16.3]\n",
    "\n",
    "# the system seems stable if we omit planet 3\n",
    "m_planets = [0.0054, 0.0074, 0.0071]\n",
    "a_planets = [71.6, 41.4, 16.3]\n"
   ]
  },
  {
   "cell_type": "code",
   "execution_count": 6,
   "id": "3f6c1c40-7265-49d5-9ed5-313babf3c904",
   "metadata": {},
   "outputs": [],
   "source": [
    "s = SolarSystem(1.5, m_planets=m_planets, a_planets=a_planets, escape_radius=1000)"
   ]
  },
  {
   "cell_type": "code",
   "execution_count": 7,
   "id": "245f9325-ab24-44fd-b3f5-bdcb797796e6",
   "metadata": {},
   "outputs": [
    {
     "name": "stdout",
     "output_type": "stream",
     "text": [
      "  1.500000:   0.125746  -0.128205   0.002400   0.011411\n",
      "  0.005400:  25.720964  66.820596  -0.848724   0.326696\n",
      "  0.007400: -29.801160 -28.737621   0.830187  -0.860911\n",
      "  0.007100: -15.068147   6.216185  -0.726889  -1.761992\n"
     ]
    }
   ],
   "source": [
    "for p in s.history[0]:\n",
    "    print(p)"
   ]
  },
  {
   "cell_type": "code",
   "execution_count": 8,
   "id": "020871d0-91e1-46c4-bc26-80bf612fc9bd",
   "metadata": {},
   "outputs": [
    {
     "name": "stdout",
     "output_type": "stream",
     "text": [
      "object 1, radius = 71.6746615918345\n",
      "object 2, radius = 41.401912860993555\n",
      "object 3, radius = 16.46528667818478\n"
     ]
    },
    {
     "data": {
      "text/plain": [
       "array([[       inf,        inf,        inf,        inf],\n",
       "       [       inf,        inf, 3.77899853, 8.91191156],\n",
       "       [       inf, 3.77899853,        inf, 5.83512364],\n",
       "       [       inf, 8.91191156, 5.83512364,        inf]])"
      ]
     },
     "execution_count": 8,
     "metadata": {},
     "output_type": "execute_result"
    }
   ],
   "source": [
    "s.compute_hill_separation(s.history[0])"
   ]
  },
  {
   "cell_type": "code",
   "execution_count": 9,
   "id": "c523286b-a406-4916-9da2-6f52e00e230f",
   "metadata": {},
   "outputs": [],
   "source": [
    "s.integrate(0.05, 50000)"
   ]
  },
  {
   "cell_type": "code",
   "execution_count": 10,
   "id": "8abd8c38-2603-4b9a-aa2b-215964cbab18",
   "metadata": {},
   "outputs": [
    {
     "data": {
      "image/png": "[encoded data removed]",
      "text/plain": [
       "<Figure size 640x480 with 1 Axes>"
      ]
     },
     "metadata": {},
     "output_type": "display_data"
    }
   ],
   "source": [
    "fig = s.plot()"
   ]
  },
  {
   "cell_type": "code",
   "execution_count": null,
   "id": "bcfb1fee-2820-46d0-8412-868ef7ba25ce",
   "metadata": {},
   "outputs": [],
   "source": []
  }
 ],
 "metadata": {
  "kernelspec": {
   "display_name": "Python 3 (ipykernel)",
   "language": "python",
   "name": "python3"
  },
  "language_info": {
   "codemirror_mode": {
    "name": "ipython",
    "version": 3
   },
   "file_extension": ".py",
   "mimetype": "text/x-python",
   "name": "python",
   "nbconvert_exporter": "python",
   "pygments_lexer": "ipython3",
   "version": "3.13.1"
  }
 },
 "nbformat": 4,
 "nbformat_minor": 5
}
